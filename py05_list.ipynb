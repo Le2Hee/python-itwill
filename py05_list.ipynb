{
  "nbformat": 4,
  "nbformat_minor": 0,
  "metadata": {
    "colab": {
      "provenance": [],
      "authorship_tag": "ABX9TyMEs7u73Fve3yu2UqIepwav"
    },
    "kernelspec": {
      "name": "python3",
      "display_name": "Python 3"
    },
    "language_info": {
      "name": "python"
    }
  },
  "cells": [
    {
      "cell_type": "markdown",
      "source": [
        "# list\n",
        "\n",
        "* 여러 개의 값들을 하나의 변수에 저장하기 위한 데이터 타입. (java의 list와 다른 점은 java는 한 가지 타입만 저장이 가능하다.)\n",
        "* 하나의 list에 다양한 값들(문자열, 숫자, ...)를 다 넣을 수 있다.\n",
        "* element(원소, 요소) : 리스트에 저장되는 각각의 값.\n",
        "* index(인덱스) : 리스트에서 원소가 저장된 위치.\n",
        "    * 리스트의 인덱스는 **0**부터 시작.\n",
        "    * 리스트의 마지막 인덱스는 (원소 개수 -1).\n",
        "* 리스트는 원소들을 추가, 삭제, 변경할 수 있다.\n",
        "    * `tuple`과 다른 점!\n",
        "        * 리스트는 변경 가능한 여러개의 값들을 저장하는것.\n",
        "        * tuple은 여러개의 값들을 가지고 있지만, 추가, 삭제, 변경이 안된다.\n",
        "    "
      ],
      "metadata": {
        "id": "4UsLJv_ah2q9"
      }
    },
    {
      "cell_type": "code",
      "execution_count": null,
      "metadata": {
        "colab": {
          "base_uri": "https://localhost:8080/"
        },
        "id": "7HenBSRzhhHY",
        "outputId": "ea1176c1-947a-4f3a-e746-b243e75e6534"
      },
      "outputs": [
        {
          "output_type": "execute_result",
          "data": {
            "text/plain": [
              "[1, 2, 3, 10, 20, 30]"
            ]
          },
          "metadata": {},
          "execution_count": 1
        }
      ],
      "source": [
        "# 리스트를 만드는 방법\n",
        "# 숫자들을 저장하는 리스트\n",
        "numbers = [] # 비어있는 리스트\n",
        "numbers = [1, 2, 3, 10, 20, 30] # 6개의 정수들을 가지고 있는 리스트\n",
        "numbers"
      ]
    },
    {
      "cell_type": "markdown",
      "source": [
        "# 인덱싱(indexing)\n",
        "인덱스를 사용해서 리스트의 원소를 참조하는 방법."
      ],
      "metadata": {
        "id": "NdknGHXmnmDE"
      }
    },
    {
      "cell_type": "code",
      "source": [
        "numbers[0] # 리스트 numbers의 인덱스 0 위치의 원소"
      ],
      "metadata": {
        "colab": {
          "base_uri": "https://localhost:8080/"
        },
        "id": "Kyrr7PFXn9fc",
        "outputId": "7fb468e0-b2c7-49c2-9836-f7c0dcf964bf"
      },
      "execution_count": null,
      "outputs": [
        {
          "output_type": "execute_result",
          "data": {
            "text/plain": [
              "1"
            ]
          },
          "metadata": {},
          "execution_count": 3
        }
      ]
    },
    {
      "cell_type": "code",
      "source": [
        "numbers[5] # 리스트 numbers의 인덱스 5 위치의 원소"
      ],
      "metadata": {
        "colab": {
          "base_uri": "https://localhost:8080/"
        },
        "id": "ZiE9HPrcoByU",
        "outputId": "dd76dc4c-c6f4-4c78-f39b-e2b5470007e1"
      },
      "execution_count": null,
      "outputs": [
        {
          "output_type": "execute_result",
          "data": {
            "text/plain": [
              "30"
            ]
          },
          "metadata": {},
          "execution_count": 4
        }
      ]
    },
    {
      "cell_type": "code",
      "source": [
        "numbers[-1] # 리스트에서 가장 마지막 원소"
      ],
      "metadata": {
        "colab": {
          "base_uri": "https://localhost:8080/"
        },
        "id": "8ymi7LMpoZXD",
        "outputId": "7eb531bc-84ac-4492-9de7-1e70620848e1"
      },
      "execution_count": null,
      "outputs": [
        {
          "output_type": "execute_result",
          "data": {
            "text/plain": [
              "30"
            ]
          },
          "metadata": {},
          "execution_count": 6
        }
      ]
    },
    {
      "cell_type": "code",
      "source": [
        "numbers[-2] # 리스트에서 뒤에서 2번째 원소"
      ],
      "metadata": {
        "colab": {
          "base_uri": "https://localhost:8080/"
        },
        "id": "MPXfLj7hogZB",
        "outputId": "aecf2211-8c3e-45ca-b317-cfab16016353"
      },
      "execution_count": null,
      "outputs": [
        {
          "output_type": "execute_result",
          "data": {
            "text/plain": [
              "20"
            ]
          },
          "metadata": {},
          "execution_count": 7
        }
      ]
    },
    {
      "cell_type": "markdown",
      "source": [
        "# slicing\n",
        "\n",
        "인덱스를 사용해서 리스트의 부분집합(리스트)를 잘라내는 방법.\n",
        "\n",
        "하는 방법\n",
        "\n",
        "`list[start:end]`\n",
        "\n",
        "* start <= index < end 범위의 인덱스 위치의 원소들을 잘라냄.\n",
        "* start는 생략 가능하지만 :은 생략할 수 없다.\n",
        "* start를 생략한 경우에는 첫번째 원소부터 잘라낸다.\n",
        "    * `list[0:5]`과 `list[:5]`는 같은 결과.\n",
        "* end를 생략한 경우에는 마지막 원소까지 잘아낸다.\n",
        "* 리스트를 slicing한 결과는 또 다른 새로운 **리스트**이다."
      ],
      "metadata": {
        "id": "hXQSxDoZqRQq"
      }
    },
    {
      "cell_type": "code",
      "source": [
        "numbers"
      ],
      "metadata": {
        "colab": {
          "base_uri": "https://localhost:8080/"
        },
        "id": "Sa6ExfU8raAL",
        "outputId": "795c4980-1251-4164-9bd5-97aee1135093"
      },
      "execution_count": null,
      "outputs": [
        {
          "output_type": "execute_result",
          "data": {
            "text/plain": [
              "[1, 2, 3, 10, 20, 30]"
            ]
          },
          "metadata": {},
          "execution_count": 12
        }
      ]
    },
    {
      "cell_type": "code",
      "source": [
        "numbers[1:4] # 1 <= index < 4"
      ],
      "metadata": {
        "colab": {
          "base_uri": "https://localhost:8080/"
        },
        "id": "6JtvDizKrcOy",
        "outputId": "f0783e7a-562d-4a81-bae5-bb07a33aad4b"
      },
      "execution_count": null,
      "outputs": [
        {
          "output_type": "execute_result",
          "data": {
            "text/plain": [
              "[2, 3, 10]"
            ]
          },
          "metadata": {},
          "execution_count": 17
        }
      ]
    },
    {
      "cell_type": "code",
      "source": [
        "numbers[3:6]"
      ],
      "metadata": {
        "colab": {
          "base_uri": "https://localhost:8080/"
        },
        "id": "WzKrfTEdshWj",
        "outputId": "9518ee5d-df84-4109-a686-e38505a1a984"
      },
      "execution_count": null,
      "outputs": [
        {
          "output_type": "execute_result",
          "data": {
            "text/plain": [
              "[10, 20, 30]"
            ]
          },
          "metadata": {},
          "execution_count": 25
        }
      ]
    },
    {
      "cell_type": "code",
      "source": [
        "numbers[3:]"
      ],
      "metadata": {
        "colab": {
          "base_uri": "https://localhost:8080/"
        },
        "id": "Skc0_d9IssKN",
        "outputId": "d601665f-8771-493d-efd5-9448e7a731be"
      },
      "execution_count": null,
      "outputs": [
        {
          "output_type": "execute_result",
          "data": {
            "text/plain": [
              "[10, 20, 30]"
            ]
          },
          "metadata": {},
          "execution_count": 28
        }
      ]
    },
    {
      "cell_type": "code",
      "source": [
        "# 리스트에서 앞에서 3개를 선택\n",
        "numbers[0:3]"
      ],
      "metadata": {
        "colab": {
          "base_uri": "https://localhost:8080/"
        },
        "id": "lTEwmd3DtVeA",
        "outputId": "35e2be1f-e45a-4e64-a2ea-0b0f81d23737"
      },
      "execution_count": null,
      "outputs": [
        {
          "output_type": "execute_result",
          "data": {
            "text/plain": [
              "[1, 2, 3]"
            ]
          },
          "metadata": {},
          "execution_count": 31
        }
      ]
    },
    {
      "cell_type": "code",
      "source": [
        "# 리스트에서 뒤에서 3개를 선택\n",
        "numbers[-3:]"
      ],
      "metadata": {
        "colab": {
          "base_uri": "https://localhost:8080/"
        },
        "id": "t-QWANsDte69",
        "outputId": "977cc6ba-c276-4954-be3f-0514dcbbcfd0"
      },
      "execution_count": null,
      "outputs": [
        {
          "output_type": "execute_result",
          "data": {
            "text/plain": [
              "[10, 20, 30]"
            ]
          },
          "metadata": {},
          "execution_count": 34
        }
      ]
    },
    {
      "cell_type": "code",
      "source": [
        "numbers[0:1] #slicing -> 리스트"
      ],
      "metadata": {
        "colab": {
          "base_uri": "https://localhost:8080/"
        },
        "id": "FOOZyfm2uk1P",
        "outputId": "ce19f847-99ca-48b4-ebe4-93c183c0f497"
      },
      "execution_count": null,
      "outputs": [
        {
          "output_type": "execute_result",
          "data": {
            "text/plain": [
              "[1]"
            ]
          },
          "metadata": {},
          "execution_count": 35
        }
      ]
    },
    {
      "cell_type": "code",
      "source": [
        "numbers[0] # indexing - > 값(숫자)"
      ],
      "metadata": {
        "colab": {
          "base_uri": "https://localhost:8080/"
        },
        "id": "69eWHvd-upVt",
        "outputId": "b16f0709-062f-4217-f76b-31b3f33a84d6"
      },
      "execution_count": null,
      "outputs": [
        {
          "output_type": "execute_result",
          "data": {
            "text/plain": [
              "1"
            ]
          },
          "metadata": {},
          "execution_count": 37
        }
      ]
    },
    {
      "cell_type": "markdown",
      "source": [
        "# 문자열(str)\n",
        "\n",
        "* 문자들의 **리스트.**\n",
        "* 문자열은 인덱스를 사용할 수 있다.\n",
        "* 인덱스를 사용하는 문자열은 indexing, slicing 가능하다."
      ],
      "metadata": {
        "id": "C3pkcKUmu_TZ"
      }
    },
    {
      "cell_type": "code",
      "source": [
        "message = '안녕하세요, 여러분!' # 11개의 문자들로 이루어진 리스트.\n",
        "message"
      ],
      "metadata": {
        "colab": {
          "base_uri": "https://localhost:8080/",
          "height": 35
        },
        "id": "maWWVc0Zu91N",
        "outputId": "f815dbcb-dd66-4bbb-b12a-a803500722a6"
      },
      "execution_count": null,
      "outputs": [
        {
          "output_type": "execute_result",
          "data": {
            "text/plain": [
              "'안녕하세요, 여러분!'"
            ],
            "application/vnd.google.colaboratory.intrinsic+json": {
              "type": "string"
            }
          },
          "metadata": {},
          "execution_count": 40
        }
      ]
    },
    {
      "cell_type": "code",
      "source": [
        "message[0] #문자열에서 첫번째 문자"
      ],
      "metadata": {
        "colab": {
          "base_uri": "https://localhost:8080/",
          "height": 35
        },
        "id": "d9-PCtRgvrTH",
        "outputId": "dce459ac-3c3c-4bd7-d155-532148a80729"
      },
      "execution_count": null,
      "outputs": [
        {
          "output_type": "execute_result",
          "data": {
            "text/plain": [
              "'안'"
            ],
            "application/vnd.google.colaboratory.intrinsic+json": {
              "type": "string"
            }
          },
          "metadata": {},
          "execution_count": 42
        }
      ]
    },
    {
      "cell_type": "code",
      "source": [
        "# 문자열에서 마지막 문자\n",
        "message[-1]"
      ],
      "metadata": {
        "colab": {
          "base_uri": "https://localhost:8080/",
          "height": 35
        },
        "id": "5ciLgJRqv0rp",
        "outputId": "63846d36-405a-4fd5-dea1-df99aeda84c7"
      },
      "execution_count": null,
      "outputs": [
        {
          "output_type": "execute_result",
          "data": {
            "text/plain": [
              "'!'"
            ],
            "application/vnd.google.colaboratory.intrinsic+json": {
              "type": "string"
            }
          },
          "metadata": {},
          "execution_count": 45
        }
      ]
    },
    {
      "cell_type": "code",
      "source": [
        "# 문자열에서 앞에서 3글자\n",
        "message[:3]"
      ],
      "metadata": {
        "colab": {
          "base_uri": "https://localhost:8080/",
          "height": 35
        },
        "id": "R4axLKlAwNto",
        "outputId": "c20a669b-fda4-4c4d-a3d0-1040fb72253b"
      },
      "execution_count": null,
      "outputs": [
        {
          "output_type": "execute_result",
          "data": {
            "text/plain": [
              "'안녕하'"
            ],
            "application/vnd.google.colaboratory.intrinsic+json": {
              "type": "string"
            }
          },
          "metadata": {},
          "execution_count": 47
        }
      ]
    },
    {
      "cell_type": "code",
      "source": [
        "# 문자열에서 뒤에서 3글자\n",
        "message[-3:]"
      ],
      "metadata": {
        "colab": {
          "base_uri": "https://localhost:8080/",
          "height": 35
        },
        "id": "VYKlpuF_wl6w",
        "outputId": "84abf1bd-7527-4961-b9ec-70c394b358ff"
      },
      "execution_count": null,
      "outputs": [
        {
          "output_type": "execute_result",
          "data": {
            "text/plain": [
              "'러분!'"
            ],
            "application/vnd.google.colaboratory.intrinsic+json": {
              "type": "string"
            }
          },
          "metadata": {},
          "execution_count": 49
        }
      ]
    },
    {
      "cell_type": "code",
      "source": [
        "# 문자열 산술 연산 : +, *\n",
        "print('hello' + 'hello')\n",
        "print('hello' * 3)"
      ],
      "metadata": {
        "colab": {
          "base_uri": "https://localhost:8080/"
        },
        "id": "u1K29DFnxFJv",
        "outputId": "edecdb0a-3e95-4ce9-c27b-68f59f8c15c6"
      },
      "execution_count": null,
      "outputs": [
        {
          "output_type": "stream",
          "name": "stdout",
          "text": [
            "hellohello\n",
            "hellohellohello\n"
          ]
        }
      ]
    },
    {
      "cell_type": "markdown",
      "source": [
        "# 리스트의 산술 연산\n",
        "\n",
        "* `list + list`\n",
        "* `list * int` 또는 `int * list`"
      ],
      "metadata": {
        "id": "rYyfv78JxPNR"
      }
    },
    {
      "cell_type": "code",
      "source": [
        "[1, 2, 3] + [4, 5, 6] # concatenate"
      ],
      "metadata": {
        "colab": {
          "base_uri": "https://localhost:8080/"
        },
        "id": "xezAk506xOn4",
        "outputId": "46a1fd74-dcc9-4b98-8a3a-3e805dffc2fc"
      },
      "execution_count": null,
      "outputs": [
        {
          "output_type": "execute_result",
          "data": {
            "text/plain": [
              "[1, 2, 3, 4, 5, 6]"
            ]
          },
          "metadata": {},
          "execution_count": 54
        }
      ]
    },
    {
      "cell_type": "code",
      "source": [
        "[1, 2, 3] * 3"
      ],
      "metadata": {
        "colab": {
          "base_uri": "https://localhost:8080/"
        },
        "id": "JycdhA_Kx04K",
        "outputId": "ead18920-9fc2-473b-a2e8-b3d1acf68185"
      },
      "execution_count": null,
      "outputs": [
        {
          "output_type": "execute_result",
          "data": {
            "text/plain": [
              "[1, 2, 3, 1, 2, 3, 1, 2, 3]"
            ]
          },
          "metadata": {},
          "execution_count": 55
        }
      ]
    },
    {
      "cell_type": "markdown",
      "source": [
        "# list와 for 반복"
      ],
      "metadata": {
        "id": "wVis9phC2FYH"
      }
    },
    {
      "cell_type": "code",
      "source": [
        "for x in 'hello': # 'hello'를 문자들의 리스트라고 생각하자.\n",
        "    print(x)"
      ],
      "metadata": {
        "colab": {
          "base_uri": "https://localhost:8080/"
        },
        "id": "__wseiBp2Ib1",
        "outputId": "62d1e665-6dba-4f0f-aaa5-1f75b5a5c45e"
      },
      "execution_count": null,
      "outputs": [
        {
          "output_type": "stream",
          "name": "stdout",
          "text": [
            "h\n",
            "e\n",
            "l\n",
            "l\n",
            "o\n"
          ]
        }
      ]
    },
    {
      "cell_type": "code",
      "source": [
        "numbers = [1, 10, 5, 100]\n",
        "for x in numbers:\n",
        "    print(x)"
      ],
      "metadata": {
        "colab": {
          "base_uri": "https://localhost:8080/"
        },
        "id": "7MJXInHG2cWa",
        "outputId": "110d303e-df19-4ee3-eda1-f2ae61d2eb3c"
      },
      "execution_count": null,
      "outputs": [
        {
          "output_type": "stream",
          "name": "stdout",
          "text": [
            "1\n",
            "10\n",
            "5\n",
            "100\n"
          ]
        }
      ]
    },
    {
      "cell_type": "code",
      "source": [
        "# len이라는 함수가 있고 len(numbers)를 사용하면 numbers의 개수를 알 수 있다."
      ],
      "metadata": {
        "id": "1DZY10o83Yma"
      },
      "execution_count": null,
      "outputs": []
    },
    {
      "cell_type": "code",
      "source": [
        "for x in range(len(numbers)):\n",
        "    print(x) # 인덱스를 출력한다."
      ],
      "metadata": {
        "colab": {
          "base_uri": "https://localhost:8080/"
        },
        "id": "YBE1wJpz3pZm",
        "outputId": "ce3786c5-9969-458a-fd32-d42f3f349734"
      },
      "execution_count": null,
      "outputs": [
        {
          "output_type": "stream",
          "name": "stdout",
          "text": [
            "0\n",
            "1\n",
            "2\n",
            "3\n"
          ]
        }
      ]
    },
    {
      "cell_type": "code",
      "source": [
        "for i in range(len(numbers)): # 0 <= x < len\n",
        "    print(i, ':', numbers[i])"
      ],
      "metadata": {
        "colab": {
          "base_uri": "https://localhost:8080/"
        },
        "id": "iD-P30Nl37jQ",
        "outputId": "4d84db9d-7d50-49fc-d698-951f2f270c76"
      },
      "execution_count": null,
      "outputs": [
        {
          "output_type": "stream",
          "name": "stdout",
          "text": [
            "0 : 1\n",
            "1 : 10\n",
            "2 : 5\n",
            "3 : 100\n"
          ]
        }
      ]
    },
    {
      "cell_type": "code",
      "source": [
        "# 파이썬은 위에 함수도 가능하지만 다른 함수를 사용한다.\n",
        "for i, v in enumerate(numbers): # enumerate는 반복할때 마다 2개의 값을 리턴해준다.\n",
        "    print(i, ':', v)"
      ],
      "metadata": {
        "colab": {
          "base_uri": "https://localhost:8080/"
        },
        "id": "suXBydxk4RI_",
        "outputId": "feaf7bfc-d8d1-40d6-a67c-c9845ad4cfad"
      },
      "execution_count": null,
      "outputs": [
        {
          "output_type": "stream",
          "name": "stdout",
          "text": [
            "0 : 1\n",
            "1 : 10\n",
            "2 : 5\n",
            "3 : 100\n"
          ]
        }
      ]
    },
    {
      "cell_type": "code",
      "source": [
        "numbers1 = [1, 2, 3]\n",
        "numbers2 = [10, 11, 12]\n",
        "result = [] # 빈(empty) 리스트\n",
        "# numbers1과 numbers2의 같은 인덱스의 원소들끼리의 합을 원소로 갖는 리스트\n",
        "# [11, 13, 15]\n",
        "for i in range(len(numbers1)):\n",
        "    result.append(numbers1[i] + numbers2[i])\n",
        "print(result)"
      ],
      "metadata": {
        "colab": {
          "base_uri": "https://localhost:8080/"
        },
        "id": "U4g4Isqs53pe",
        "outputId": "6396377d-e806-4922-d517-04a6f4f160d3"
      },
      "execution_count": null,
      "outputs": [
        {
          "output_type": "stream",
          "name": "stdout",
          "text": [
            "[11, 13, 15]\n"
          ]
        }
      ]
    },
    {
      "cell_type": "code",
      "source": [
        "result = []\n",
        "for x, y in zip(numbers1, numbers2):\n",
        "    result.append(x + y)\n",
        "result"
      ],
      "metadata": {
        "colab": {
          "base_uri": "https://localhost:8080/"
        },
        "id": "2lyhRLlA8mrW",
        "outputId": "ba8afc7c-3cc4-4bfd-c702-f0bb660fbe74"
      },
      "execution_count": null,
      "outputs": [
        {
          "output_type": "execute_result",
          "data": {
            "text/plain": [
              "[11, 13, 15]"
            ]
          },
          "metadata": {},
          "execution_count": 80
        }
      ]
    },
    {
      "cell_type": "code",
      "source": [
        "import random # random 모듈을 임포트\n",
        "              # 파일에서 import는 한번만 하자."
      ],
      "metadata": {
        "id": "ko1yHXU_-Gbh"
      },
      "execution_count": 4,
      "outputs": []
    },
    {
      "cell_type": "code",
      "source": [
        "# random 모듈의 random() 함수를 호출\n",
        "random.random() # 파이썬에서는 모듈이름을 변수로 쓰고, 그 뒤에 함수를 불러온다.\n",
        "# [0, 1) 범위 (0 <= x < 1)의 실수 난수를 리턴해 준다."
      ],
      "metadata": {
        "colab": {
          "base_uri": "https://localhost:8080/"
        },
        "id": "qgT4Drzr-PtN",
        "outputId": "54703b75-4fd3-455c-8a6f-f1c41a791b8f"
      },
      "execution_count": null,
      "outputs": [
        {
          "output_type": "execute_result",
          "data": {
            "text/plain": [
              "0.06268190221879699"
            ]
          },
          "metadata": {},
          "execution_count": 93
        }
      ]
    },
    {
      "cell_type": "code",
      "source": [
        "# random 모듈의 randranga() 함수를 호출\n",
        "random.randrange(10) # [0, 10) 범위의 정수 난수를 리턴한다."
      ],
      "metadata": {
        "colab": {
          "base_uri": "https://localhost:8080/"
        },
        "id": "z2KFmLzH-_5y",
        "outputId": "6c080347-b4e7-4872-85cd-c20b74f704d7"
      },
      "execution_count": null,
      "outputs": [
        {
          "output_type": "execute_result",
          "data": {
            "text/plain": [
              "2"
            ]
          },
          "metadata": {},
          "execution_count": 105
        }
      ]
    },
    {
      "cell_type": "code",
      "source": [
        "random.randrange(1, 4) # [1, 4) 범위의 정수 난수를 리턴."
      ],
      "metadata": {
        "colab": {
          "base_uri": "https://localhost:8080/"
        },
        "id": "cNtisT_N_eRI",
        "outputId": "2ae0f855-ae4f-466e-bd0d-914c85a2b7ef"
      },
      "execution_count": null,
      "outputs": [
        {
          "output_type": "execute_result",
          "data": {
            "text/plain": [
              "2"
            ]
          },
          "metadata": {},
          "execution_count": 108
        }
      ]
    },
    {
      "cell_type": "markdown",
      "source": [
        "# Exercises\n",
        "\n",
        "# Ex 1.\n",
        "빈 리스트를 생성.\n",
        "\n",
        "1 이상 10 이하의 정수 난수 5개를 저장.\n",
        "\n",
        "리스트의 모든 정수들의 합을 출력.\n",
        "\n",
        "리스트의 모든 정수들의 평균을 출력."
      ],
      "metadata": {
        "id": "gb89pVJzCRYc"
      }
    },
    {
      "cell_type": "code",
      "source": [
        "numbers = [random.randrange(1, 11) for _ in range(5)]\n",
        "print('numbers : ', numbers)\n",
        "total = sum(numbers)\n",
        "print('total : ', total)\n",
        "av = total / len(numbers)\n",
        "print('av : ', av)"
      ],
      "metadata": {
        "colab": {
          "base_uri": "https://localhost:8080/"
        },
        "id": "z3vHRAQCvfsK",
        "outputId": "bc1d0390-543b-44cb-be06-49675deebbdc"
      },
      "execution_count": 47,
      "outputs": [
        {
          "output_type": "stream",
          "name": "stdout",
          "text": [
            "numbers :  [10, 2, 8, 3, 8]\n",
            "total :  31\n",
            "av :  6.2\n"
          ]
        }
      ]
    },
    {
      "cell_type": "code",
      "source": [
        "numbers = []\n",
        "for x in range(5):\n",
        "    x = random.randrange(1, 11)\n",
        "    numbers.append(x)\n",
        "print('numbers : ', numbers)\n",
        "\n",
        "numbers_sum = 0\n",
        "\n",
        "for x in numbers:\n",
        "    numbers_sum += x\n",
        "print('합계 : ', numbers_sum)\n",
        "\n",
        "av = numbers_sum / 5\n",
        "print('평균 : ', av)"
      ],
      "metadata": {
        "colab": {
          "base_uri": "https://localhost:8080/"
        },
        "id": "r63wSWip_v2x",
        "outputId": "73261512-a003-4f1d-b45b-a60fbec3f5c6"
      },
      "execution_count": 16,
      "outputs": [
        {
          "output_type": "stream",
          "name": "stdout",
          "text": [
            "numbers :  [7, 5, 10, 1, 9]\n",
            "합계 :  32\n",
            "평균 :  6.4\n"
          ]
        }
      ]
    },
    {
      "cell_type": "code",
      "source": [
        "# for문 안에 변수를 사용하지 않으면 굳이 변수를 선언 하지 말고 _로 표현이 가능하다\n",
        "numbers = []\n",
        "for _ in range(5):\n",
        "    numbers.append(random.randrange(1, 11))\n",
        "\n",
        "total = sum(numbers) # sum 함수를 이용하면 총 합을 계산할 수 있다.\n",
        "print(total)\n",
        "\n",
        "average = total / len(numbers)\n",
        "print(average)"
      ],
      "metadata": {
        "colab": {
          "base_uri": "https://localhost:8080/"
        },
        "id": "fXu8HXlahjI-",
        "outputId": "9dd746a5-99b7-43f2-be03-43168f2f3204"
      },
      "execution_count": 17,
      "outputs": [
        {
          "output_type": "stream",
          "name": "stdout",
          "text": [
            "28\n",
            "5.6\n"
          ]
        }
      ]
    },
    {
      "cell_type": "markdown",
      "source": [
        "# Ex 2.\n",
        "빈 리스트(numbers)를 생성.\n",
        "\n",
        "10 이상, 100 미만의 정수 난수 10개를 numbers에 저장.\n",
        "\n",
        "numbers에서 짝수들만 선택해서 evens 리스트를 만들고 출력.\n",
        "\n",
        "numbers에서 홀수들만 선택해서 odds 리스트를 만들고 출력.\n",
        "\n"
      ],
      "metadata": {
        "id": "ajd-UjJbC1GM"
      }
    },
    {
      "cell_type": "code",
      "source": [
        "numbers = [random.randrange(10, 100) for _ in range(10)]\n",
        "print('numbers : ', numbers)\n",
        "\n",
        "evens = [x for x in numbers if x % 2 == 0]\n",
        "print('evens : ', evens)\n",
        "\n",
        "odds = [x for x in numbers if x % 2 == 1]\n",
        "print('odds : ', odds)"
      ],
      "metadata": {
        "colab": {
          "base_uri": "https://localhost:8080/"
        },
        "id": "wOvbBLxrwbkR",
        "outputId": "39b27ae6-b5f3-4425-908a-c9942b745036"
      },
      "execution_count": 59,
      "outputs": [
        {
          "output_type": "stream",
          "name": "stdout",
          "text": [
            "numbers :  [55, 62, 82, 17, 55, 52, 45, 80, 93, 62]\n",
            "evens :  [62, 82, 52, 80, 62]\n",
            "odds :  [55, 17, 55, 45, 93]\n"
          ]
        }
      ]
    },
    {
      "cell_type": "code",
      "source": [
        "numbers = []\n",
        "for x in range(10):\n",
        "    numbers.append(random.randrange(10, 100))\n",
        "print('numbers : ', numbers)\n",
        "\n",
        "evens = []\n",
        "odds = []\n",
        "for x in numbers:\n",
        "    if x % 2 == 0:\n",
        "        evens.append(x)\n",
        "    else:\n",
        "        odds.append(x)\n",
        "print('evens : ', evens)\n",
        "print('odds : ', odds)"
      ],
      "metadata": {
        "colab": {
          "base_uri": "https://localhost:8080/"
        },
        "id": "m-HWNDoOE3pD",
        "outputId": "b6ee5d4b-77f9-42be-c997-752721170ef5"
      },
      "execution_count": 18,
      "outputs": [
        {
          "output_type": "stream",
          "name": "stdout",
          "text": [
            "numbers :  [43, 78, 84, 78, 46, 70, 29, 56, 23, 60]\n",
            "evens :  [78, 84, 78, 46, 70, 56, 60]\n",
            "odds :  [43, 29, 23]\n"
          ]
        }
      ]
    },
    {
      "cell_type": "markdown",
      "source": [
        "# Ex 3.\n",
        "빈 리스트 numbers를 만듦.\n",
        "\n",
        "-10 이상 10 이하인 범위의 정수 난수 10개를 numbers에 저장.\n",
        "\n",
        "numbers의 원소가 양수이면 True, 그렇지 않으면 False를 저장하는 is_positive\n",
        "\n",
        "리스트를 만들고 출력.\n"
      ],
      "metadata": {
        "id": "GFhe1VrJC2nU"
      }
    },
    {
      "cell_type": "code",
      "source": [
        "numbers = [random.randrange(-10, 11) for _ in range(10)]\n",
        "print('numbers : ', numbers)\n",
        "\n",
        "is_positive = [True if x > 0 else False for x in numbers]\n",
        "print('is_positive : ', is_positive)"
      ],
      "metadata": {
        "colab": {
          "base_uri": "https://localhost:8080/"
        },
        "id": "537V7B79x4GC",
        "outputId": "ce20c865-89c2-4c7c-b07c-a568a300e251"
      },
      "execution_count": 60,
      "outputs": [
        {
          "output_type": "stream",
          "name": "stdout",
          "text": [
            "numbers :  [5, -1, 1, 2, -6, 6, 4, 7, -6, 8]\n",
            "is_positive :  [True, False, True, True, False, True, True, True, False, True]\n"
          ]
        }
      ]
    },
    {
      "cell_type": "code",
      "source": [
        "numbers = []\n",
        "for x in range(10):\n",
        "    numbers.append(random.randrange(-10, 11))\n",
        "print('numbers : ', numbers)\n",
        "\n",
        "is_positive = []\n",
        "\n",
        "for x in numbers:\n",
        "    if x > 0:\n",
        "        is_positive.append(True)\n",
        "    else:\n",
        "        is_positive.append(False)\n",
        "print('is_positive : ', is_positive)"
      ],
      "metadata": {
        "colab": {
          "base_uri": "https://localhost:8080/"
        },
        "id": "8-jF5MTMFlNM",
        "outputId": "99efa5c9-fd6d-4fed-de71-9df4c8d8febb"
      },
      "execution_count": 21,
      "outputs": [
        {
          "output_type": "stream",
          "name": "stdout",
          "text": [
            "numbers :  [-7, -4, -3, 9, -10, 8, -7, -3, -10, -1]\n",
            "is_positive :  [False, False, False, True, False, True, False, False, False, False]\n"
          ]
        }
      ]
    },
    {
      "cell_type": "markdown",
      "source": [
        "# Ex 4.\n",
        "gender_codes 리스트에 0 또는 1을 랜덤하게 10개를 저장.\n",
        "\n",
        "gender_codes의 값이 0이면 'Male', 그렇지 않으며 'Female'을 저장하는 genders\n",
        "\n",
        "리스트를 만들고 출력.\n",
        "\n",
        "\n"
      ],
      "metadata": {
        "id": "IckQe_AiC5Ns"
      }
    },
    {
      "cell_type": "code",
      "source": [
        "gender_codes = [random.randrange(0, 2) for _ in range(10)]\n",
        "print('gender_codes : ', gender_codes)\n",
        "\n",
        "genders = ['Male' if x == 0 else 'Female' for x in gender_codes]\n",
        "print('genders : ', genders)"
      ],
      "metadata": {
        "colab": {
          "base_uri": "https://localhost:8080/"
        },
        "id": "NSMujH3KyP-q",
        "outputId": "2bf03501-b4c2-473f-ec77-89c71d3c66a5"
      },
      "execution_count": 63,
      "outputs": [
        {
          "output_type": "stream",
          "name": "stdout",
          "text": [
            "gender_codes :  [0, 0, 1, 1, 1, 0, 0, 0, 1, 0]\n",
            "genders :  ['Male', 'Male', 'Female', 'Female', 'Female', 'Male', 'Male', 'Male', 'Female', 'Male']\n"
          ]
        }
      ]
    },
    {
      "cell_type": "code",
      "source": [
        "gender_codes = []\n",
        "for x in range(10):\n",
        "    gender_codes.append(random.randrange(0, 2))\n",
        "print('gender_codes : ', gender_codes)\n",
        "\n",
        "genders = []\n",
        "for x in gender_codes:\n",
        "    if x == 0:\n",
        "        genders.append('Male')\n",
        "    else:\n",
        "        genders.append('Female')\n",
        "print('genders : ', genders)"
      ],
      "metadata": {
        "colab": {
          "base_uri": "https://localhost:8080/"
        },
        "id": "WyaEhOy4GPac",
        "outputId": "bd5af8bd-88aa-4a97-fc56-821226271408"
      },
      "execution_count": null,
      "outputs": [
        {
          "output_type": "stream",
          "name": "stdout",
          "text": [
            "gender_codes :  [1, 1, 1, 1, 1, 0, 0, 1, 0, 1]\n",
            "genders :  ['Female', 'Female', 'Female', 'Female', 'Female', 'Male', 'Male', 'Female', 'Male', 'Female']\n"
          ]
        }
      ]
    },
    {
      "cell_type": "markdown",
      "source": [
        "# Ex 5.\n",
        "numbers1: 100 미만의 정수 난수 10개를 저장하는 리스트.\n",
        "\n",
        "numbers2: 100 미만의 정수 난수 10개를 저장하는 리스트.\n",
        "\n",
        "multiplication: numbers1과 numbers2의 같은 인덱스에 있는 원소들끼리의 곱셈\n",
        "\n",
        "결과를 저장하는 리스트.\n",
        "\n",
        "subtraction: numbers1의 원소에서 같은 인덱스에 있는 numbers2의 원소를 뺀 값을\n",
        "\n",
        "저장하는 리스트.\n",
        "\n",
        "numbers1, numbers2, multiplication, subtraction를 출력."
      ],
      "metadata": {
        "id": "YL4CKY9HC6es"
      }
    },
    {
      "cell_type": "code",
      "source": [
        "x = -1\n",
        "is_positive = True if x > 0 else False # 삼항 연산자\n",
        "\n",
        "is_positive"
      ],
      "metadata": {
        "colab": {
          "base_uri": "https://localhost:8080/"
        },
        "id": "NRwx7RuU8nBH",
        "outputId": "7f8ba1e3-16f0-40e2-c5bb-f0ec41d690b9"
      },
      "execution_count": 83,
      "outputs": [
        {
          "output_type": "execute_result",
          "data": {
            "text/plain": [
              "False"
            ]
          },
          "metadata": {},
          "execution_count": 83
        }
      ]
    },
    {
      "cell_type": "code",
      "source": [
        "numbers1 = [random.randrange(100) for _ in range(10)]\n",
        "numbers2 = [random.randrange(100) for _ in range(10)]\n",
        "print('numbers1 : ', numbers1)\n",
        "print('numbers2 : ', numbers2)\n",
        "\n",
        "multiplication = [x + y for x, y in zip(numbers1, numbers2)]\n",
        "print('multiplication : ', multiplication)\n",
        "\n",
        "subtraction = [x - y for x, y in zip(numbers1, numbers2)]\n",
        "print('subtraction : ', subtraction)"
      ],
      "metadata": {
        "colab": {
          "base_uri": "https://localhost:8080/"
        },
        "id": "Hfagd3wUylQi",
        "outputId": "8687db38-3020-404b-fbf9-1c533afad274"
      },
      "execution_count": 78,
      "outputs": [
        {
          "output_type": "stream",
          "name": "stdout",
          "text": [
            "numbers1 :  [25, 71, 76, 27, 29, 61, 26, 8, 2, 43]\n",
            "numbers2 :  [67, 43, 30, 39, 87, 4, 54, 63, 51, 42]\n",
            "multiplication :  [92, 114, 106, 66, 116, 65, 80, 71, 53, 85]\n",
            "subtraction :  [-42, 28, 46, -12, -58, 57, -28, -55, -49, 1]\n"
          ]
        }
      ]
    },
    {
      "cell_type": "code",
      "source": [
        "numbers1 = []\n",
        "numbers2 = []\n",
        "\n",
        "for x in range(10):\n",
        "    numbers1.append(random.randrange(0, 100))\n",
        "    numbers2.append(random.randrange(0, 100))\n",
        "print('numbers1 : ', numbers1)\n",
        "print('numbers2 : ', numbers2)\n",
        "\n",
        "multiplication = []\n",
        "subtraction = []\n",
        "\n",
        "for x, y in zip(numbers1, numbers2):\n",
        "    multiplication.append(x + y)\n",
        "    subtraction.append(x - y)\n",
        "print('multiplication : ', multiplication)\n",
        "print('subtraction : ', subtraction)"
      ],
      "metadata": {
        "colab": {
          "base_uri": "https://localhost:8080/"
        },
        "id": "yTA0A5JuGz-T",
        "outputId": "1685fc25-5ac7-465f-a77d-d97852209d42"
      },
      "execution_count": null,
      "outputs": [
        {
          "output_type": "stream",
          "name": "stdout",
          "text": [
            "numbers1 :  [69, 20, 35, 78, 28, 97, 95, 49, 16, 36]\n",
            "numbers2 :  [44, 41, 87, 55, 75, 30, 1, 44, 71, 96]\n",
            "multiplication :  [113, 61, 122, 133, 103, 127, 96, 93, 87, 132]\n",
            "subtraction :  [25, -21, -52, 23, -47, 67, 94, 5, -55, -60]\n"
          ]
        }
      ]
    },
    {
      "cell_type": "markdown",
      "source": [
        "# List comprehension(리스트 내포)\n",
        "\n",
        "1 ~ 10 정수들을 순서대로 리스트에 저장 : [1, 2, 3, ..., 9, 10]"
      ],
      "metadata": {
        "id": "2G8oBPS3tEGz"
      }
    },
    {
      "cell_type": "code",
      "source": [
        "numbers = []\n",
        "for x in range(1, 11):\n",
        "    numbers.append(x)\n",
        "numbers"
      ],
      "metadata": {
        "colab": {
          "base_uri": "https://localhost:8080/"
        },
        "id": "jlvi86IatQeD",
        "outputId": "102b02bd-d698-4f9e-b302-a9ef00db7192"
      },
      "execution_count": 24,
      "outputs": [
        {
          "output_type": "execute_result",
          "data": {
            "text/plain": [
              "[1, 2, 3, 4, 5, 6, 7, 8, 9, 10]"
            ]
          },
          "metadata": {},
          "execution_count": 24
        }
      ]
    },
    {
      "cell_type": "code",
      "source": [
        "# 한줄로 줄여서 표현하기\n",
        "numbers = [x for x in range(1, 11)]\n",
        "numbers"
      ],
      "metadata": {
        "colab": {
          "base_uri": "https://localhost:8080/"
        },
        "id": "M-SIMIAItbuy",
        "outputId": "55635da8-bf40-4a05-8021-a841acfd28ef"
      },
      "execution_count": 29,
      "outputs": [
        {
          "output_type": "execute_result",
          "data": {
            "text/plain": [
              "[1, 2, 3, 4, 5, 6, 7, 8, 9, 10]"
            ]
          },
          "metadata": {},
          "execution_count": 29
        }
      ]
    },
    {
      "cell_type": "code",
      "source": [
        "# [1, 3, 9, 16, ..., 81, 100] 저장하는 리스트 만들기\n",
        "numbers = [x ** 2 for x in range(1, 11)]\n",
        "numbers"
      ],
      "metadata": {
        "colab": {
          "base_uri": "https://localhost:8080/"
        },
        "id": "rLkFtFkIt5DT",
        "outputId": "44a3e672-fb29-4ef5-d429-06dec0482e44"
      },
      "execution_count": 35,
      "outputs": [
        {
          "output_type": "execute_result",
          "data": {
            "text/plain": [
              "[1, 4, 9, 16, 25, 36, 49, 64, 81, 100]"
            ]
          },
          "metadata": {},
          "execution_count": 35
        }
      ]
    },
    {
      "cell_type": "code",
      "source": [
        "# [0, 10) 범위의 난수 10개를 저장하는 리스트\n",
        "numbers = [random.randrange(0, 10) for _ in range(10)]\n",
        "numbers"
      ],
      "metadata": {
        "colab": {
          "base_uri": "https://localhost:8080/"
        },
        "id": "AMCyxieAu-VK",
        "outputId": "b9c441cb-db20-4777-ccd4-10e9363a4e40"
      },
      "execution_count": 38,
      "outputs": [
        {
          "output_type": "execute_result",
          "data": {
            "text/plain": [
              "[4, 1, 9, 0, 5, 3, 6, 0, 5, 9]"
            ]
          },
          "metadata": {},
          "execution_count": 38
        }
      ]
    },
    {
      "cell_type": "code",
      "source": [
        "# filtering\n",
        "[value for x in iterable if condition]\n",
        "\n",
        "# mapping\n",
        "[value1 if condition else value2 for x in iterable]"
      ],
      "metadata": {
        "id": "2lJ45U9cxuAx"
      },
      "execution_count": null,
      "outputs": []
    },
    {
      "cell_type": "markdown",
      "source": [],
      "metadata": {
        "id": "TrG2vQYZxtei"
      }
    },
    {
      "cell_type": "code",
      "source": [
        "gender_codes = [1, 2, 1, 2, 3]\n",
        "\n",
        "# 1 -> 'M', 2 -> 'F', 3 -> 'Unknown' mapping해서 genders에 값 저장하기\n",
        "\n",
        "genders = ['M' if x == 1 else ('F' if x == 2 else 'Unknown') for x in gender_codes ]\n",
        "genders"
      ],
      "metadata": {
        "colab": {
          "base_uri": "https://localhost:8080/"
        },
        "id": "2tCNPDIBA7U-",
        "outputId": "5b4d5aed-3d24-460d-afb8-0d3043f3a20f"
      },
      "execution_count": 84,
      "outputs": [
        {
          "output_type": "execute_result",
          "data": {
            "text/plain": [
              "['M', 'F', 'M', 'F', 'Unknown']"
            ]
          },
          "metadata": {},
          "execution_count": 84
        }
      ]
    }
  ]
}