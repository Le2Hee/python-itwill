{
  "nbformat": 4,
  "nbformat_minor": 0,
  "metadata": {
    "colab": {
      "provenance": [],
      "authorship_tag": "ABX9TyPcfJoiysKLkCP5VNSiW1PJ"
    },
    "kernelspec": {
      "name": "python3",
      "display_name": "Python 3"
    },
    "language_info": {
      "name": "python"
    }
  },
  "cells": [
    {
      "cell_type": "markdown",
      "source": [
        "# Function(함수)"
      ],
      "metadata": {
        "id": "7QZIX0VaE9ji"
      }
    },
    {
      "cell_type": "markdown",
      "source": [
        "* function(함수) : 기능을 수행하는 코드 블록.\n",
        "* argument: 함수를 호출하는 곳에서 함수에게 전달하는 값.\n",
        "* parameter: 지역변수, argument를 저장하기 위해서 함수 선언부에서 선언하는 지역 변수.\n",
        "* return value(반환값) : 함수가 기능의 수행 결과로 리턴하는 값.\n",
        "    * retrun value가 있는 함수\n",
        "    * retrun value가 없는 함수\n",
        "* 파이썬 함수 정의 방법\n",
        "    ```\n",
        "    #파라미터는 함수 이름 옆에 소괄호를 열고 써야한다.\n",
        "    def fuction_name([param, ...]):\n",
        "        # 들여쓰기를 해줘야 한다.\n",
        "        # 문서화 주석을 만들고, 만들때에는 큰따옴표(\") 3개를 써야한다.\n",
        "        [\"\"\"문서화 주석 - 함수 기능 설명, 파라미터 설명, 리턴 값 설명\"\"\"]\n",
        "        함수 기능 구현\n",
        "        [return 값] #리턴값이 없는 경우 생략 가능\n",
        "    ```\n",
        "* return value가 없는 경우:\n",
        "    * return 문장을 생략.\n",
        "    * return None 이라고 명시할 수도 있다."
      ],
      "metadata": {
        "id": "Pu1Xn55kFJ3z"
      }
    },
    {
      "cell_type": "code",
      "source": [
        "def subtract(x, y):\n",
        "    \"\"\"\n",
        "    2개의 숫자 x, y를 전달받아서 x-y 결과를 리턴하는 함수.\n",
        "    \"\"\"\n",
        "\n",
        "    return x - y\n",
        "\n",
        "result = subtract(5, 6)\n",
        "result"
      ],
      "metadata": {
        "colab": {
          "base_uri": "https://localhost:8080/"
        },
        "id": "uEbvU7WEFJEg",
        "outputId": "6bb83024-6a89-4d7e-9195-3d67531d69f3"
      },
      "execution_count": 5,
      "outputs": [
        {
          "output_type": "execute_result",
          "data": {
            "text/plain": [
              "-1"
            ]
          },
          "metadata": {},
          "execution_count": 5
        }
      ]
    },
    {
      "cell_type": "code",
      "source": [
        "# 문자열과 숫자 하나를 전달 받아서 문자열을 숫자 수 만큼 출력해주는 함수.\n",
        "def repeat_message(message, n):\n",
        "    \"\"\"\n",
        "    문자열(message)를 양의 정수(n)번 만큼 반복해서 출력하는 함수.\n",
        "    \"\"\"\n",
        "    for _ in range(n):\n",
        "        print(message)\n",
        "    return None\n",
        "# 리턴 값이 없으면 보통 retrun문을 생략하지만, return None으로 명시하기도 한다.\n",
        "repeat_message('와그작', 7)"
      ],
      "metadata": {
        "colab": {
          "base_uri": "https://localhost:8080/"
        },
        "id": "LsYN7aDoI-1Q",
        "outputId": "08745472-d9cd-40ce-aace-e15b2c73640e"
      },
      "execution_count": 10,
      "outputs": [
        {
          "output_type": "stream",
          "name": "stdout",
          "text": [
            "와그작\n",
            "와그작\n",
            "와그작\n",
            "와그작\n",
            "와그작\n",
            "와그작\n",
            "와그작\n"
          ]
        }
      ]
    },
    {
      "cell_type": "code",
      "source": [
        "import random"
      ],
      "metadata": {
        "id": "r7SMnJ54MrVf"
      },
      "execution_count": 11,
      "outputs": []
    },
    {
      "cell_type": "markdown",
      "source": [
        "#Ex 1.\n",
        "* 함수 이름: make_list\n",
        "* 기능: start 이상 end 미만의 정수 난수 n개를 갖는 리스트를 반환하는 함수."
      ],
      "metadata": {
        "id": "9ZHcFt_kML2I"
      }
    },
    {
      "cell_type": "code",
      "source": [
        "def make_list(start, end, n):\n",
        "    \"\"\"\n",
        "    start 이상 end 미안의 정수 난수 n개를 갖는 리스트를 반환하는 함수.\n",
        "    \"\"\"\n",
        "\n",
        "    return [random.randrange(start, end) for _ in range(n)]\n",
        "\n",
        "numbers = make_list(0, 10, 5)\n",
        "numbers"
      ],
      "metadata": {
        "colab": {
          "base_uri": "https://localhost:8080/"
        },
        "id": "fFEaHKJUMd5X",
        "outputId": "737fb3c0-9b62-4a4a-c09a-a825759c33fe"
      },
      "execution_count": 37,
      "outputs": [
        {
          "output_type": "execute_result",
          "data": {
            "text/plain": [
              "[5, 6, 3, 5, 0]"
            ]
          },
          "metadata": {},
          "execution_count": 37
        }
      ]
    },
    {
      "cell_type": "markdown",
      "source": [
        "#Ex 2.\n",
        "* 함수 이름: calc_sum\n",
        "* 기능: 숫자들의 리스트를 전달받아서, 리스트의 모든 원소들의 합을 리턴하는 함수."
      ],
      "metadata": {
        "id": "ZTPtq_kkMNQQ"
      }
    },
    {
      "cell_type": "code",
      "source": [
        "def calc_sum(numbers):\n",
        "    \"\"\"\n",
        "    숫자들의 리스트를 전달받아서, 리스트의 모든 원소들의 합을 리턴하는 함수.\n",
        "    \"\"\"\n",
        "\n",
        "    total = 0\n",
        "\n",
        "    for x in numbers:\n",
        "        total += x\n",
        "\n",
        "    return total\n",
        "\n",
        "list_total = calc_sum(numbers)\n",
        "list_total"
      ],
      "metadata": {
        "colab": {
          "base_uri": "https://localhost:8080/"
        },
        "id": "Z5xmf1m_NUyo",
        "outputId": "a629a2f1-d054-42e6-ce81-3a09a44c83de"
      },
      "execution_count": 21,
      "outputs": [
        {
          "output_type": "execute_result",
          "data": {
            "text/plain": [
              "303"
            ]
          },
          "metadata": {},
          "execution_count": 21
        }
      ]
    },
    {
      "cell_type": "markdown",
      "source": [
        "# Ex 3.\n",
        "* 함수 이름: calc_mean\n",
        "* 기능: 숫자들의 리스트를 전달받아서, 리스트의 원소들의 평균을 리턴하는 함수."
      ],
      "metadata": {
        "id": "zYwYtDzFMPnX"
      }
    },
    {
      "cell_type": "code",
      "source": [
        "def calc_mean(numbers):\n",
        "    \"\"\"\n",
        "    숫자들의 리스트를 전달받아서, 리스트의 원소들의 평균을 리턴하는 함수.\n",
        "    \"\"\"\n",
        "\n",
        "    return calc_sum(numbers) / len(numbers)\n",
        "\n",
        "list_av = calc_mean(numbers)\n",
        "list_av"
      ],
      "metadata": {
        "colab": {
          "base_uri": "https://localhost:8080/"
        },
        "id": "eWhja2PbOEW4",
        "outputId": "ba5bfd73-4d26-42fa-a914-a94ec54d1991"
      },
      "execution_count": 23,
      "outputs": [
        {
          "output_type": "execute_result",
          "data": {
            "text/plain": [
              "60.6"
            ]
          },
          "metadata": {},
          "execution_count": 23
        }
      ]
    },
    {
      "cell_type": "markdown",
      "source": [
        "# Ex 4.\n",
        "* 함수 이름: calc_var\n",
        "* 기능: 숫자들의 리스트를 전달받아서, 리스트의 원소들의 분산(variance)을 리턴하는 함수.\n",
        "    * 분산 = (값 - 평균)**2 들의 평균"
      ],
      "metadata": {
        "id": "UDbHma_7MW7P"
      }
    },
    {
      "cell_type": "code",
      "source": [
        "def calc_var(numbers):\n",
        "    \"\"\"\n",
        "    숫자들의 리스트를 전달받아서, 리스트의 원소들의 분산(variance)을 리턴하는 함수.\n",
        "    \"\"\"\n",
        "\n",
        "    vari = [(x - calc_mean(numbers))**2 for x in numbers]\n",
        "\n",
        "    return calc_sum(vari) / len(vari)\n",
        "\n",
        "list_vari = calc_var(numbers)\n",
        "list_vari"
      ],
      "metadata": {
        "colab": {
          "base_uri": "https://localhost:8080/"
        },
        "id": "NgEpPtpsOY-v",
        "outputId": "4c263902-023c-4c5e-9d8c-800853f3f375"
      },
      "execution_count": 38,
      "outputs": [
        {
          "output_type": "stream",
          "name": "stdout",
          "text": [
            "[5, 6, 3, 5, 0]\n",
            "3.8\n",
            "[1.4400000000000004, 4.840000000000001, 0.6399999999999997, 1.4400000000000004, 14.44]\n"
          ]
        },
        {
          "output_type": "execute_result",
          "data": {
            "text/plain": [
              "4.5600000000000005"
            ]
          },
          "metadata": {},
          "execution_count": 38
        }
      ]
    }
  ]
}