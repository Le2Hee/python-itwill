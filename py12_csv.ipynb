{
  "nbformat": 4,
  "nbformat_minor": 0,
  "metadata": {
    "colab": {
      "provenance": [],
      "authorship_tag": "ABX9TyPg8tzx+yj9a4I7bQUom3ka"
    },
    "kernelspec": {
      "name": "python3",
      "display_name": "Python 3"
    },
    "language_info": {
      "name": "python"
    }
  },
  "cells": [
    {
      "cell_type": "markdown",
      "source": [
        "CSV(Comma-Separated Values) 파일: 쉼표(,)로 값들이 구분된 텍스트 파일."
      ],
      "metadata": {
        "id": "k_N10YKrqIpQ"
      }
    },
    {
      "cell_type": "markdown",
      "source": [
        "* Colab 가상머신 할당(연결)\n",
        "* Colab에서 Google Drive를 마운트(연결)\n",
        "* Google Drive 'Colab Notebooks/Github/Txt_File' 폴더에 'csv_enam' 파일을 업로드.\n",
        "\n",
        "1. csv_exam.csv 파일을 읽기 모드로 open.\n",
        "1. 파일의 첫번째 줄은 컬럼 이름이기 때문에, 읽고 추가 작업 없이 건너뛰기.\n",
        "1. 파일의 두번째 줄부터 마지막 줄까지 한 줄씩 읽으면서 반복:\n",
        "    * 각 줄에서 읽은 내용을 쉼표(,)로 구분한 리스트들을 저장하는 리스트를 만들기.\n",
        "    * `[['1', '1', '50', '98', '50'],['2', '1', '60', '97', '60'], ...]`\n",
        "1. 위에서 만들어진 2차원 리스트의 모든 값들을 숫자로 변환.\n",
        "    * `[['1', '1', '50', '98', '50'],['2', '1', '60', '97', '60'], ...]`\n",
        "1. 2차원 숫자 리스트에서 수학 점수들로만 이루어진 1차원 리스트를 만들기.\n",
        "    * `[50, 60, 45, ...]`\n",
        "1. 수학 점수의 평균, 최댓값, 최솟값을 찾기.\n",
        "1. 1반(class=1)인 학생들의 수학 점수의 총점, 평균, 최대값, 최솟값을 찾기."
      ],
      "metadata": {
        "id": "14OIuu7PqX0h"
      }
    },
    {
      "cell_type": "code",
      "source": [
        "from google.colab import drive\n",
        "drive.mount('/content/drive')"
      ],
      "metadata": {
        "colab": {
          "base_uri": "https://localhost:8080/"
        },
        "id": "IjXNUTJxqi4R",
        "outputId": "8a42a26b-5e10-49db-dbff-4c0be5b9eb58"
      },
      "execution_count": null,
      "outputs": [
        {
          "output_type": "stream",
          "name": "stdout",
          "text": [
            "Mounted at /content/drive\n"
          ]
        }
      ]
    },
    {
      "cell_type": "code",
      "execution_count": null,
      "metadata": {
        "id": "l1KmwQfhp_vx"
      },
      "outputs": [],
      "source": [
        "class Student:\n",
        "    def __init__(salf, no, class_num, math, english, science):\n",
        "        salf.no = no\n",
        "        salf.class_num = class_num\n",
        "        salf.math = math\n",
        "        salf.english = english\n",
        "        salf.science = science\n",
        "\n",
        "    def get_total(salf):\n",
        "        return salf.math + salf.english + salf.science\n",
        "\n",
        "    def get_mean(salf):\n",
        "        return salf.get_total() / 3\n",
        "\n",
        "    def __repr__(salf):\n",
        "        return f'no = {salf.no}, class = {salf.class_num}, math = {salf.math}, english = {salf.english}, science = {salf.science}'"
      ]
    },
    {
      "cell_type": "code",
      "source": [
        "import os\n",
        "file='/content/drive/MyDrive/Colab Notebooks/Github/Txt_File/csv_exam.csv'"
      ],
      "metadata": {
        "id": "X2f3iyXxubf0"
      },
      "execution_count": null,
      "outputs": []
    },
    {
      "cell_type": "code",
      "source": [
        "with open(file, mode='rt') as f:\n",
        "    line = f.readline()\n",
        "    for line in f:\n",
        "        print(line.strip())"
      ],
      "metadata": {
        "colab": {
          "base_uri": "https://localhost:8080/"
        },
        "id": "PTt83XCvuxK8",
        "outputId": "44b8887e-4be2-470c-93fc-b159b813583f"
      },
      "execution_count": null,
      "outputs": [
        {
          "output_type": "stream",
          "name": "stdout",
          "text": [
            "1,1,50,98,50\n",
            "2,1,60,97,60\n",
            "3,1,45,86,78\n",
            "4,1,30,98,58\n",
            "5,2,25,80,65\n",
            "6,2,50,89,98\n",
            "7,2,80,90,45\n",
            "8,2,90,78,25\n",
            "9,3,20,98,15\n",
            "10,3,50,98,45\n",
            "11,3,65,65,65\n",
            "12,3,45,85,32\n",
            "13,4,46,98,65\n",
            "14,4,48,87,12\n",
            "15,4,75,56,78\n",
            "16,4,58,98,65\n",
            "17,5,65,68,98\n",
            "18,5,80,78,90\n",
            "19,5,89,68,87\n",
            "20,5,78,83,58\n"
          ]
        }
      ]
    },
    {
      "cell_type": "code",
      "source": [
        "students = []\n",
        "with open(file, mode='rt') as f:\n",
        "    line = f.readline()\n",
        "    for line in f:\n",
        "        list = line.split(',')\n",
        "        students.append(Student(list[0], list[1], list[2], list[3], list[4]))\n",
        "print(students[0])"
      ],
      "metadata": {
        "colab": {
          "base_uri": "https://localhost:8080/"
        },
        "id": "9x7h-hMWvWnK",
        "outputId": "90537f3f-1ac1-4ea7-bff0-b4f5050c955e"
      },
      "execution_count": null,
      "outputs": [
        {
          "output_type": "stream",
          "name": "stdout",
          "text": [
            "no = 1, class = 1, math = 50, english = 98, science = 50\n",
            "\n"
          ]
        }
      ]
    },
    {
      "cell_type": "code",
      "source": [
        "students_math = [x.math for x in students]\n",
        "students_math"
      ],
      "metadata": {
        "colab": {
          "base_uri": "https://localhost:8080/"
        },
        "id": "A6l3fNZUwyFX",
        "outputId": "fa1dacba-f371-40b8-973b-fbdf85dfab68"
      },
      "execution_count": null,
      "outputs": [
        {
          "output_type": "execute_result",
          "data": {
            "text/plain": [
              "['50',\n",
              " '60',\n",
              " '45',\n",
              " '30',\n",
              " '25',\n",
              " '50',\n",
              " '80',\n",
              " '90',\n",
              " '20',\n",
              " '50',\n",
              " '65',\n",
              " '45',\n",
              " '46',\n",
              " '48',\n",
              " '75',\n",
              " '58',\n",
              " '65',\n",
              " '80',\n",
              " '89',\n",
              " '78']"
            ]
          },
          "metadata": {},
          "execution_count": 33
        }
      ]
    },
    {
      "cell_type": "code",
      "source": [
        "math_total = sum(int(x) for x in students_math)\n",
        "math_mean = math_total / len(students_math)\n",
        "math_mean"
      ],
      "metadata": {
        "colab": {
          "base_uri": "https://localhost:8080/"
        },
        "id": "6_2bHQbLxCfQ",
        "outputId": "55492f33-bef0-48ea-df57-c027c3cfe84d"
      },
      "execution_count": null,
      "outputs": [
        {
          "output_type": "execute_result",
          "data": {
            "text/plain": [
              "57.45"
            ]
          },
          "metadata": {},
          "execution_count": 38
        }
      ]
    },
    {
      "cell_type": "code",
      "source": [
        "max = students_math[0]\n",
        "min = students_math[0]\n",
        "for x in students_math:\n",
        "    if max < x:\n",
        "        max = x\n",
        "    if min > x:\n",
        "        min = x\n",
        "print(f'최댓값 = {max}, 최솟값 = {min}')"
      ],
      "metadata": {
        "colab": {
          "base_uri": "https://localhost:8080/"
        },
        "id": "E-mhVEgcxes3",
        "outputId": "767a5f1f-aeef-4274-99a2-903453f44ca7"
      },
      "execution_count": null,
      "outputs": [
        {
          "output_type": "stream",
          "name": "stdout",
          "text": [
            "최댓값 = 90, 최솟값 = 20\n"
          ]
        }
      ]
    },
    {
      "cell_type": "code",
      "source": [
        "students_class_one = []\n",
        "for x in students:\n",
        "    if int(x.class_num) == 1:\n",
        "        students_class_one.append(x)\n",
        "print(students_class_one)"
      ],
      "metadata": {
        "colab": {
          "base_uri": "https://localhost:8080/"
        },
        "id": "6mVvSzvgxw1c",
        "outputId": "05db2649-6d0e-45ce-d791-6189167210ca"
      },
      "execution_count": null,
      "outputs": [
        {
          "output_type": "stream",
          "name": "stdout",
          "text": [
            "[no = 1, class = 1, math = 50, english = 98, science = 50\n",
            ", no = 2, class = 1, math = 60, english = 97, science = 60\n",
            ", no = 3, class = 1, math = 45, english = 86, science = 78\n",
            ", no = 4, class = 1, math = 30, english = 98, science = 58\n",
            "]\n"
          ]
        }
      ]
    },
    {
      "cell_type": "code",
      "source": [
        "# 1반(class=1)인 학생들의 수학 점수의 총점, 평균, 최대값, 최솟값을 찾기.\n",
        "students_class_one_total = sum(int(x.math) for x in students_class_one)\n",
        "print(f'총점 = {students_class_one_total}')\n",
        "students_class_one_mean = students_class_one_total / len(students_class_one)\n",
        "print(f'평균 = {students_class_one_mean}')\n",
        "class_one_math_max = students_class_one[0].math\n",
        "class_one_math_min = students_class_one[0].math\n",
        "for x in students_class_one:\n",
        "    if int(x.math) > int(class_one_math_max):\n",
        "        class_one_math_max = int(x.math)\n",
        "\n",
        "    if int(x.math) < int(class_one_math_min):\n",
        "        class_one_math_min = int(x.math)\n",
        "print(f'최댓값 = {class_one_math_max}, 최솟값 = {class_one_math_min}')"
      ],
      "metadata": {
        "colab": {
          "base_uri": "https://localhost:8080/"
        },
        "id": "Vpg_BF_byOmW",
        "outputId": "ea7f5e35-2ad1-4396-af5a-88d35fa0d662"
      },
      "execution_count": null,
      "outputs": [
        {
          "output_type": "stream",
          "name": "stdout",
          "text": [
            "총점 = 185\n",
            "평균 = 46.25\n",
            "최댓값 = 60, 최솟값 = 30\n"
          ]
        }
      ]
    }
  ]
}