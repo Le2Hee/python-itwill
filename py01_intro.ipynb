{
  "nbformat": 4,
  "nbformat_minor": 0,
  "metadata": {
    "colab": {
      "provenance": [],
      "authorship_tag": "ABX9TyP/6FT0er5sLhqkOTW99rZC"
    },
    "kernelspec": {
      "name": "python3",
      "display_name": "Python 3"
    },
    "language_info": {
      "name": "python"
    }
  },
  "cells": [
    {
      "cell_type": "code",
      "execution_count": null,
      "metadata": {
        "id": "ll8JY8WlgBWY"
      },
      "outputs": [],
      "source": []
    },
    {
      "cell_type": "markdown",
      "source": [
        "#토글 형식\n",
        "\n",
        "* 글머리기호\n",
        "    * 글머리기호 안 쪽에 글머리기호"
      ],
      "metadata": {
        "id": "Ve2EP-fi3l0h"
      }
    },
    {
      "cell_type": "markdown",
      "source": [
        "7월 3일"
      ],
      "metadata": {
        "id": "6qW3JwvaXSnA"
      }
    },
    {
      "cell_type": "markdown",
      "source": [
        "#파이썬 버전 확인"
      ],
      "metadata": {
        "id": "Nd04EC7O1xeZ"
      }
    },
    {
      "cell_type": "code",
      "source": [
        "# 파이썬 버전 확인은 파이썬 문법을 이용하는게 아니라 명령 프로프트로 확인해야되는데 이 곳에서 실행할 수 있다.\n",
        "# 그러기 위해서는 구별을 해줘야 한다. -> !를 사용\n",
        "# 코드 셀에서 명령창(command prompt)에서 실행하는 명령어를 작성하고 실행할 때는 !로 시작\n",
        "!python --version"
      ],
      "metadata": {
        "colab": {
          "base_uri": "https://localhost:8080/"
        },
        "id": "AuhbHuoH10rp",
        "outputId": "c695628f-7765-4aef-dcf5-91bea3f91bad"
      },
      "execution_count": null,
      "outputs": [
        {
          "output_type": "stream",
          "name": "stdout",
          "text": [
            "Python 3.10.12\n"
          ]
        }
      ]
    },
    {
      "cell_type": "markdown",
      "source": [
        "이거 텍스트 셀\n",
        "\n",
        "# 파이썬 소개"
      ],
      "metadata": {
        "id": "KtaKJAp70qXJ"
      }
    },
    {
      "cell_type": "code",
      "source": [
        "# <- 여기에 숫자는 몇번 실행했는지 알려주는 거임.\n",
        "# inline comment(주석)\n",
        "print('안녕하세요, Python!') # 파이썬 문장은 세미콜론을 사용하지 않는다.\n",
        "                             # 문자열은 작은 따옴표('')를 사용한다.\n"
      ],
      "metadata": {
        "colab": {
          "base_uri": "https://localhost:8080/"
        },
        "id": "BFfGoVUB0Mwq",
        "outputId": "58199e8f-209f-45bf-bb89-d686b090669b"
      },
      "execution_count": null,
      "outputs": [
        {
          "output_type": "stream",
          "name": "stdout",
          "text": [
            "안녕하세요, Python!\n"
          ]
        }
      ]
    },
    {
      "cell_type": "markdown",
      "source": [
        "# 코드셀 실행 방법\n",
        "\n",
        "* 코드셀 왼쪽의 실행 버튼을 클릭.\n",
        "* Ctrl + Enter : 현재 포커스가 있는 코드셀을 실행.\n",
        "* Shift + Enter : 현재 포커스가 있는 코드셀을 실행하고, 그 다음 셀로 포커스를 이동.\n",
        "    * 현재 셀 아래에 다음 셀이 없는 경우에는 새로운 코드 셀을 자동으로 만들어 줌.\n",
        "* 런타임 메뉴"
      ],
      "metadata": {
        "id": "xs9WBOJYZX_B"
      }
    },
    {
      "cell_type": "markdown",
      "source": [
        "# `print()` 함수 (``을 사용하면 코드 그대로 출력한다.)"
      ],
      "metadata": {
        "id": "035C6xUkbYvA"
      }
    },
    {
      "cell_type": "markdown",
      "source": [
        "## `fotmat()` 메서드를 사용한 출력"
      ],
      "metadata": {
        "id": "hTXNsXthbjyw"
      }
    },
    {
      "cell_type": "code",
      "source": [
        "print('hello', 'python', '안녕하세요')"
      ],
      "metadata": {
        "colab": {
          "base_uri": "https://localhost:8080/"
        },
        "id": "iJbphaCKcdoQ",
        "outputId": "a6beb5dc-13ce-4397-e450-e028f7e5c5f6"
      },
      "execution_count": null,
      "outputs": [
        {
          "output_type": "stream",
          "name": "stdout",
          "text": [
            "hello python 안녕하세요\n"
          ]
        }
      ]
    },
    {
      "cell_type": "markdown",
      "source": [
        "`print()` 함수에 아규먼트를 여러 개 전달하면, 아규먼트들을 공백으로 연결해서 콘솔에 출력한다."
      ],
      "metadata": {
        "id": "v9jk-0W3ckFR"
      }
    },
    {
      "cell_type": "code",
      "source": [
        "print('{} + {} = {}'.format(1, 2, 3)) # 문자열 템플릿"
      ],
      "metadata": {
        "colab": {
          "base_uri": "https://localhost:8080/"
        },
        "id": "-8osSSOpc2y_",
        "outputId": "1b80fa4a-89ce-48d4-bbb9-a796a675b709"
      },
      "execution_count": null,
      "outputs": [
        {
          "output_type": "stream",
          "name": "stdout",
          "text": [
            "1 + 2 = 3\n"
          ]
        }
      ]
    },
    {
      "cell_type": "markdown",
      "source": [
        "# formatted string을 사용한 출력\n",
        "Python 3.6 이상의 버전에서 사용할 수 있음"
      ],
      "metadata": {
        "id": "70zL7ZtXdwte"
      }
    },
    {
      "cell_type": "code",
      "source": [
        "# 변수이름 = 값\n",
        "x = 1\n",
        "y = 2\n",
        "print(f'{x} + {y} = {x + y}') #''앞에 f를 쓰면 formatted string이 된다."
      ],
      "metadata": {
        "colab": {
          "base_uri": "https://localhost:8080/"
        },
        "id": "tPfUb9-Ad3C_",
        "outputId": "e5fafc2f-cf14-4735-fd5d-1f6105a43745"
      },
      "execution_count": null,
      "outputs": [
        {
          "output_type": "stream",
          "name": "stdout",
          "text": [
            "1 + 2 = 3\n"
          ]
        }
      ]
    },
    {
      "cell_type": "markdown",
      "source": [
        "## ipynb 노트북에서의 콘솔 출력\n",
        "* 식(expression) : 값(value), 변수, 연산, 함수 호출.\n",
        "    * x, x + y, print()\n",
        "    * 함수 호출은 식이 될 수 도있고, 문장이 될 수 도있다.\n",
        "* 문장(statement) : 코드의 최소 실행 단위.\n",
        "    * z = x + y\n",
        "* ipynb 노트북 코드셀에서 가장 마지막 줄에 있는 문장이 식(expression)이면, 그 식을 평가한 결과를 콘솔에 출력해 줌.\n",
        "    * 마지막 줄에서는 print() 함수를 호출하지 않아도 출력됨."
      ],
      "metadata": {
        "id": "FVaskXI-fKy3"
      }
    },
    {
      "cell_type": "code",
      "source": [
        "x = 1\n",
        "print(x)\n",
        "y = 2\n",
        "print(y)\n",
        "# print(x + y)\n",
        "x + y"
      ],
      "metadata": {
        "colab": {
          "base_uri": "https://localhost:8080/"
        },
        "id": "EfsRzq4Rg5xm",
        "outputId": "8297133a-a6a9-4bac-c8d6-a171a74adc06"
      },
      "execution_count": null,
      "outputs": [
        {
          "output_type": "stream",
          "name": "stdout",
          "text": [
            "1\n",
            "2\n"
          ]
        },
        {
          "output_type": "execute_result",
          "data": {
            "text/plain": [
              "3"
            ]
          },
          "metadata": {},
          "execution_count": 2
        }
      ]
    }
  ]
}