{
  "nbformat": 4,
  "nbformat_minor": 0,
  "metadata": {
    "colab": {
      "provenance": [],
      "authorship_tag": "ABX9TyPj2qhIfkR1SYPX8u+sOa9Y"
    },
    "kernelspec": {
      "name": "python3",
      "display_name": "Python 3"
    },
    "language_info": {
      "name": "python"
    }
  },
  "cells": [
    {
      "cell_type": "markdown",
      "source": [
        "# 1급 객체(first-class object)로서의 함수\n",
        "\n",
        "* 함수는 변수에 할당할 수 있다.\n",
        "* 함수의 파라미터에 아규먼트로 다른 함수를 전달할 수 있다.\n",
        "    * 함수는 아규먼트가 될 수 있다.\n",
        "* 함수는 다른 함수의 리턴 값이 될 수 있다.\n",
        "* 함수 내부에서 다른 함수를 정의할 수 있다."
      ],
      "metadata": {
        "id": "P--eauerxY28"
      }
    },
    {
      "cell_type": "code",
      "execution_count": 1,
      "metadata": {
        "id": "Jqiw5oYBxBkZ"
      },
      "outputs": [],
      "source": [
        "def twice(x):\n",
        "    return 2 * x"
      ]
    },
    {
      "cell_type": "code",
      "source": [
        "result = twice(100) # 함수 호출 결과(리턴 값)을 변수에 저장.\n",
        "result"
      ],
      "metadata": {
        "colab": {
          "base_uri": "https://localhost:8080/"
        },
        "id": "6epTO9WxySXH",
        "outputId": "2198eb88-8429-44b1-b1ca-e7e4a429f5b5"
      },
      "execution_count": 3,
      "outputs": [
        {
          "output_type": "execute_result",
          "data": {
            "text/plain": [
              "200"
            ]
          },
          "metadata": {},
          "execution_count": 3
        }
      ]
    },
    {
      "cell_type": "code",
      "source": [
        "double = twice # 함수 (객체)를 변수에 저장\n",
        "double"
      ],
      "metadata": {
        "colab": {
          "base_uri": "https://localhost:8080/"
        },
        "id": "76JqRAIDyoxx",
        "outputId": "88b2ec27-adba-4b2a-c4cb-7463a84e1909"
      },
      "execution_count": 4,
      "outputs": [
        {
          "output_type": "execute_result",
          "data": {
            "text/plain": [
              "<function __main__.twice(x)>"
            ]
          },
          "metadata": {},
          "execution_count": 4
        }
      ]
    },
    {
      "cell_type": "code",
      "source": [
        "double(12)"
      ],
      "metadata": {
        "colab": {
          "base_uri": "https://localhost:8080/"
        },
        "id": "hidbB6juyYju",
        "outputId": "f338e4da-d757-4763-eb5d-8871ac5d4843"
      },
      "execution_count": 5,
      "outputs": [
        {
          "output_type": "execute_result",
          "data": {
            "text/plain": [
              "24"
            ]
          },
          "metadata": {},
          "execution_count": 5
        }
      ]
    },
    {
      "cell_type": "markdown",
      "source": [
        "함수를 아규먼트로 사용"
      ],
      "metadata": {
        "id": "Md997lzizBtr"
      }
    },
    {
      "cell_type": "code",
      "source": [
        "def calculate(x, y, fn):\n",
        "    result = fn(x, y)\n",
        "    return result"
      ],
      "metadata": {
        "id": "7rEheL01y4Kj"
      },
      "execution_count": 6,
      "outputs": []
    },
    {
      "cell_type": "code",
      "source": [
        "def plus(x, y):\n",
        "    return x + y"
      ],
      "metadata": {
        "id": "Kh6EUR1BzKGx"
      },
      "execution_count": 9,
      "outputs": []
    },
    {
      "cell_type": "code",
      "source": [
        "calculate(1, 2, plus)"
      ],
      "metadata": {
        "colab": {
          "base_uri": "https://localhost:8080/"
        },
        "id": "EpdM0O4Mza-r",
        "outputId": "85639976-d0e1-47d3-f098-2d8686f732dc"
      },
      "execution_count": 13,
      "outputs": [
        {
          "output_type": "execute_result",
          "data": {
            "text/plain": [
              "3"
            ]
          },
          "metadata": {},
          "execution_count": 13
        }
      ]
    },
    {
      "cell_type": "code",
      "source": [
        "def minus(x, y):\n",
        "    return x - y"
      ],
      "metadata": {
        "id": "MCqgIvmX0aS4"
      },
      "execution_count": 14,
      "outputs": []
    },
    {
      "cell_type": "code",
      "source": [
        "calculate(2, 3, minus)"
      ],
      "metadata": {
        "colab": {
          "base_uri": "https://localhost:8080/"
        },
        "id": "tSE-AoC80WA3",
        "outputId": "588bcb62-422c-4888-8a3b-2df7c8101542"
      },
      "execution_count": 15,
      "outputs": [
        {
          "output_type": "execute_result",
          "data": {
            "text/plain": [
              "-1"
            ]
          },
          "metadata": {},
          "execution_count": 15
        }
      ]
    },
    {
      "cell_type": "markdown",
      "source": [
        "# 내부 함수, 함수 리턴"
      ],
      "metadata": {
        "id": "BBX1iXlC1H2L"
      }
    },
    {
      "cell_type": "code",
      "source": [
        "def make_increament(n): # 외부 함수\n",
        "    def add_n(x): # 내부 함수. 지역 함수\n",
        "        return x + n # 내부 함수는 외부 함수의 지역 변수(파라미터 포함)들을 사용할 수 있다.\n",
        "    return add_n # 함수라는 객체를 리턴하겠다."
      ],
      "metadata": {
        "id": "alkZX-Wt1J7O"
      },
      "execution_count": 16,
      "outputs": []
    },
    {
      "cell_type": "code",
      "source": [
        "increase_by_2 = make_increament(2)\n",
        "increase_by_2"
      ],
      "metadata": {
        "colab": {
          "base_uri": "https://localhost:8080/"
        },
        "id": "5_fVg2Ir1sAG",
        "outputId": "deb62e88-0373-4271-e2be-f88792eb6b86"
      },
      "execution_count": 25,
      "outputs": [
        {
          "output_type": "execute_result",
          "data": {
            "text/plain": [
              "<function __main__.make_increament.<locals>.add_n(x)>"
            ]
          },
          "metadata": {},
          "execution_count": 25
        }
      ]
    },
    {
      "cell_type": "code",
      "source": [
        "increase_by_2(100)"
      ],
      "metadata": {
        "colab": {
          "base_uri": "https://localhost:8080/"
        },
        "id": "EO_5FlCu24Jj",
        "outputId": "13272c5f-8de1-4a0f-995f-604a7257773f"
      },
      "execution_count": 27,
      "outputs": [
        {
          "output_type": "execute_result",
          "data": {
            "text/plain": [
              "102"
            ]
          },
          "metadata": {},
          "execution_count": 27
        }
      ]
    },
    {
      "cell_type": "code",
      "source": [
        "increase_by_10 = make_increament(10)\n",
        "increase_by_10(100)"
      ],
      "metadata": {
        "colab": {
          "base_uri": "https://localhost:8080/"
        },
        "id": "sZpuliv226Gb",
        "outputId": "fe5f4a58-6db6-4e62-f853-ef36cda7adac"
      },
      "execution_count": 29,
      "outputs": [
        {
          "output_type": "execute_result",
          "data": {
            "text/plain": [
              "110"
            ]
          },
          "metadata": {},
          "execution_count": 29
        }
      ]
    },
    {
      "cell_type": "code",
      "source": [
        "make_increament(5)(100) # 이렇게 호출 가능.\n",
        "# make_increament(5) 여기 까지가 함수 이기때문에 그 함수에 (100)을 넣은 것이다."
      ],
      "metadata": {
        "colab": {
          "base_uri": "https://localhost:8080/"
        },
        "id": "z1A4jiar39Jg",
        "outputId": "08a96f0d-1094-433d-d20d-9455fbd0e55f"
      },
      "execution_count": 31,
      "outputs": [
        {
          "output_type": "execute_result",
          "data": {
            "text/plain": [
              "105"
            ]
          },
          "metadata": {},
          "execution_count": 31
        }
      ]
    },
    {
      "cell_type": "markdown",
      "source": [
        "# Lambda expression(람다 표현식)\n",
        "\n",
        "* lambda 키워드 사용\n",
        "```\n",
        "lambda param1, param2, ...: expression\n",
        "```\n",
        "\n",
        "* 이름이 없는 함수 표기법\n",
        "* 함수 이름 없이 함수의 파라미터 선언과 반환 값 또는 반환 식으로만 함수를 정의하는 방법.\n",
        "* 파이썬은 2줄 이상의 문장이 포함된 람다 표현식 문법을 제공하지 않는다.\n"
      ],
      "metadata": {
        "id": "rL3hPL1t8KGY"
      }
    },
    {
      "cell_type": "code",
      "source": [
        "minus = lambda x, y : x - y\n",
        "minus"
      ],
      "metadata": {
        "colab": {
          "base_uri": "https://localhost:8080/"
        },
        "id": "vNQcFWce9dLg",
        "outputId": "1ac21a38-40bd-4f06-ceff-fbec6f35be08"
      },
      "execution_count": 34,
      "outputs": [
        {
          "output_type": "execute_result",
          "data": {
            "text/plain": [
              "<function __main__.<lambda>(x, y)>"
            ]
          },
          "metadata": {},
          "execution_count": 34
        }
      ]
    },
    {
      "cell_type": "code",
      "source": [
        "minus(3, 2)"
      ],
      "metadata": {
        "colab": {
          "base_uri": "https://localhost:8080/"
        },
        "id": "oE6Y_3nY9nh3",
        "outputId": "74d0f20b-d31a-4aaa-d438-330e26319805"
      },
      "execution_count": 36,
      "outputs": [
        {
          "output_type": "execute_result",
          "data": {
            "text/plain": [
              "1"
            ]
          },
          "metadata": {},
          "execution_count": 36
        }
      ]
    },
    {
      "cell_type": "code",
      "source": [
        "calculate(2, 3, lambda x, y : x * y)"
      ],
      "metadata": {
        "colab": {
          "base_uri": "https://localhost:8080/"
        },
        "id": "_qCF1W88-WHA",
        "outputId": "4bdcc5ae-1550-46e2-a067-9c986687cbad"
      },
      "execution_count": 38,
      "outputs": [
        {
          "output_type": "execute_result",
          "data": {
            "text/plain": [
              "6"
            ]
          },
          "metadata": {},
          "execution_count": 38
        }
      ]
    },
    {
      "cell_type": "code",
      "source": [
        "calculate(2, 3, lambda x, y : x / y)"
      ],
      "metadata": {
        "colab": {
          "base_uri": "https://localhost:8080/"
        },
        "id": "FwPSVy8q-vne",
        "outputId": "85539b1f-405e-43ef-d331-f79f5965dcb0"
      },
      "execution_count": 42,
      "outputs": [
        {
          "output_type": "execute_result",
          "data": {
            "text/plain": [
              "0.6666666666666666"
            ]
          },
          "metadata": {},
          "execution_count": 42
        }
      ]
    },
    {
      "cell_type": "markdown",
      "source": [
        "Ex 1. calculate 함수에 2개의 숫자 중에서 더 큰 수를 리턴하는 람다 표현식을 전달"
      ],
      "metadata": {
        "id": "Hpn2KxeV_M8I"
      }
    },
    {
      "cell_type": "code",
      "source": [
        "calculate(10, 5, lambda x, y : x if x > y else y )"
      ],
      "metadata": {
        "colab": {
          "base_uri": "https://localhost:8080/"
        },
        "id": "35vY_Q6__MFr",
        "outputId": "9246098d-6feb-460b-9e96-2e24c88af325"
      },
      "execution_count": 46,
      "outputs": [
        {
          "output_type": "execute_result",
          "data": {
            "text/plain": [
              "115"
            ]
          },
          "metadata": {},
          "execution_count": 46
        }
      ]
    },
    {
      "cell_type": "markdown",
      "source": [
        "Ex 2. calculate 함수에 첫번째 아규먼트가 더 크면 true, 아니면 false를 리턴하는 람다 표현식을 전달."
      ],
      "metadata": {
        "id": "d4LmArrN_TL3"
      }
    },
    {
      "cell_type": "code",
      "source": [
        "calculate(100, 10, lambda x, y : True if x > y else False)"
      ],
      "metadata": {
        "colab": {
          "base_uri": "https://localhost:8080/"
        },
        "id": "xdCk9TKG_gIA",
        "outputId": "d87e5a09-6eb8-41d3-f775-9fd2d58ce2bd"
      },
      "execution_count": 50,
      "outputs": [
        {
          "output_type": "execute_result",
          "data": {
            "text/plain": [
              "True"
            ]
          },
          "metadata": {},
          "execution_count": 50
        }
      ]
    },
    {
      "cell_type": "markdown",
      "source": [
        "# filter 함수\n",
        "\n",
        "조건에 맞는 원소들만 선택."
      ],
      "metadata": {
        "id": "8W4f7p7KCErw"
      }
    },
    {
      "cell_type": "code",
      "source": [
        "def my_filter(iterable, fn):\n",
        "    \"\"\"\n",
        "    리스트 iterable의 원소들 중에서 함수 fn의 호출 결과 값이 True인 원소들로만 이루어진 리스트를 리턴한다.\n",
        "\n",
        "    Parm iterable: 리스트.\n",
        "    Parm fn: 아규먼트가 1개이고, true/false를 리턴하는 함수.\n",
        "    \"\"\"\n",
        "\n",
        "    return [x for x in iterable if fn(x)]\n",
        "\n",
        "    # return_list = []\n",
        "    # for x in iterable:\n",
        "    #     if fn(x):\n",
        "    #         return_list.append(x)\n",
        "    # return return_list"
      ],
      "metadata": {
        "id": "OJEdAYL5CLsW"
      },
      "execution_count": 61,
      "outputs": []
    },
    {
      "cell_type": "code",
      "source": [
        "numbers = [1, -2, 3, 4, -5, -6, 7]"
      ],
      "metadata": {
        "id": "jI8Y1O91D1u6"
      },
      "execution_count": 62,
      "outputs": []
    },
    {
      "cell_type": "code",
      "source": [
        "my_filter(numbers, lambda x : x > 0)"
      ],
      "metadata": {
        "colab": {
          "base_uri": "https://localhost:8080/"
        },
        "id": "7B2UVw1zKfC2",
        "outputId": "84074155-d9ca-4f73-82fa-92a651aef505"
      },
      "execution_count": 63,
      "outputs": [
        {
          "output_type": "execute_result",
          "data": {
            "text/plain": [
              "[1, 3, 4, 7]"
            ]
          },
          "metadata": {},
          "execution_count": 63
        }
      ]
    },
    {
      "cell_type": "code",
      "source": [
        "strings = ['python', 'java', 'javascript', 'sql']\n",
        "# my_filter 함수를 사용해서 strungs에서 5글자 이상인 문자열들만 필터링\n",
        "my_filter(strings, lambda x : len(x) >= 5)"
      ],
      "metadata": {
        "colab": {
          "base_uri": "https://localhost:8080/"
        },
        "id": "DcZ6oYYjL0V0",
        "outputId": "d3d4812d-6843-4f11-9225-0bb9af8d46ec"
      },
      "execution_count": 67,
      "outputs": [
        {
          "output_type": "execute_result",
          "data": {
            "text/plain": [
              "['python', 'javascript']"
            ]
          },
          "metadata": {},
          "execution_count": 67
        }
      ]
    },
    {
      "cell_type": "markdown",
      "source": [
        "# map 함수\n",
        "\n",
        "원소들을 규칙에 따라서 다른 값으로 변환."
      ],
      "metadata": {
        "id": "_XVzxoZQOFu7"
      }
    },
    {
      "cell_type": "code",
      "source": [
        "def my_mapper(iterable, fn):\n",
        "    \"\"\"\n",
        "    리스트 iterable의 원소들을 함수 fn의 리턴 값으로 변환한 리스트를 리턴.\n",
        "\n",
        "    Param iterable: 리스트.\n",
        "    Param fn: 아규먼트가 1개이고 리턴 값이 있는 함수.\n",
        "    \"\"\"\n",
        "\n",
        "    return [fn(x) for x in iterable]"
      ],
      "metadata": {
        "id": "X_FCYdO5OSQ9"
      },
      "execution_count": 73,
      "outputs": []
    },
    {
      "cell_type": "code",
      "source": [
        "print(numbers)"
      ],
      "metadata": {
        "colab": {
          "base_uri": "https://localhost:8080/"
        },
        "id": "M4dJ1wGvO4Si",
        "outputId": "be9593de-f126-41c0-abb6-4cce92b42c4e"
      },
      "execution_count": 71,
      "outputs": [
        {
          "output_type": "stream",
          "name": "stdout",
          "text": [
            "[1, -2, 3, 4, -5, -6, 7]\n"
          ]
        }
      ]
    },
    {
      "cell_type": "code",
      "source": [
        "# 리스트 numbers의 원소들의 제곱으로 이루어진 리스트\n",
        "my_mapper(numbers, lambda x : x**2)"
      ],
      "metadata": {
        "colab": {
          "base_uri": "https://localhost:8080/"
        },
        "id": "CkKEPWozQMxv",
        "outputId": "b7f3b179-8e73-43fc-e26e-ea97a96873a8"
      },
      "execution_count": 74,
      "outputs": [
        {
          "output_type": "execute_result",
          "data": {
            "text/plain": [
              "[1, 4, 9, 16, 25, 36, 49]"
            ]
          },
          "metadata": {},
          "execution_count": 74
        }
      ]
    },
    {
      "cell_type": "code",
      "source": [
        "# numbers의 원소가 짝수이면 'even', 홀수이면 'odd'를 저장하는 리스트\n",
        "my_mapper(numbers, lambda x : 'even' if x % 2 == 0 else 'odd')"
      ],
      "metadata": {
        "colab": {
          "base_uri": "https://localhost:8080/"
        },
        "id": "L7VEIGbgQRZR",
        "outputId": "10da1ceb-6277-4743-bc04-213e9e8472c3"
      },
      "execution_count": 75,
      "outputs": [
        {
          "output_type": "execute_result",
          "data": {
            "text/plain": [
              "['odd', 'even', 'odd', 'even', 'odd', 'even', 'odd']"
            ]
          },
          "metadata": {},
          "execution_count": 75
        }
      ]
    },
    {
      "cell_type": "code",
      "source": [
        "strings"
      ],
      "metadata": {
        "colab": {
          "base_uri": "https://localhost:8080/"
        },
        "id": "7V4yBHePR8Pz",
        "outputId": "8ba8678c-ae7f-4f35-d712-6ecc51df3854"
      },
      "execution_count": 76,
      "outputs": [
        {
          "output_type": "execute_result",
          "data": {
            "text/plain": [
              "['python', 'java', 'javascript', 'sql']"
            ]
          },
          "metadata": {},
          "execution_count": 76
        }
      ]
    },
    {
      "cell_type": "code",
      "source": [
        "# strings가 가지고 있는 문자열의 길이들로 이루어진 리스트.\n",
        "result = my_mapper(strings, lambda x : len(x))\n",
        "result"
      ],
      "metadata": {
        "colab": {
          "base_uri": "https://localhost:8080/"
        },
        "id": "8ZDy5xw1R3cr",
        "outputId": "95ae79d6-2997-4bbb-8755-43b884ca9258"
      },
      "execution_count": 82,
      "outputs": [
        {
          "output_type": "execute_result",
          "data": {
            "text/plain": [
              "[6, 4, 10, 3]"
            ]
          },
          "metadata": {},
          "execution_count": 82
        }
      ]
    },
    {
      "cell_type": "code",
      "source": [
        "# strings의 문자열들을 모두 대문자로 변환한 리스트\n",
        "result = my_mapper(strings, lambda x : x.upper())\n",
        "result"
      ],
      "metadata": {
        "colab": {
          "base_uri": "https://localhost:8080/"
        },
        "id": "DYVD1YlrR-lx",
        "outputId": "db0117ac-b63c-4316-cb28-02bf7790246c"
      },
      "execution_count": 89,
      "outputs": [
        {
          "output_type": "execute_result",
          "data": {
            "text/plain": [
              "['PYTHON', 'JAVA', 'JAVASCRIPT', 'SQL']"
            ]
          },
          "metadata": {},
          "execution_count": 89
        }
      ]
    }
  ]
}