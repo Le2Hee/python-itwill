{
  "nbformat": 4,
  "nbformat_minor": 0,
  "metadata": {
    "colab": {
      "provenance": [],
      "authorship_tag": "ABX9TyPJhqgH3fjtJB8lY9532FAh"
    },
    "kernelspec": {
      "name": "python3",
      "display_name": "Python 3"
    },
    "language_info": {
      "name": "python"
    }
  },
  "cells": [
    {
      "cell_type": "markdown",
      "source": [
        "# for 반복문\n",
        "\n",
        "```\n",
        "for 변수 in iterable_type:\n",
        "    반복해서 실행할 코드 블록\n",
        "```\n",
        "오로지 for-in 구문만 존재한다.\n",
        ": 을 꼭 사용해줘야 한다.\n",
        "\n",
        "들여쓰기 꼭 사용해줘야 한다.\n",
        "\n",
        "* interable_type : 반복가능한 타입.\n",
        "    * range, list, tuple, dict, set, str, ... (tuple, dict은 파이썬에서 정의되어 있는 자료타입이다.)\n",
        "\n",
        "* `range()` 함수 :  (크게 3가지 방법이 있다.)\n",
        "    * `range(stop)` : 0 <= x < stop 범위의 1씩 증가하는 정수들을 차례로 반환.\n",
        "    * `range(start, stop)` : start <= x < stop 범위의 1씩 증가하는 정수들을 차례로 반환.\n",
        "    * `range(start, stop, step)` :\n",
        "        * step > 0 : start <= x < stop 범위의 step 만큼씩 증가하는 정수들을 차례로 반환.\n",
        "        * step < 0 : start >= x > stop 범위의 step 만큼씩 감소하는 정수들을 차례로 반환."
      ],
      "metadata": {
        "id": "zYFdKKKUMAcE"
      }
    },
    {
      "cell_type": "code",
      "execution_count": null,
      "metadata": {
        "colab": {
          "base_uri": "https://localhost:8080/"
        },
        "id": "-JTwCx8TLkdD",
        "outputId": "7ec9e536-a7bd-47be-9782-1d82035e08eb"
      },
      "outputs": [
        {
          "output_type": "stream",
          "name": "stdout",
          "text": [
            "0\n",
            "1\n",
            "2\n",
            "3\n",
            "4\n"
          ]
        }
      ],
      "source": [
        "for x in range(5): # 0 <= x < 5가 된다.\n",
        "    print(x)"
      ]
    },
    {
      "cell_type": "code",
      "source": [
        "for x in range(1, 6): # 1 <= x < 6가 된다.\n",
        "    print(x)"
      ],
      "metadata": {
        "colab": {
          "base_uri": "https://localhost:8080/"
        },
        "id": "cn4oLIv_PGca",
        "outputId": "3527438d-c73b-4653-b706-c8ce0e652b22"
      },
      "execution_count": null,
      "outputs": [
        {
          "output_type": "stream",
          "name": "stdout",
          "text": [
            "1\n",
            "2\n",
            "3\n",
            "4\n",
            "5\n"
          ]
        }
      ]
    },
    {
      "cell_type": "code",
      "source": [
        "for x in range(0, 11, 2): #(0, 2, 4, 6, 8, 10)\n",
        "    print(x)"
      ],
      "metadata": {
        "colab": {
          "base_uri": "https://localhost:8080/"
        },
        "id": "ltE0QU7PPPSq",
        "outputId": "052f959c-43b5-4a23-bff5-6a9707d2ebb2"
      },
      "execution_count": null,
      "outputs": [
        {
          "output_type": "stream",
          "name": "stdout",
          "text": [
            "0\n",
            "2\n",
            "4\n",
            "6\n",
            "8\n",
            "10\n"
          ]
        }
      ]
    },
    {
      "cell_type": "code",
      "source": [
        "for x in range(1, 11):\n",
        "    if x % 2 == 0:\n",
        "        print(x)"
      ],
      "metadata": {
        "colab": {
          "base_uri": "https://localhost:8080/"
        },
        "id": "rdtXDqcxPa9y",
        "outputId": "20b6bbbb-1f7a-47a1-fb76-b617d79ba137"
      },
      "execution_count": null,
      "outputs": [
        {
          "output_type": "stream",
          "name": "stdout",
          "text": [
            "2\n",
            "4\n",
            "6\n",
            "8\n",
            "10\n"
          ]
        }
      ]
    },
    {
      "cell_type": "markdown",
      "source": [
        "# 중첩 반복문\n",
        "\n",
        "```\n",
        "for x in iterable:\n",
        "    for y in iterable2:\n",
        "        코드 블록\n",
        "```"
      ],
      "metadata": {
        "id": "GzyC6EyOQONZ"
      }
    },
    {
      "cell_type": "code",
      "source": [
        "# 연습문제\n",
        "# 구구단 2단 부터 9단 까지 출력."
      ],
      "metadata": {
        "id": "VYxVyFeFQcLp"
      },
      "execution_count": null,
      "outputs": []
    },
    {
      "cell_type": "code",
      "source": [
        "for x in range(2, 10):\n",
        "    for y in range(1, 10):\n",
        "        print(f'{x} * {y} = {x * y}')\n",
        "    print('-' * 10)"
      ],
      "metadata": {
        "colab": {
          "base_uri": "https://localhost:8080/"
        },
        "id": "82dUyE4nQf5p",
        "outputId": "bbf0c93e-3f01-4bd4-c7b8-ee10b44a892c"
      },
      "execution_count": null,
      "outputs": [
        {
          "output_type": "stream",
          "name": "stdout",
          "text": [
            "2 * 1 = 2\n",
            "2 * 2 = 4\n",
            "2 * 3 = 6\n",
            "2 * 4 = 8\n",
            "2 * 5 = 10\n",
            "2 * 6 = 12\n",
            "2 * 7 = 14\n",
            "2 * 8 = 16\n",
            "2 * 9 = 18\n",
            "----------\n",
            "3 * 1 = 3\n",
            "3 * 2 = 6\n",
            "3 * 3 = 9\n",
            "3 * 4 = 12\n",
            "3 * 5 = 15\n",
            "3 * 6 = 18\n",
            "3 * 7 = 21\n",
            "3 * 8 = 24\n",
            "3 * 9 = 27\n",
            "----------\n",
            "4 * 1 = 4\n",
            "4 * 2 = 8\n",
            "4 * 3 = 12\n",
            "4 * 4 = 16\n",
            "4 * 5 = 20\n",
            "4 * 6 = 24\n",
            "4 * 7 = 28\n",
            "4 * 8 = 32\n",
            "4 * 9 = 36\n",
            "----------\n",
            "5 * 1 = 5\n",
            "5 * 2 = 10\n",
            "5 * 3 = 15\n",
            "5 * 4 = 20\n",
            "5 * 5 = 25\n",
            "5 * 6 = 30\n",
            "5 * 7 = 35\n",
            "5 * 8 = 40\n",
            "5 * 9 = 45\n",
            "----------\n",
            "6 * 1 = 6\n",
            "6 * 2 = 12\n",
            "6 * 3 = 18\n",
            "6 * 4 = 24\n",
            "6 * 5 = 30\n",
            "6 * 6 = 36\n",
            "6 * 7 = 42\n",
            "6 * 8 = 48\n",
            "6 * 9 = 54\n",
            "----------\n",
            "7 * 1 = 7\n",
            "7 * 2 = 14\n",
            "7 * 3 = 21\n",
            "7 * 4 = 28\n",
            "7 * 5 = 35\n",
            "7 * 6 = 42\n",
            "7 * 7 = 49\n",
            "7 * 8 = 56\n",
            "7 * 9 = 63\n",
            "----------\n",
            "8 * 1 = 8\n",
            "8 * 2 = 16\n",
            "8 * 3 = 24\n",
            "8 * 4 = 32\n",
            "8 * 5 = 40\n",
            "8 * 6 = 48\n",
            "8 * 7 = 56\n",
            "8 * 8 = 64\n",
            "8 * 9 = 72\n",
            "----------\n",
            "9 * 1 = 9\n",
            "9 * 2 = 18\n",
            "9 * 3 = 27\n",
            "9 * 4 = 36\n",
            "9 * 5 = 45\n",
            "9 * 6 = 54\n",
            "9 * 7 = 63\n",
            "9 * 8 = 72\n",
            "9 * 9 = 81\n",
            "----------\n"
          ]
        }
      ]
    },
    {
      "cell_type": "markdown",
      "source": [
        "#문자열에서 사용 가능한 산술 연산자 ⁉\n",
        "\n",
        "* 문자열 `+` 문자열 : 문자열 이어붙이기(concatenate)\n",
        "* 문자열 `*` 정수 : 문자열(정수만큼) 반복해서 늘리기"
      ],
      "metadata": {
        "id": "BF-ag2DzTEsR"
      }
    },
    {
      "cell_type": "markdown",
      "source": [
        "# break와 continue\n",
        "\n",
        "* `break` : 반복(iteration)을 종료.(break가 포함된 가장 가까운 반복문을 빠져 나온다.)\n",
        "* `continue` : 반복문 내부의 실행을 멈추고, 그 다음 iteration을 계속해서 수행."
      ],
      "metadata": {
        "id": "M4bOwRhRT3JZ"
      }
    },
    {
      "cell_type": "code",
      "source": [
        "# 예제\n",
        "for x in range(0, 4):\n",
        "    if x == 2:\n",
        "        break;\n",
        "    print(x)\n"
      ],
      "metadata": {
        "colab": {
          "base_uri": "https://localhost:8080/"
        },
        "id": "_4iyXtfaUbEq",
        "outputId": "280c397c-c0c4-4bca-f2a2-31a240298f04"
      },
      "execution_count": null,
      "outputs": [
        {
          "output_type": "stream",
          "name": "stdout",
          "text": [
            "0\n",
            "1\n"
          ]
        }
      ]
    },
    {
      "cell_type": "code",
      "source": [
        "for x in range(5):\n",
        "    if x == 2:\n",
        "        continue\n",
        "    print(x)"
      ],
      "metadata": {
        "colab": {
          "base_uri": "https://localhost:8080/"
        },
        "id": "O_YfHxhgVS0X",
        "outputId": "82130af2-f925-4d49-91dc-19d2b1389a80"
      },
      "execution_count": null,
      "outputs": [
        {
          "output_type": "stream",
          "name": "stdout",
          "text": [
            "0\n",
            "1\n",
            "3\n",
            "4\n"
          ]
        }
      ]
    },
    {
      "cell_type": "markdown",
      "source": [
        "다음과 같이 출력\n",
        "\n",
        "```\n",
        "2 x 1 = 2\n",
        "2 x 2 = 2\n",
        "---------\n",
        "3 x 1 = 3\n",
        "3 x 2 = 6\n",
        "3 x 3 = 9\n",
        "---------\n",
        "...\n",
        "----------\n",
        "5 x 1 = 5\n",
        "...\n",
        "5 x 5 = 25\n",
        "```"
      ],
      "metadata": {
        "id": "zJwy9WmZWbvg"
      }
    },
    {
      "cell_type": "code",
      "source": [
        "for x in range(2, 6):\n",
        "    for y in range(1, x + 1):\n",
        "        print(f'{x} x {y} = {x * y}')\n",
        "    print('-' * 10)"
      ],
      "metadata": {
        "colab": {
          "base_uri": "https://localhost:8080/"
        },
        "id": "VlTrcBbCWulZ",
        "outputId": "1cc25706-ff41-4eb7-b923-6d357e87d959"
      },
      "execution_count": null,
      "outputs": [
        {
          "output_type": "stream",
          "name": "stdout",
          "text": [
            "2 x 1 = 2\n",
            "2 x 2 = 4\n",
            "----------\n",
            "3 x 1 = 3\n",
            "3 x 2 = 6\n",
            "3 x 3 = 9\n",
            "----------\n",
            "4 x 1 = 4\n",
            "4 x 2 = 8\n",
            "4 x 3 = 12\n",
            "4 x 4 = 16\n",
            "----------\n",
            "5 x 1 = 5\n",
            "5 x 2 = 10\n",
            "5 x 3 = 15\n",
            "5 x 4 = 20\n",
            "5 x 5 = 25\n",
            "----------\n"
          ]
        }
      ]
    },
    {
      "cell_type": "markdown",
      "source": [
        "# while 반복문\n",
        "\n",
        "```\n",
        "[초기화 문장]\n",
        "while 조건식:\n",
        "    반복할 코드 블록\n",
        "    [조건(변수)를 변경하는 문장]\n",
        "```"
      ],
      "metadata": {
        "id": "OdJhJ881dFe3"
      }
    },
    {
      "cell_type": "markdown",
      "source": [
        "다음과 같이 출력하는 코드를 while 문으로 작성.\n",
        "\n",
        "```\n",
        "*\n",
        "**\n",
        "***\n",
        "****\n",
        "*****\n",
        "```"
      ],
      "metadata": {
        "id": "s5z8fDdedk29"
      }
    },
    {
      "cell_type": "code",
      "source": [
        "n = 1\n",
        "while n <= 5:\n",
        "    print('*' * n)\n",
        "    n += 1 # 파이썬은 ++, -- 연산자는 없다."
      ],
      "metadata": {
        "colab": {
          "base_uri": "https://localhost:8080/"
        },
        "id": "1BCVZevUdsr4",
        "outputId": "bfee9d46-f1df-4605-b487-f0949874f3cd"
      },
      "execution_count": null,
      "outputs": [
        {
          "output_type": "stream",
          "name": "stdout",
          "text": [
            "*\n",
            "**\n",
            "***\n",
            "****\n",
            "*****\n"
          ]
        }
      ]
    },
    {
      "cell_type": "markdown",
      "source": [
        "1 이상 10미만의 홀수들을 출력하는 코드를 while 문으로 작성."
      ],
      "metadata": {
        "id": "G0_0QTb9gSQG"
      }
    },
    {
      "cell_type": "code",
      "source": [
        "n = 1\n",
        "while n < 10:\n",
        "    if n % 2 == 1:\n",
        "        print(n)\n",
        "    n += 1"
      ],
      "metadata": {
        "colab": {
          "base_uri": "https://localhost:8080/"
        },
        "id": "JHs-u77jgREV",
        "outputId": "695d1ac0-aff1-4100-980a-584b514a0eaf"
      },
      "execution_count": null,
      "outputs": [
        {
          "output_type": "stream",
          "name": "stdout",
          "text": [
            "1\n",
            "3\n",
            "5\n",
            "7\n",
            "9\n"
          ]
        }
      ]
    }
  ]
}