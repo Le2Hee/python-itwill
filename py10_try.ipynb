{
  "nbformat": 4,
  "nbformat_minor": 0,
  "metadata": {
    "colab": {
      "provenance": [],
      "authorship_tag": "ABX9TyM9NIo+tnUrA+/QZLtbGNS7"
    },
    "kernelspec": {
      "name": "python3",
      "display_name": "Python 3"
    },
    "language_info": {
      "name": "python"
    }
  },
  "cells": [
    {
      "cell_type": "markdown",
      "source": [
        "# 오류(Error) 처리\n",
        "\n",
        "* 오류가 발생한 위치와 원인을 파악해서 오류가 발생하지 않도록 코드 수정\n",
        "* 오류가 발생하더라도 프로그램이 비정상적으로 종료되지 않고 계속 실행되도록 처리 --> try 구문\n",
        "    * Java는 반드시 try-catch 구문을 사용해야만 하는 Exception 종류들이 있다.\n",
        "        * (예) NullPointerException: try-catch가 필수는 아니다.\n",
        "        * IOException, SQLException, ...: try-catch가 필수이다.\n",
        "    * Python은 모든 오류 처리에서 try-except 가 필수는 아니다."
      ],
      "metadata": {
        "id": "KQpVMd8MHxvH"
      }
    },
    {
      "cell_type": "markdown",
      "source": [
        "** Python try-except 구문**\n",
        "\n",
        "```\n",
        "try:\n",
        "    (1) 실행할 코드 블록\n",
        "except [에러 클래스 이름[as 별명]]:\n",
        "    (2) 에러가 발생했을때, 실행할 코드 블록\n",
        "    [여기서 부터 생략 가능한 부분]\n",
        "else:\n",
        "    (3) 에러가 발생하지 않았을때, 실행할 코드 블록\n",
        "finally:\n",
        "    (4) try 블록 실행 중에 에러 발생 여부와 상관 없이 항상 실행할 코드 블록\n",
        "```\n",
        "Python 에러 클래스 이름을 사용하는게 필수는 아니다.\n",
        "\n",
        "* 에러가 발생하지 않는 경우:\n",
        "    * (1) -> (3) -> (4)\n",
        "* 에러가 발생한 경우:\n",
        "    * (1) -> (2) -> (4)\n",
        "* except 구문에서 에러 클래스의 이름을 생략하면, 모든 종류의 에러를 잡아서 처리할 수 있음.\n",
        "* 특정 종류의 에러만 처리하고자 할 때는, except 구문에서 에러 클래스 이름을 명시."
      ],
      "metadata": {
        "id": "AUN9vZoGJ5t-"
      }
    },
    {
      "cell_type": "code",
      "execution_count": null,
      "metadata": {
        "colab": {
          "base_uri": "https://localhost:8080/",
          "height": 211
        },
        "id": "LfMIuGrgHtHP",
        "outputId": "4b6db58d-f339-4ea6-f9a2-85b72f78975b"
      },
      "outputs": [
        {
          "name": "stdout",
          "output_type": "stream",
          "text": [
            "정수 입력 >>> dwq\n"
          ]
        },
        {
          "output_type": "error",
          "ename": "ValueError",
          "evalue": "ignored",
          "traceback": [
            "\u001b[0;31m---------------------------------------------------------------------------\u001b[0m",
            "\u001b[0;31mValueError\u001b[0m                                Traceback (most recent call last)",
            "\u001b[0;32m<ipython-input-1-9cc7357a1fc5>\u001b[0m in \u001b[0;36m<cell line: 1>\u001b[0;34m()\u001b[0m\n\u001b[0;32m----> 1\u001b[0;31m \u001b[0mx\u001b[0m \u001b[0;34m=\u001b[0m \u001b[0mint\u001b[0m\u001b[0;34m(\u001b[0m\u001b[0minput\u001b[0m\u001b[0;34m(\u001b[0m\u001b[0;34m'정수 입력 >>> '\u001b[0m\u001b[0;34m)\u001b[0m\u001b[0;34m)\u001b[0m\u001b[0;34m\u001b[0m\u001b[0;34m\u001b[0m\u001b[0m\n\u001b[0m\u001b[1;32m      2\u001b[0m \u001b[0mprint\u001b[0m\u001b[0;34m(\u001b[0m\u001b[0mx\u001b[0m\u001b[0;34m)\u001b[0m\u001b[0;34m\u001b[0m\u001b[0;34m\u001b[0m\u001b[0m\n",
            "\u001b[0;31mValueError\u001b[0m: invalid literal for int() with base 10: 'dwq'"
          ]
        }
      ],
      "source": [
        "x = int(input('정수 입력 >>> '))\n",
        "print(x) # 글자를 사용하면 ValueError가 뜬다."
      ]
    },
    {
      "cell_type": "code",
      "source": [
        "try:\n",
        "    x = int(input('정수 입력 >>> '))\n",
        "    print(x)\n",
        "except:\n",
        "    print('정수를 입력해야 합니다.')"
      ],
      "metadata": {
        "colab": {
          "base_uri": "https://localhost:8080/"
        },
        "id": "zquXkJvPMSNg",
        "outputId": "185b002b-4126-499e-fb63-4321f6a650eb"
      },
      "execution_count": null,
      "outputs": [
        {
          "output_type": "stream",
          "name": "stdout",
          "text": [
            "정수 입력 >>> ㄷㅈ\n",
            "정수를 입력해야 합니다.\n"
          ]
        }
      ]
    },
    {
      "cell_type": "code",
      "source": [
        "try:\n",
        "    x = int(input('정수 입력 >>> ')) # 1\n",
        "except ValueError as e: # 별명을 주면 ValueError를 보여줄 수 있다. 별명은 줘도 되고 안줘도 된다.\n",
        "    print(e) # 2\n",
        "else:\n",
        "    print(f'x = {x}') # 3\n",
        "finally:\n",
        "    print('=== end ===') # 4"
      ],
      "metadata": {
        "colab": {
          "base_uri": "https://localhost:8080/"
        },
        "id": "4c-n-8s3NrxY",
        "outputId": "e0cae030-5f23-4b05-9ed8-f2f105cba5f3"
      },
      "execution_count": null,
      "outputs": [
        {
          "output_type": "stream",
          "name": "stdout",
          "text": [
            "정수 입력 >>> dewd\n",
            "invalid literal for int() with base 10: 'dewd'\n",
            "=== end ===\n"
          ]
        }
      ]
    },
    {
      "cell_type": "markdown",
      "source": [
        "# Ex 1.\n",
        "\n",
        "* 정수 1개를 입력받고, 입력받은 정수를 출력하세요.\n",
        "\n",
        "* 정수로 변환할 수 없는 문자열이 입력된 경우에는 적절한 오류 메시지를 출력한 후 다시 입력을 받아야 함."
      ],
      "metadata": {
        "id": "9MYRlc97S8sL"
      }
    },
    {
      "cell_type": "code",
      "source": [
        "while True: # 무한 반복문. - 정수를 입력 받았을 때 출력하고 반복문 종료\n",
        "    try:\n",
        "        x = int(input('정수 입력 >>> '))\n",
        "        print(x)\n",
        "        break\n",
        "    except:\n",
        "        print('반드시 정수만 입력 하셔야 합니다.')"
      ],
      "metadata": {
        "colab": {
          "base_uri": "https://localhost:8080/"
        },
        "id": "4e2RyCgCTIaD",
        "outputId": "69332f20-9f1b-4030-8e68-78a6f308c4a9"
      },
      "execution_count": null,
      "outputs": [
        {
          "output_type": "stream",
          "name": "stdout",
          "text": [
            "정수 입력 >>> 3\n",
            "3\n"
          ]
        }
      ]
    },
    {
      "cell_type": "markdown",
      "source": [
        "# Ex 2. 단어 개수 세기\n",
        "\n",
        "* 리스트 words가 가지고 있는 단어들을 key로 하고, 그 단어가 리스트에 나오는 횟수를 값으로 하는 dict를 생성하고 출력하세요."
      ],
      "metadata": {
        "id": "thpoYOv2TAys"
      }
    },
    {
      "cell_type": "code",
      "source": [
        "words = ['java', 'python', 'javascript', 'python', 'sql', 'java', 'python']\n",
        "#> 결과: {'java': 2, 'python': 3, 'javascript': 1, 'sql': 1}"
      ],
      "metadata": {
        "id": "Xb257sLvOTKk"
      },
      "execution_count": null,
      "outputs": []
    },
    {
      "cell_type": "code",
      "source": [
        "from collections import Counter\n",
        "counter = Counter(words)\n",
        "print(dict(counter))"
      ],
      "metadata": {
        "colab": {
          "base_uri": "https://localhost:8080/"
        },
        "id": "rgEYAUyATnB6",
        "outputId": "18c7ec7d-5e51-4232-98af-291a0b114dcc"
      },
      "execution_count": null,
      "outputs": [
        {
          "output_type": "stream",
          "name": "stdout",
          "text": [
            "{'java': 2, 'python': 3, 'javascript': 1, 'sql': 1}\n"
          ]
        }
      ]
    },
    {
      "cell_type": "code",
      "source": [
        "word_counts = {} # 단어/단어 빈도수를 저장할 dict\n",
        "for w in words: # 리스트 words에서 단어를 순서대로 꺼내서 반복하면서\n",
        "    if w in word_counts: # 단어가 dict의 키로 존재하는 지.\n",
        "        word_counts[w] += 1 # 단어의 빈도수를 1 증가\n",
        "    else: # 단어 w가 dict의 키로 존재하지 않을 때 - 단어를 처음 발견했을 때.\n",
        "        word_counts[w] = 1\n",
        "print(word_counts)"
      ],
      "metadata": {
        "colab": {
          "base_uri": "https://localhost:8080/"
        },
        "id": "iq5hYdNaYwsa",
        "outputId": "ba2eed99-23f2-4679-e14e-a8e861497cef"
      },
      "execution_count": null,
      "outputs": [
        {
          "output_type": "stream",
          "name": "stdout",
          "text": [
            "{'java': 2, 'python': 3, 'javascript': 1, 'sql': 1}\n"
          ]
        }
      ]
    },
    {
      "cell_type": "code",
      "source": [
        "word_counts = {}\n",
        "for w in words:\n",
        "    try:\n",
        "        word_counts[w] += 1\n",
        "    except:\n",
        "        word_counts[w] = 1\n",
        "print(word_counts)"
      ],
      "metadata": {
        "colab": {
          "base_uri": "https://localhost:8080/"
        },
        "id": "OA4ukQaXcH-A",
        "outputId": "48bec13f-2559-48d4-aa4c-e8d99014e410"
      },
      "execution_count": null,
      "outputs": [
        {
          "output_type": "stream",
          "name": "stdout",
          "text": [
            "{'java': 2, 'python': 3, 'javascript': 1, 'sql': 1}\n"
          ]
        }
      ]
    },
    {
      "cell_type": "code",
      "source": [
        "# collection 모듈에서 defaultdict 함수를 임포트\n",
        "from collections import defaultdict"
      ],
      "metadata": {
        "id": "7AgfRh8vdADJ"
      },
      "execution_count": null,
      "outputs": []
    },
    {
      "cell_type": "code",
      "source": [
        "word_count2 = defaultdict(int)\n",
        "for w in words:\n",
        "    word_count2[w] += 1\n",
        "\n",
        "print(word_count2)"
      ],
      "metadata": {
        "colab": {
          "base_uri": "https://localhost:8080/"
        },
        "id": "es6SKXgNdy_R",
        "outputId": "27e6e0d2-191a-4d19-9910-c905f0c49724"
      },
      "execution_count": null,
      "outputs": [
        {
          "output_type": "stream",
          "name": "stdout",
          "text": [
            "defaultdict(<class 'int'>, {'java': 2, 'python': 3, 'javascript': 1, 'sql': 1})\n"
          ]
        }
      ]
    },
    {
      "cell_type": "code",
      "source": [
        "import sys\n",
        "from collections import Counter"
      ],
      "metadata": {
        "id": "5xFjOOPHkRXv"
      },
      "execution_count": null,
      "outputs": []
    },
    {
      "cell_type": "code",
      "source": [
        "n = int(input())\n",
        "\n",
        "list_parentheses = []\n",
        "\n",
        "for _ in range(n):\n",
        "    parentheses = list(str(input()))\n",
        "    list_parentheses.append(parentheses)\n",
        "\n",
        "for x in list_parentheses:\n",
        "    if len(x) % 2 == 1:\n",
        "        print('NO')\n",
        "    else:\n",
        "        for y in x:\n",
        "            for z in y:\n",
        "                if y.index(')', 0, len(y)):\n",
        "\n"
      ],
      "metadata": {
        "colab": {
          "base_uri": "https://localhost:8080/"
        },
        "id": "bEoZ2iJAc_9w",
        "outputId": "7e066c7a-0c1c-4e01-b432-f4aefe155329"
      },
      "execution_count": null,
      "outputs": [
        {
          "name": "stdout",
          "output_type": "stream",
          "text": [
            "1\n",
            "rewrwe\n"
          ]
        },
        {
          "output_type": "execute_result",
          "data": {
            "text/plain": [
              "[['r', 'e', 'w', 'r', 'w', 'e']]"
            ]
          },
          "metadata": {},
          "execution_count": 63
        }
      ]
    },
    {
      "cell_type": "code",
      "source": [
        "6\n",
        "(())())\n",
        "(((()())()\n",
        "(()())((()))\n",
        "((()()(()))(((())))()\n",
        "()()()()(()()())()\n",
        "(()((())()("
      ],
      "metadata": {
        "id": "Z0i3iskcg9t4"
      },
      "execution_count": null,
      "outputs": []
    }
  ]
}