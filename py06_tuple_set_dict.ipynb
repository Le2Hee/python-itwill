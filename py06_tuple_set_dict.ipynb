{
  "nbformat": 4,
  "nbformat_minor": 0,
  "metadata": {
    "colab": {
      "provenance": [],
      "authorship_tag": "ABX9TyPQuiPuKpA/QrL9QYE7HA25"
    },
    "kernelspec": {
      "name": "python3",
      "display_name": "Python 3"
    },
    "language_info": {
      "name": "python"
    }
  },
  "cells": [
    {
      "cell_type": "markdown",
      "source": [
        "# tuple(튜플)\n",
        "\n",
        "* 하나의 변수에 여러 개의 값들을 저장하기 위한 자료 타입.\n",
        "* 리스트와 다른 점\n",
        "    * 저장된 원소(아이템)들을 변경할 수 없는 리스트.\n",
        "    * `append()`, `remove()`와 같은 원소를 변경하는 메서드(기능)은 제공하지 않음.\n",
        "* 인덱스 기반 자료 타입.\n",
        "    * 인덱스를 가지고 indexing, slicing이 가능하다.\n",
        "    * 음수 인덱스도 사용 가능하다.\n"
      ],
      "metadata": {
        "id": "y1ml3imyWj3W"
      }
    },
    {
      "cell_type": "code",
      "execution_count": 2,
      "metadata": {
        "colab": {
          "base_uri": "https://localhost:8080/"
        },
        "id": "f1RxboOfWdin",
        "outputId": "4b761206-d4d7-4b25-8a4c-ed9763086ea4"
      },
      "outputs": [
        {
          "output_type": "execute_result",
          "data": {
            "text/plain": [
              "(1, 2, 10, 20, 100, 200)"
            ]
          },
          "metadata": {},
          "execution_count": 2
        }
      ],
      "source": [
        "# 숫자들을 저장하는 튜플\n",
        "numbers = (1, 2, 10, 20, 100, 200) # 튜플은 소괄호를 사용한다.\n",
        "numbers"
      ]
    },
    {
      "cell_type": "code",
      "source": [
        "type(numbers)"
      ],
      "metadata": {
        "colab": {
          "base_uri": "https://localhost:8080/"
        },
        "id": "KUDYNhJGYQSu",
        "outputId": "e7a29705-4293-41aa-d231-df7bb5f52d37"
      },
      "execution_count": 4,
      "outputs": [
        {
          "output_type": "execute_result",
          "data": {
            "text/plain": [
              "tuple"
            ]
          },
          "metadata": {},
          "execution_count": 4
        }
      ]
    },
    {
      "cell_type": "markdown",
      "source": [
        "indexing : 인덱스를 사용해서 원소 1개를 참조하는 방"
      ],
      "metadata": {
        "id": "wf_hDEdiY64e"
      }
    },
    {
      "cell_type": "code",
      "source": [
        "numbers[0] # 튜플의 첫번째 원소"
      ],
      "metadata": {
        "colab": {
          "base_uri": "https://localhost:8080/"
        },
        "id": "l5LyEmO-Y_X1",
        "outputId": "cbab851f-fda2-4219-bd01-53fd21b4ca46"
      },
      "execution_count": 6,
      "outputs": [
        {
          "output_type": "execute_result",
          "data": {
            "text/plain": [
              "1"
            ]
          },
          "metadata": {},
          "execution_count": 6
        }
      ]
    },
    {
      "cell_type": "code",
      "source": [
        "# 튜플의 마지막 원소를 찾을 때\n",
        "numbers[-1]"
      ],
      "metadata": {
        "colab": {
          "base_uri": "https://localhost:8080/"
        },
        "id": "mUrBHnOuZEM0",
        "outputId": "d079cc38-e672-4420-dc38-5d84627f906b"
      },
      "execution_count": 8,
      "outputs": [
        {
          "output_type": "execute_result",
          "data": {
            "text/plain": [
              "200"
            ]
          },
          "metadata": {},
          "execution_count": 8
        }
      ]
    },
    {
      "cell_type": "code",
      "source": [
        "# 튜플에서 첫 3개의 원소들을 잘라내기 [0,3)\n",
        "numbers[:3]"
      ],
      "metadata": {
        "colab": {
          "base_uri": "https://localhost:8080/"
        },
        "id": "vacljeVzZZ_G",
        "outputId": "566d7d25-1a47-42d9-a244-79e1a63b2b7f"
      },
      "execution_count": 10,
      "outputs": [
        {
          "output_type": "execute_result",
          "data": {
            "text/plain": [
              "(1, 2, 10)"
            ]
          },
          "metadata": {},
          "execution_count": 10
        }
      ]
    },
    {
      "cell_type": "code",
      "source": [
        "# 튜플에서 마지막 3개의 원소들을 잘라내기.\n",
        "numbers[-3:]"
      ],
      "metadata": {
        "colab": {
          "base_uri": "https://localhost:8080/"
        },
        "id": "pkRdJcp0ZfeG",
        "outputId": "9571b1c5-958d-492d-b565-8c9bd6e6be37"
      },
      "execution_count": 12,
      "outputs": [
        {
          "output_type": "execute_result",
          "data": {
            "text/plain": [
              "(20, 100, 200)"
            ]
          },
          "metadata": {},
          "execution_count": 12
        }
      ]
    },
    {
      "cell_type": "markdown",
      "source": [
        "## decomposition(분해)"
      ],
      "metadata": {
        "id": "Y4zneY-PZ_Td"
      }
    },
    {
      "cell_type": "code",
      "source": [
        "odds = (1, 3, 5)\n",
        "a = odds[0]\n",
        "b = odds[1]\n",
        "c = odds[2]\n",
        "a, b, c"
      ],
      "metadata": {
        "colab": {
          "base_uri": "https://localhost:8080/"
        },
        "id": "fi2Y2tMdZ-t7",
        "outputId": "74075c65-6b18-4bb5-ac25-310855613ffc"
      },
      "execution_count": 17,
      "outputs": [
        {
          "output_type": "execute_result",
          "data": {
            "text/plain": [
              "(1, 3, 5)"
            ]
          },
          "metadata": {},
          "execution_count": 17
        }
      ]
    },
    {
      "cell_type": "code",
      "source": [
        "# 윗 코드를 간단하게 쓰는 방법\n",
        "x, y = (1, 3)\n"
      ],
      "metadata": {
        "id": "NHzP7mkkafnd"
      },
      "execution_count": 21,
      "outputs": []
    },
    {
      "cell_type": "markdown",
      "source": [
        "## tuple & for"
      ],
      "metadata": {
        "id": "Yq7dq5pUbSOF"
      }
    },
    {
      "cell_type": "code",
      "source": [
        "for x in odds:\n",
        "    print(x)"
      ],
      "metadata": {
        "colab": {
          "base_uri": "https://localhost:8080/"
        },
        "id": "dzqb8AoQbVP0",
        "outputId": "659fa3dc-21b7-43d0-dc34-e3417a4ef753"
      },
      "execution_count": 22,
      "outputs": [
        {
          "output_type": "stream",
          "name": "stdout",
          "text": [
            "1\n",
            "3\n",
            "5\n"
          ]
        }
      ]
    },
    {
      "cell_type": "markdown",
      "source": [
        "# 2차원 리스트/튜플"
      ],
      "metadata": {
        "id": "9mOeUaRncGkV"
      }
    },
    {
      "cell_type": "code",
      "source": [
        "numbers = [\n",
        "    [1, 2, 3],\n",
        "    [4, 5, 6]\n",
        "]\n",
        "numbers"
      ],
      "metadata": {
        "colab": {
          "base_uri": "https://localhost:8080/"
        },
        "id": "piBMnhRjbRu8",
        "outputId": "28646f7c-3319-496c-a8de-f828ef5f9582"
      },
      "execution_count": 24,
      "outputs": [
        {
          "output_type": "execute_result",
          "data": {
            "text/plain": [
              "[[1, 2, 3], [4, 5, 6]]"
            ]
          },
          "metadata": {},
          "execution_count": 24
        }
      ]
    },
    {
      "cell_type": "code",
      "source": [
        "len(numbers) # 2차원 리스트 numbers의 원소 개수"
      ],
      "metadata": {
        "colab": {
          "base_uri": "https://localhost:8080/"
        },
        "id": "i4JBiYwJdK6J",
        "outputId": "4b2d9842-db48-48d6-b1e0-035aa9d748d7"
      },
      "execution_count": 26,
      "outputs": [
        {
          "output_type": "execute_result",
          "data": {
            "text/plain": [
              "2"
            ]
          },
          "metadata": {},
          "execution_count": 26
        }
      ]
    },
    {
      "cell_type": "code",
      "source": [
        "import random"
      ],
      "metadata": {
        "id": "fE71FXDhe8qM"
      },
      "execution_count": 27,
      "outputs": []
    },
    {
      "cell_type": "markdown",
      "source": [
        "Ex.\n",
        "1. 2x2 모양의 [0,10) 범위의 정수 난수들을 저장하는 2차원 리스트 array1을 만드세요.\n",
        "1. 2x2 모양의 [0,10) 범위의 정수 난수들을 저장하는 2차원 리스트 array2을 만드세요.\n",
        "1. array1과 array2의 같은 인덱스의 원소들끼리의 덧셈 결과를 저장하는 2차원 리스트 add를 만들고, 출력\n"
      ],
      "metadata": {
        "id": "vGQ9sULWeL1U"
      }
    },
    {
      "cell_type": "code",
      "source": [
        "array1 = [\n",
        "    [random.randrange(0, 10) for _ in range(2)],\n",
        "    [random.randrange(0, 10) for _ in range(2)]\n",
        "]\n",
        "\n",
        "array2 = [\n",
        "    [random.randrange(0, 10) for _ in range(2)],\n",
        "    [random.randrange(0, 10) for _ in range(2)]\n",
        "]\n",
        "\n",
        "add = [\n",
        "    [x + y for x, y in zip(array1[0], array2[0])],\n",
        "    [x + y for x, y in zip(array1[1], array2[1])]\n",
        "]\n",
        "\n",
        "print(array1)\n",
        "print(array2)\n",
        "add"
      ],
      "metadata": {
        "colab": {
          "base_uri": "https://localhost:8080/"
        },
        "id": "myutqNVseLMM",
        "outputId": "316474b8-119a-452f-87a4-7a137f8ba298"
      },
      "execution_count": 33,
      "outputs": [
        {
          "output_type": "stream",
          "name": "stdout",
          "text": [
            "[[4, 9], [6, 9]]\n",
            "[[1, 1], [7, 5]]\n"
          ]
        },
        {
          "output_type": "execute_result",
          "data": {
            "text/plain": [
              "[[5, 10], [13, 14]]"
            ]
          },
          "metadata": {},
          "execution_count": 33
        }
      ]
    },
    {
      "cell_type": "code",
      "source": [
        "array1 = [\n",
        "    [random.randrange(0, 10) for _ in range(2)] for _ in range(2)\n",
        "]\n",
        "\n",
        "array2 = [\n",
        "    [random.randrange(0, 10) for _ in range(2)] for _ in range(2)\n",
        "]\n",
        "\n",
        "add = [\n",
        "    [x + y for x, y in zip(array1[z], array2[z])] for z in range(0, 2)\n",
        "]\n",
        "\n",
        "add = [[x + y for x, y in zip(row1, row2)] for row1, row2 in zip(array1, array2)]\n",
        "\n",
        "print(array1)\n",
        "print(array2)\n",
        "add"
      ],
      "metadata": {
        "colab": {
          "base_uri": "https://localhost:8080/"
        },
        "id": "M_sMev8NnZga",
        "outputId": "abdd4e22-4b5d-4793-ac04-972dfb018422"
      },
      "execution_count": 37,
      "outputs": [
        {
          "output_type": "stream",
          "name": "stdout",
          "text": [
            "[[2, 9], [2, 1]]\n",
            "[[8, 3], [1, 7]]\n"
          ]
        },
        {
          "output_type": "execute_result",
          "data": {
            "text/plain": [
              "[[10, 12], [3, 8]]"
            ]
          },
          "metadata": {},
          "execution_count": 37
        }
      ]
    },
    {
      "cell_type": "markdown",
      "source": [
        "# Set(집합)\n",
        "\n",
        "* 중복된 데이터를 허용하지 않는다.\n",
        "    * `{1, 2, 2, 3, 3} = {1, 2, 3}`\n",
        "* 인덱스 기반의 자료 구조가 아님. 인덱스가 없음.\n",
        "    * 데이터의 저장 순서가 중요하지 않음 : `{1, 2, 3} = {3, 1, 2}`\n",
        "    * 인덱스가 없기 때문에, indexing, slicing 기능을 제공하지 않는다.\n",
        "    * for-in 구문에서 사용할 수 있는 interable 타입."
      ],
      "metadata": {
        "id": "wthrUGRZp98J"
      }
    },
    {
      "cell_type": "code",
      "source": [
        "# Set을 만드는 가장 간단한 방법\n",
        "s = {1, 2, 2, 3, 3, 3} # 중괄호 사용\n",
        "s\n",
        "type(s)"
      ],
      "metadata": {
        "colab": {
          "base_uri": "https://localhost:8080/"
        },
        "id": "GNNOeFZtrPVY",
        "outputId": "d61feb17-aba7-4669-b010-2994098626fe"
      },
      "execution_count": 39,
      "outputs": [
        {
          "output_type": "execute_result",
          "data": {
            "text/plain": [
              "set"
            ]
          },
          "metadata": {},
          "execution_count": 39
        }
      ]
    },
    {
      "cell_type": "markdown",
      "source": [
        "# set의 기능(메서드)"
      ],
      "metadata": {
        "id": "Q_YL-4zTrv8Q"
      }
    },
    {
      "cell_type": "code",
      "source": [
        "s.add(5)\n",
        "s"
      ],
      "metadata": {
        "colab": {
          "base_uri": "https://localhost:8080/"
        },
        "id": "e4VOUJKZr01X",
        "outputId": "1471c025-c4ea-42af-816c-6b59d42af091"
      },
      "execution_count": 42,
      "outputs": [
        {
          "output_type": "execute_result",
          "data": {
            "text/plain": [
              "{1, 2, 3, 5}"
            ]
          },
          "metadata": {},
          "execution_count": 42
        }
      ]
    },
    {
      "cell_type": "code",
      "source": [
        "s.add(5)\n",
        "s #중복 값 이여서 추가가 안된다."
      ],
      "metadata": {
        "colab": {
          "base_uri": "https://localhost:8080/"
        },
        "id": "EqYUfEvJsckO",
        "outputId": "df0d009c-d249-4ff4-e1b0-c8c7a84b2548"
      },
      "execution_count": 48,
      "outputs": [
        {
          "output_type": "execute_result",
          "data": {
            "text/plain": [
              "{1, 2, 3, 5}"
            ]
          },
          "metadata": {},
          "execution_count": 48
        }
      ]
    },
    {
      "cell_type": "code",
      "source": [
        "s.remove(3) # set의 원소를 삭제 삭제할 원소를 아규먼트로 전달.\n",
        "s"
      ],
      "metadata": {
        "colab": {
          "base_uri": "https://localhost:8080/"
        },
        "id": "ec_kYvuwsZ5T",
        "outputId": "52ce9473-20c9-464f-8684-c0cfc221eb08"
      },
      "execution_count": 49,
      "outputs": [
        {
          "output_type": "execute_result",
          "data": {
            "text/plain": [
              "{1, 2, 5}"
            ]
          },
          "metadata": {},
          "execution_count": 49
        }
      ]
    },
    {
      "cell_type": "code",
      "source": [
        "s.pop() # 삭제될 숫자를 조절할 수 없지만, 랜덤으로 숫자를 없애고 출력한다.\n",
        "s"
      ],
      "metadata": {
        "colab": {
          "base_uri": "https://localhost:8080/"
        },
        "id": "8kHYNxBasjZf",
        "outputId": "d03cdbc5-3b3e-41bd-a25e-4b91ad6eb6ed"
      },
      "execution_count": 51,
      "outputs": [
        {
          "output_type": "execute_result",
          "data": {
            "text/plain": [
              "{5}"
            ]
          },
          "metadata": {},
          "execution_count": 51
        }
      ]
    },
    {
      "cell_type": "code",
      "source": [
        "s1 = {1, 2, 3, 4}\n",
        "s2 = {2, 3, 5, 6}"
      ],
      "metadata": {
        "id": "nVlKOkxzswG4"
      },
      "execution_count": 52,
      "outputs": []
    },
    {
      "cell_type": "code",
      "source": [
        "s1.union(s2) # 교집합"
      ],
      "metadata": {
        "colab": {
          "base_uri": "https://localhost:8080/"
        },
        "id": "rc1_l44JtjyL",
        "outputId": "7887c864-924a-4946-b44d-0cafa750256f"
      },
      "execution_count": 54,
      "outputs": [
        {
          "output_type": "execute_result",
          "data": {
            "text/plain": [
              "{1, 2, 3, 4, 5, 6}"
            ]
          },
          "metadata": {},
          "execution_count": 54
        }
      ]
    },
    {
      "cell_type": "code",
      "source": [
        "s1.intersection(s2) #교집합"
      ],
      "metadata": {
        "colab": {
          "base_uri": "https://localhost:8080/"
        },
        "id": "zyuCy5mCtoWk",
        "outputId": "c51c91df-2091-42bb-eccf-03fe01dcdec5"
      },
      "execution_count": 56,
      "outputs": [
        {
          "output_type": "execute_result",
          "data": {
            "text/plain": [
              "{2, 3}"
            ]
          },
          "metadata": {},
          "execution_count": 56
        }
      ]
    },
    {
      "cell_type": "code",
      "source": [
        "s1.difference(s2) # 차집합 : s1 - s2"
      ],
      "metadata": {
        "colab": {
          "base_uri": "https://localhost:8080/"
        },
        "id": "ycs2dg_3tsFy",
        "outputId": "0a70bf02-3732-413e-8cdc-2b0d74246038"
      },
      "execution_count": 58,
      "outputs": [
        {
          "output_type": "execute_result",
          "data": {
            "text/plain": [
              "{1, 4}"
            ]
          },
          "metadata": {},
          "execution_count": 58
        }
      ]
    },
    {
      "cell_type": "code",
      "source": [
        "s2.difference(s1) # 차집합 : s2 - s1"
      ],
      "metadata": {
        "colab": {
          "base_uri": "https://localhost:8080/"
        },
        "id": "kA65bk_ztwZp",
        "outputId": "faeb4c67-d206-4ab4-8fd9-7837bd3c94e9"
      },
      "execution_count": 59,
      "outputs": [
        {
          "output_type": "execute_result",
          "data": {
            "text/plain": [
              "{5, 6}"
            ]
          },
          "metadata": {},
          "execution_count": 59
        }
      ]
    },
    {
      "cell_type": "markdown",
      "source": [
        "# dict\n",
        "\n",
        "* dictionary(사전) 형식의 데이터 타입.\n",
        "* 키(key)를 기반으로 값(value)를 저장하는 데이터 타입.\n",
        "    * list, tuple: 인덱스 기반의 데이터 타입.\n",
        "    * dict: key-value 기반의 데이터 타입.\n",
        "    * dict에서 key의 역할은 1개 아이템의 값(value)를 찾기 위한 용도."
      ],
      "metadata": {
        "id": "cJvzTLoLx2aw"
      }
    },
    {
      "cell_type": "code",
      "source": [
        "students = {1: '홍길동', 2: '허균', 3:'오쌤'}\n",
        "students"
      ],
      "metadata": {
        "colab": {
          "base_uri": "https://localhost:8080/"
        },
        "id": "VNQ2DMuXzmmd",
        "outputId": "386209d2-42ef-47c5-a025-4eb8926032fa"
      },
      "execution_count": 61,
      "outputs": [
        {
          "output_type": "execute_result",
          "data": {
            "text/plain": [
              "{1: '홍길동', 2: '허균', 3: '오쌤'}"
            ]
          },
          "metadata": {},
          "execution_count": 61
        }
      ]
    },
    {
      "cell_type": "code",
      "source": [
        "type(students)"
      ],
      "metadata": {
        "colab": {
          "base_uri": "https://localhost:8080/"
        },
        "id": "0epQBJxwx4Qj",
        "outputId": "c5ba9af0-336a-4f36-eedb-abdc12af4a77"
      },
      "execution_count": 62,
      "outputs": [
        {
          "output_type": "execute_result",
          "data": {
            "text/plain": [
              "dict"
            ]
          },
          "metadata": {},
          "execution_count": 62
        }
      ]
    },
    {
      "cell_type": "markdown",
      "source": [
        "`dict`에서 키를 사용하는 방법은 `list` 또는 `tuple`과 마찬가지로 인덱스 연산자([ ])를 사용함."
      ],
      "metadata": {
        "id": "5fFwLkJ10W_W"
      }
    },
    {
      "cell_type": "code",
      "source": [
        "students[1] # dict에서 key가 1인 아이템의 value"
      ],
      "metadata": {
        "colab": {
          "base_uri": "https://localhost:8080/",
          "height": 35
        },
        "id": "uqp1yvRT0gS3",
        "outputId": "5ed6c763-efec-4c99-8865-0aa483f3aab3"
      },
      "execution_count": 63,
      "outputs": [
        {
          "output_type": "execute_result",
          "data": {
            "text/plain": [
              "'홍길동'"
            ],
            "application/vnd.google.colaboratory.intrinsic+json": {
              "type": "string"
            }
          },
          "metadata": {},
          "execution_count": 63
        }
      ]
    },
    {
      "cell_type": "code",
      "source": [
        "students[10] = '홍길동' # dict에 새로운 key-value 아이템을 추가\n",
        "students"
      ],
      "metadata": {
        "colab": {
          "base_uri": "https://localhost:8080/"
        },
        "id": "H5-sygyN0zl4",
        "outputId": "4ffe8d1a-54f5-49a3-9cdb-7218b15eba26"
      },
      "execution_count": 65,
      "outputs": [
        {
          "output_type": "execute_result",
          "data": {
            "text/plain": [
              "{1: '홍길동', 2: '허균', 3: '오쌤', 10: '홍길동'}"
            ]
          },
          "metadata": {},
          "execution_count": 65
        }
      ]
    },
    {
      "cell_type": "code",
      "source": [
        "students[3] = 'scott' # dict에서 key에 해당하는 value를 수정.\n",
        "students"
      ],
      "metadata": {
        "colab": {
          "base_uri": "https://localhost:8080/"
        },
        "id": "q_wbhyil1JAS",
        "outputId": "be78f77c-9d0c-4078-fbda-60e7a1b0e274"
      },
      "execution_count": 67,
      "outputs": [
        {
          "output_type": "execute_result",
          "data": {
            "text/plain": [
              "{1: '홍길동', 2: '허균', 3: 'scott', 10: '홍길동'}"
            ]
          },
          "metadata": {},
          "execution_count": 67
        }
      ]
    },
    {
      "cell_type": "code",
      "source": [
        "students.pop(3) # dict에서 해당하는 key의 아이템(key : value)을 삭제\n",
        "students"
      ],
      "metadata": {
        "colab": {
          "base_uri": "https://localhost:8080/"
        },
        "id": "8lZTQmd_1kuN",
        "outputId": "317f9cb5-be65-4ab7-dbf6-39423089781d"
      },
      "execution_count": 68,
      "outputs": [
        {
          "output_type": "execute_result",
          "data": {
            "text/plain": [
              "{1: '홍길동', 2: '허균', 10: '홍길동'}"
            ]
          },
          "metadata": {},
          "execution_count": 68
        }
      ]
    },
    {
      "cell_type": "code",
      "source": [
        "book = {\n",
        "    'title': '점프 투 파이썬',\n",
        "    'authors': ['박응용', '웨스 메키니'],\n",
        "    'isbn': 123456789\n",
        "}\n",
        "book"
      ],
      "metadata": {
        "colab": {
          "base_uri": "https://localhost:8080/"
        },
        "id": "eooaDkyA2Uaq",
        "outputId": "7838ee2a-b900-40c2-c477-d2f2084ee22d"
      },
      "execution_count": 73,
      "outputs": [
        {
          "output_type": "execute_result",
          "data": {
            "text/plain": [
              "{'title': '점프 투 파이썬', 'authors': ['박응용', '웨스 메키니'], 'isbn': 123456789}"
            ]
          },
          "metadata": {},
          "execution_count": 73
        }
      ]
    },
    {
      "cell_type": "code",
      "source": [
        "book['title']"
      ],
      "metadata": {
        "colab": {
          "base_uri": "https://localhost:8080/",
          "height": 35
        },
        "id": "m_k2Shjz3o7T",
        "outputId": "5c44cdd0-089d-4532-d88b-33e236d9fc39"
      },
      "execution_count": 74,
      "outputs": [
        {
          "output_type": "execute_result",
          "data": {
            "text/plain": [
              "'점프 투 파이썬'"
            ],
            "application/vnd.google.colaboratory.intrinsic+json": {
              "type": "string"
            }
          },
          "metadata": {},
          "execution_count": 74
        }
      ]
    },
    {
      "cell_type": "code",
      "source": [
        "book['authors'][0]"
      ],
      "metadata": {
        "colab": {
          "base_uri": "https://localhost:8080/",
          "height": 35
        },
        "id": "-95s-nOv3qgI",
        "outputId": "abc0248f-092d-441b-d036-69e9ea943cb0"
      },
      "execution_count": 75,
      "outputs": [
        {
          "output_type": "execute_result",
          "data": {
            "text/plain": [
              "'박응용'"
            ],
            "application/vnd.google.colaboratory.intrinsic+json": {
              "type": "string"
            }
          },
          "metadata": {},
          "execution_count": 75
        }
      ]
    },
    {
      "cell_type": "code",
      "source": [
        "contact = {\n",
        "    'no': 1,\n",
        "    'name': '오쌤',\n",
        "    'phones': ['010-0000-0000', '02-0000-0000'],\n",
        "    'emails': {\n",
        "        'company': 'jake@itwill.co.kr',\n",
        "        'personal': 'jake@naver.com'\n",
        "    }\n",
        "}\n",
        "contact"
      ],
      "metadata": {
        "colab": {
          "base_uri": "https://localhost:8080/"
        },
        "id": "VqAv0juR3tZx",
        "outputId": "ace61961-3f9f-4851-f92f-1cf28fe8a9c7"
      },
      "execution_count": 77,
      "outputs": [
        {
          "output_type": "execute_result",
          "data": {
            "text/plain": [
              "{'no': 1,\n",
              " 'name': '오쌤',\n",
              " 'phones': ['010-0000-0000', '02-0000-0000'],\n",
              " 'emails': {'company': 'jake@itwill.co.kr', 'personal': 'jake@naver.com'}}"
            ]
          },
          "metadata": {},
          "execution_count": 77
        }
      ]
    },
    {
      "cell_type": "code",
      "source": [
        "for k in contact: # dict에서 for문을 반복하면 key값만 꺼내준다.\n",
        "    print(k)"
      ],
      "metadata": {
        "colab": {
          "base_uri": "https://localhost:8080/"
        },
        "id": "lni5pF124bPa",
        "outputId": "6faa0bef-750b-4389-b1bf-a11d0c72338d"
      },
      "execution_count": 79,
      "outputs": [
        {
          "output_type": "stream",
          "name": "stdout",
          "text": [
            "no\n",
            "name\n",
            "phones\n",
            "emails\n"
          ]
        }
      ]
    },
    {
      "cell_type": "markdown",
      "source": [
        "for-in 구문에서 dict를 사용하면 키(key)를 iteration함!"
      ],
      "metadata": {
        "id": "ajJjfGnk5FJ9"
      }
    },
    {
      "cell_type": "code",
      "source": [
        "for k in contact:\n",
        "    print(k, ':', contact[k])"
      ],
      "metadata": {
        "colab": {
          "base_uri": "https://localhost:8080/"
        },
        "id": "HZ6Mztnj5Eq3",
        "outputId": "a4ef13ea-651e-48d5-9bfa-c4d136311a48"
      },
      "execution_count": 81,
      "outputs": [
        {
          "output_type": "stream",
          "name": "stdout",
          "text": [
            "no : 1\n",
            "name : 오쌤\n",
            "phones : ['010-0000-0000', '02-0000-0000']\n",
            "emails : {'company': 'jake@itwill.co.kr', 'personal': 'jake@naver.com'}\n"
          ]
        }
      ]
    },
    {
      "cell_type": "code",
      "source": [
        "contact.keys() # dict의 key들의 리스트(key들을 가지고 있는 객체)를 리턴."
      ],
      "metadata": {
        "colab": {
          "base_uri": "https://localhost:8080/"
        },
        "id": "F8I8ljJN5nk_",
        "outputId": "326c4924-b761-44cc-aca5-d4945f8f3106"
      },
      "execution_count": 82,
      "outputs": [
        {
          "output_type": "execute_result",
          "data": {
            "text/plain": [
              "dict_keys(['no', 'name', 'phones', 'emails'])"
            ]
          },
          "metadata": {},
          "execution_count": 82
        }
      ]
    },
    {
      "cell_type": "code",
      "source": [
        "contact.values() # dict의 value들의 리스트를 리턴."
      ],
      "metadata": {
        "colab": {
          "base_uri": "https://localhost:8080/"
        },
        "id": "40oCSN8h5vAm",
        "outputId": "0408f37b-3674-4e23-e320-5dbc4ed36035"
      },
      "execution_count": 83,
      "outputs": [
        {
          "output_type": "execute_result",
          "data": {
            "text/plain": [
              "dict_values([1, '오쌤', ['010-0000-0000', '02-0000-0000'], {'company': 'jake@itwill.co.kr', 'personal': 'jake@naver.com'}])"
            ]
          },
          "metadata": {},
          "execution_count": 83
        }
      ]
    },
    {
      "cell_type": "code",
      "source": [
        "contact.items()\n",
        "# dict에서 (key, value)로 이루어진 튜플들의 리스트를 리턴."
      ],
      "metadata": {
        "colab": {
          "base_uri": "https://localhost:8080/"
        },
        "id": "WkMtJvqC50A1",
        "outputId": "578370db-d56c-4aa5-8090-b7cee138dfd5"
      },
      "execution_count": 85,
      "outputs": [
        {
          "output_type": "execute_result",
          "data": {
            "text/plain": [
              "dict_items([('no', 1), ('name', '오쌤'), ('phones', ['010-0000-0000', '02-0000-0000']), ('emails', {'company': 'jake@itwill.co.kr', 'personal': 'jake@naver.com'})])"
            ]
          },
          "metadata": {},
          "execution_count": 85
        }
      ]
    },
    {
      "cell_type": "code",
      "source": [
        "for k, v in contact.items():\n",
        "    print(k, v)"
      ],
      "metadata": {
        "colab": {
          "base_uri": "https://localhost:8080/"
        },
        "id": "E4hT7VDQ6Oct",
        "outputId": "d470864e-3820-44f6-b7d0-c2991fcfff3d"
      },
      "execution_count": 86,
      "outputs": [
        {
          "output_type": "stream",
          "name": "stdout",
          "text": [
            "no 1\n",
            "name 오쌤\n",
            "phones ['010-0000-0000', '02-0000-0000']\n",
            "emails {'company': 'jake@itwill.co.kr', 'personal': 'jake@naver.com'}\n"
          ]
        }
      ]
    },
    {
      "cell_type": "code",
      "source": [
        "# Dictionary Comprehension"
      ],
      "metadata": {
        "id": "fZUfwTEi_NxE"
      },
      "execution_count": 87,
      "outputs": []
    },
    {
      "cell_type": "code",
      "source": [
        "emp_no = [1001, 1002, 2001, 2002] # 직원 번호\n",
        "emp_name = ['King', 'Scott', 'Allen', 'Tiger'] # 직원 이름"
      ],
      "metadata": {
        "id": "KM6UeuVQ_RVk"
      },
      "execution_count": 88,
      "outputs": []
    },
    {
      "cell_type": "code",
      "source": [
        "# emp_no를 key로 하고 emp_name을 value로 dict를 만들고 출력.\n",
        "members = {\n",
        "    k: v for k, v in zip(emp_no, emp_name)\n",
        "}\n",
        "members"
      ],
      "metadata": {
        "colab": {
          "base_uri": "https://localhost:8080/"
        },
        "id": "VboQBaUa_c1Q",
        "outputId": "719f40cb-1f89-4de7-c0ee-6bb5b39ba6c2"
      },
      "execution_count": 91,
      "outputs": [
        {
          "output_type": "execute_result",
          "data": {
            "text/plain": [
              "{1001: 'King', 1002: 'Scott', 2001: 'Allen', 2002: 'Tiger'}"
            ]
          },
          "metadata": {},
          "execution_count": 91
        }
      ]
    },
    {
      "cell_type": "code",
      "source": [
        "# key-value를 저장할 빈 dict\n",
        "# 리스트의 원소 개수만큼 반복\n",
        "# dict에 key-value 아이템을 저장"
      ],
      "metadata": {
        "id": "HXsxAGBDAkBB"
      },
      "execution_count": 92,
      "outputs": []
    },
    {
      "cell_type": "code",
      "source": [
        "strings = ['hello', 'java', 'sql', 'python', 'javascript']\n",
        "# 리스트 strings의 문자열을 키로 하고, 그 문자열의 길이를 값으로 하는 dict를 만들고 출력.\n",
        "result = {\n",
        "    k: v for k, v in zip(strings, (len(str) for str in strings))\n",
        "}\n",
        "\n",
        "result = {\n",
        "    k: len(k) for k in strings\n",
        "}\n",
        "\n",
        "result"
      ],
      "metadata": {
        "colab": {
          "base_uri": "https://localhost:8080/"
        },
        "id": "HsSs_V_UAqjY",
        "outputId": "a78d0ccf-60c7-4202-b46c-7dee1fe72bc2"
      },
      "execution_count": 105,
      "outputs": [
        {
          "output_type": "execute_result",
          "data": {
            "text/plain": [
              "{'hello': 5, 'java': 4, 'sql': 3, 'python': 6, 'javascript': 10}"
            ]
          },
          "metadata": {},
          "execution_count": 105
        }
      ]
    }
  ]
}