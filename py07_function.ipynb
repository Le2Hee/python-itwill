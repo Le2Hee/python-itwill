{
  "nbformat": 4,
  "nbformat_minor": 0,
  "metadata": {
    "colab": {
      "provenance": [],
      "authorship_tag": "ABX9TyOCrpyoki4YyRdGRkpN5Z/S"
    },
    "kernelspec": {
      "name": "python3",
      "display_name": "Python 3"
    },
    "language_info": {
      "name": "python"
    }
  },
  "cells": [
    {
      "cell_type": "markdown",
      "source": [
        "# Function(함수)"
      ],
      "metadata": {
        "id": "7QZIX0VaE9ji"
      }
    },
    {
      "cell_type": "markdown",
      "source": [
        "* function(함수) : 기능을 수행하는 코드 블록.\n",
        "* argument: 함수를 호출하는 곳에서 함수에게 전달하는 값.\n",
        "* parameter: 지역변수, argument를 저장하기 위해서 함수 선언부에서 선언하는 지역 변수.\n",
        "* return value(반환값) : 함수가 기능의 수행 결과로 리턴하는 값.\n",
        "    * retrun value가 있는 함수\n",
        "    * retrun value가 없는 함수\n",
        "* 파이썬 함수 정의 방법\n",
        "    ```\n",
        "    #파라미터는 함수 이름 옆에 소괄호를 열고 써야한다.\n",
        "    def fuction_name([param, ...]):\n",
        "        # 들여쓰기를 해줘야 한다.\n",
        "        # 문서화 주석을 만들고, 만들때에는 큰따옴표(\") 3개를 써야한다.\n",
        "        [\"\"\"문서화 주석 - 함수 기능 설명, 파라미터 설명, 리턴 값 설명\"\"\"]\n",
        "        함수 기능 구현\n",
        "        [return 값] #리턴값이 없는 경우 생략 가능\n",
        "    ```\n",
        "* return value가 없는 경우:\n",
        "    * return 문장을 생략.\n",
        "    * return None 이라고 명시할 수도 있다."
      ],
      "metadata": {
        "id": "Pu1Xn55kFJ3z"
      }
    },
    {
      "cell_type": "code",
      "source": [
        "def subtract(x, y):\n",
        "    \"\"\"\n",
        "    2개의 숫자 x, y를 전달받아서 x-y 결과를 리턴하는 함수.\n",
        "    \"\"\"\n",
        "\n",
        "    return x - y\n",
        "\n",
        "result = subtract(5, 6)\n",
        "result"
      ],
      "metadata": {
        "colab": {
          "base_uri": "https://localhost:8080/"
        },
        "id": "uEbvU7WEFJEg",
        "outputId": "6bb83024-6a89-4d7e-9195-3d67531d69f3"
      },
      "execution_count": null,
      "outputs": [
        {
          "output_type": "execute_result",
          "data": {
            "text/plain": [
              "-1"
            ]
          },
          "metadata": {},
          "execution_count": 5
        }
      ]
    },
    {
      "cell_type": "code",
      "source": [
        "# 문자열과 숫자 하나를 전달 받아서 문자열을 숫자 수 만큼 출력해주는 함수.\n",
        "def repeat_message(message, n):\n",
        "    \"\"\"\n",
        "    문자열(message)를 양의 정수(n)번 만큼 반복해서 출력하는 함수.\n",
        "    \"\"\"\n",
        "    for _ in range(n):\n",
        "        print(message)\n",
        "    return None\n",
        "# 리턴 값이 없으면 보통 retrun문을 생략하지만, return None으로 명시하기도 한다.\n",
        "repeat_message('와그작', 7)"
      ],
      "metadata": {
        "colab": {
          "base_uri": "https://localhost:8080/"
        },
        "id": "LsYN7aDoI-1Q",
        "outputId": "08745472-d9cd-40ce-aace-e15b2c73640e"
      },
      "execution_count": null,
      "outputs": [
        {
          "output_type": "stream",
          "name": "stdout",
          "text": [
            "와그작\n",
            "와그작\n",
            "와그작\n",
            "와그작\n",
            "와그작\n",
            "와그작\n",
            "와그작\n"
          ]
        }
      ]
    },
    {
      "cell_type": "code",
      "source": [
        "import random"
      ],
      "metadata": {
        "id": "r7SMnJ54MrVf"
      },
      "execution_count": 16,
      "outputs": []
    },
    {
      "cell_type": "markdown",
      "source": [
        "#Ex 1.\n",
        "* 함수 이름: make_list\n",
        "* 기능: start 이상 end 미만의 정수 난수 n개를 갖는 리스트를 반환하는 함수."
      ],
      "metadata": {
        "id": "9ZHcFt_kML2I"
      }
    },
    {
      "cell_type": "code",
      "source": [
        "def make_list(start, end, n):\n",
        "    \"\"\"\n",
        "    start 이상 end 미안의 정수 난수 n개를 갖는 리스트를 반환하는 함수.\n",
        "    \"\"\"\n",
        "\n",
        "    return [random.randrange(start, end) for _ in range(n)]\n",
        "\n",
        "numbers = make_list(0, 10, 5)\n",
        "numbers"
      ],
      "metadata": {
        "colab": {
          "base_uri": "https://localhost:8080/"
        },
        "id": "fFEaHKJUMd5X",
        "outputId": "9adc3a3b-0227-4fc0-b3b2-32ca651291d1"
      },
      "execution_count": 17,
      "outputs": [
        {
          "output_type": "execute_result",
          "data": {
            "text/plain": [
              "[5, 4, 2, 1, 1]"
            ]
          },
          "metadata": {},
          "execution_count": 17
        }
      ]
    },
    {
      "cell_type": "markdown",
      "source": [
        "#Ex 2.\n",
        "* 함수 이름: calc_sum\n",
        "* 기능: 숫자들의 리스트를 전달받아서, 리스트의 모든 원소들의 합을 리턴하는 함수."
      ],
      "metadata": {
        "id": "ZTPtq_kkMNQQ"
      }
    },
    {
      "cell_type": "code",
      "source": [
        "def calc_sum(numbers):\n",
        "    \"\"\"\n",
        "    숫자들의 리스트를 전달받아서, 리스트의 모든 원소들의 합을 리턴하는 함수.\n",
        "    \"\"\"\n",
        "\n",
        "    total = 0\n",
        "\n",
        "    for x in numbers:\n",
        "        total += x\n",
        "\n",
        "    return total\n",
        "\n",
        "list_total = calc_sum(numbers)\n",
        "list_total"
      ],
      "metadata": {
        "colab": {
          "base_uri": "https://localhost:8080/"
        },
        "id": "Z5xmf1m_NUyo",
        "outputId": "a629a2f1-d054-42e6-ce81-3a09a44c83de"
      },
      "execution_count": null,
      "outputs": [
        {
          "output_type": "execute_result",
          "data": {
            "text/plain": [
              "303"
            ]
          },
          "metadata": {},
          "execution_count": 21
        }
      ]
    },
    {
      "cell_type": "markdown",
      "source": [
        "# Ex 3.\n",
        "* 함수 이름: calc_mean\n",
        "* 기능: 숫자들의 리스트를 전달받아서, 리스트의 원소들의 평균을 리턴하는 함수."
      ],
      "metadata": {
        "id": "zYwYtDzFMPnX"
      }
    },
    {
      "cell_type": "code",
      "source": [
        "def calc_mean(numbers):\n",
        "    \"\"\"\n",
        "    숫자들의 리스트를 전달받아서, 리스트의 원소들의 평균을 리턴하는 함수.\n",
        "    \"\"\"\n",
        "\n",
        "    return calc_sum(numbers) / len(numbers)\n",
        "\n",
        "list_av = calc_mean(numbers)\n",
        "list_av"
      ],
      "metadata": {
        "colab": {
          "base_uri": "https://localhost:8080/"
        },
        "id": "eWhja2PbOEW4",
        "outputId": "ba5bfd73-4d26-42fa-a914-a94ec54d1991"
      },
      "execution_count": null,
      "outputs": [
        {
          "output_type": "execute_result",
          "data": {
            "text/plain": [
              "60.6"
            ]
          },
          "metadata": {},
          "execution_count": 23
        }
      ]
    },
    {
      "cell_type": "markdown",
      "source": [
        "# Ex 4.\n",
        "* 함수 이름: calc_var\n",
        "* 기능: 숫자들의 리스트를 전달받아서, 리스트의 원소들의 분산(variance)을 리턴하는 함수.\n",
        "    * 분산 = (값 - 평균)**2 들의 평균"
      ],
      "metadata": {
        "id": "UDbHma_7MW7P"
      }
    },
    {
      "cell_type": "code",
      "source": [
        "def calc_var(numbers):\n",
        "    \"\"\"\n",
        "    숫자들의 리스트를 전달받아서, 리스트의 원소들의 분산(variance)을 리턴하는 함수.\n",
        "    \"\"\"\n",
        "\n",
        "    vari = [(x - calc_mean(numbers))**2 for x in numbers]\n",
        "\n",
        "    return calc_sum(vari) / len(vari)\n",
        "\n",
        "list_vari = calc_var(numbers)\n",
        "list_vari"
      ],
      "metadata": {
        "colab": {
          "base_uri": "https://localhost:8080/"
        },
        "id": "NgEpPtpsOY-v",
        "outputId": "4c263902-023c-4c5e-9d8c-800853f3f375"
      },
      "execution_count": null,
      "outputs": [
        {
          "output_type": "stream",
          "name": "stdout",
          "text": [
            "[5, 6, 3, 5, 0]\n",
            "3.8\n",
            "[1.4400000000000004, 4.840000000000001, 0.6399999999999997, 1.4400000000000004, 14.44]\n"
          ]
        },
        {
          "output_type": "execute_result",
          "data": {
            "text/plain": [
              "4.5600000000000005"
            ]
          },
          "metadata": {},
          "execution_count": 38
        }
      ]
    },
    {
      "cell_type": "code",
      "source": [
        "#del sum #메모리에 있는 sum이라는 변수를 지워준다."
      ],
      "metadata": {
        "id": "iZ1SdnKVvc-P"
      },
      "execution_count": 1,
      "outputs": []
    },
    {
      "cell_type": "markdown",
      "source": [
        "파이썬은 2개 이상의 값을 리턴하는 함수를 정의할 수 있다.\n",
        "\n",
        "함수를 호출한 곳에서는 리턴 값을 튜플로 취급하면 된다.\n",
        "\n",
        "```\n",
        "x, y = (1, 2) # 튜플에 decomposition 기능.(성분 분)\n",
        "```"
      ],
      "metadata": {
        "id": "Yo7mdBos4_38"
      }
    },
    {
      "cell_type": "code",
      "source": [
        "def plus_and_minus(x, y):\n",
        "    return x + y, x - y"
      ],
      "metadata": {
        "id": "4CpEXbKi5e_I"
      },
      "execution_count": 8,
      "outputs": []
    },
    {
      "cell_type": "code",
      "source": [
        "result = plus_and_minus(1, 2)\n",
        "result"
      ],
      "metadata": {
        "colab": {
          "base_uri": "https://localhost:8080/"
        },
        "id": "2XBetMg16Ahd",
        "outputId": "f7457c4a-98ff-41d1-841d-aa787bd509ef"
      },
      "execution_count": 10,
      "outputs": [
        {
          "output_type": "execute_result",
          "data": {
            "text/plain": [
              "(3, -1)"
            ]
          },
          "metadata": {},
          "execution_count": 10
        }
      ]
    },
    {
      "cell_type": "code",
      "source": [
        "plus, minus = plus_and_minus(1, 2)\n",
        "print(plus, minus)"
      ],
      "metadata": {
        "colab": {
          "base_uri": "https://localhost:8080/"
        },
        "id": "ZERIK6jp6YFG",
        "outputId": "26623184-bdb9-4e74-d449-48a7cd7c6979"
      },
      "execution_count": 12,
      "outputs": [
        {
          "output_type": "stream",
          "name": "stdout",
          "text": [
            "3 -1\n"
          ]
        }
      ]
    },
    {
      "cell_type": "markdown",
      "source": [
        "숫자들의 리스트를 전달받아서, 최댓값과 최솟값을 리턴하는 함수를 정의 하고, 테스트"
      ],
      "metadata": {
        "id": "Q-1dDivd6gr8"
      }
    },
    {
      "cell_type": "code",
      "source": [
        "def find_max_and_min(numbers):\n",
        "    max = numbers[0]\n",
        "    min = numbers[0]\n",
        "    for x in numbers:\n",
        "        if x > max:\n",
        "            max = x\n",
        "        if min > x:\n",
        "            min = x\n",
        "    return max, min"
      ],
      "metadata": {
        "id": "tyAWc-Km6gZM"
      },
      "execution_count": 22,
      "outputs": []
    },
    {
      "cell_type": "code",
      "source": [
        "max, min = find_max_and_min(numbers)\n",
        "print('numbers : ', numbers)\n",
        "print(max, \"/\", min)"
      ],
      "metadata": {
        "colab": {
          "base_uri": "https://localhost:8080/"
        },
        "id": "DJzM35Xd7R3x",
        "outputId": "73b9567e-1b0b-42c0-e8f0-7bc9049a5aae"
      },
      "execution_count": 23,
      "outputs": [
        {
          "output_type": "stream",
          "name": "stdout",
          "text": [
            "numbers :  [5, 4, 2, 1, 1]\n",
            "5 / 1\n"
          ]
        }
      ]
    },
    {
      "cell_type": "markdown",
      "source": [
        "숫자들의 리스트를 전달받아서 최댓값과 최댓값의 인덱스(위치)를 리턴하는 함수를 정의.\n",
        "\n",
        "최댓값이 2개 이상인 경우, 먼저 나오는 최댓값의 인덱스를 리턴."
      ],
      "metadata": {
        "id": "btREeCGP9yHz"
      }
    },
    {
      "cell_type": "code",
      "source": [
        "def find_max_and_index(numbers):\n",
        "    max = numbers[0]\n",
        "    for x in numbers:\n",
        "        if max <= x:\n",
        "            max = x\n",
        "    return numbers.index(max)"
      ],
      "metadata": {
        "id": "yfxd2UMK9UuK"
      },
      "execution_count": 30,
      "outputs": []
    },
    {
      "cell_type": "code",
      "source": [
        "max_index = find_max_and_index(numbers)\n",
        "print(max_index)"
      ],
      "metadata": {
        "colab": {
          "base_uri": "https://localhost:8080/"
        },
        "id": "B6KmluMc-ZV1",
        "outputId": "1326a5ea-fab8-43f3-b36b-e8144427b535"
      },
      "execution_count": 31,
      "outputs": [
        {
          "output_type": "stream",
          "name": "stdout",
          "text": [
            "0\n"
          ]
        }
      ]
    },
    {
      "cell_type": "markdown",
      "source": [
        "# Default argument(기본 인수)\n",
        "\n",
        "* 함수를 정의할 때 파라미터의 설정된 기본 값을 Default argument라고 한다.\n",
        "    * 함수를 호출할 때 파라미터에 값을 전달하지 않으면, 기본값이 사용된다.\n",
        "    * 함수를 호출할 때 파라미터에 값을 전달하면, 기본값은 무시되고 전달한 아규먼트가 사용됨\n",
        "* **(주의)**\n",
        "    * 함수를 정의할 때 Default argument를 갖는 파라미터들은 반드시 Default argument를 갖지 않는 파라미터들 뒤에 선언해야 한다.\n",
        "    * 기본값을 갖지 않는 파라미터들을 먼저 선언하고, 그 다음에 기본값을 갖는 파라미터들을 선언해야 한다."
      ],
      "metadata": {
        "id": "2-n9XrBbEJA7"
      }
    },
    {
      "cell_type": "code",
      "source": [
        "def repeat_message2(msg, n=1): # n을 Default argument라고 부른다. (기본값 1을 갖는다.)\n",
        "    for _ in range(n):\n",
        "        print(msg)\n"
      ],
      "metadata": {
        "id": "JVjpsLGgFdLp"
      },
      "execution_count": 33,
      "outputs": []
    },
    {
      "cell_type": "code",
      "source": [
        "repeat_message2('배고프다.', 2)"
      ],
      "metadata": {
        "colab": {
          "base_uri": "https://localhost:8080/"
        },
        "id": "zuUMPJzzFto0",
        "outputId": "7976a8fd-ee73-4cbf-f669-1eaed76e1851"
      },
      "execution_count": 36,
      "outputs": [
        {
          "output_type": "stream",
          "name": "stdout",
          "text": [
            "배고프다.\n",
            "배고프다.\n"
          ]
        }
      ]
    },
    {
      "cell_type": "markdown",
      "source": [
        "파이썬은 중괄호가 없기때문에 코드를 쓰면, 무조건 내용을 만들어줘야된다."
      ],
      "metadata": {
        "id": "JLzYiSjHGyNp"
      }
    },
    {
      "cell_type": "code",
      "source": [
        "def test(msg, n=1):\n",
        "    pass # 비워둘 수 없어서 넣어주는 값.\n",
        "\n",
        "def test(n=1, msg): # Default argument가 앞에 있으면 문법 오류가 난다.\n",
        "    pass"
      ],
      "metadata": {
        "id": "W-AvkXH5G34z"
      },
      "execution_count": null,
      "outputs": []
    },
    {
      "cell_type": "markdown",
      "source": [
        "# argument 전달 방법 :\n",
        "\n",
        "* positional argument: 함수 정의에서 선언된 파라미터 순서대로 아규먼트들을 전달하는 방법\n",
        "* keyword argument: `param=value` 형식으로 아규먼트들을 전달하는 방법.\n",
        "    * keyword argument 방식에서는 파라미터의 순서를 지키도 되고, 지키지 않아도 된다.\n",
        "* **(주의)**\n",
        "    * 함수 호출할 때 positional 방식과 keyword 방식을 함께 사용하는 경우에는, 반드시 positional argument를 먼저 사용하고, keyword argument는 나중에 사용해햐 한다."
      ],
      "metadata": {
        "id": "pnO-4VPRHLlY"
      }
    },
    {
      "cell_type": "code",
      "source": [
        "def minus(x, y):\n",
        "    return x - y"
      ],
      "metadata": {
        "id": "SzUkQ9siI_a2"
      },
      "execution_count": 37,
      "outputs": []
    },
    {
      "cell_type": "code",
      "source": [
        "minus(1, 2) # positional argument"
      ],
      "metadata": {
        "colab": {
          "base_uri": "https://localhost:8080/"
        },
        "id": "MZKYTGJtJDg_",
        "outputId": "87488539-8951-4422-a341-2725ff10cd1a"
      },
      "execution_count": 40,
      "outputs": [
        {
          "output_type": "execute_result",
          "data": {
            "text/plain": [
              "-1"
            ]
          },
          "metadata": {},
          "execution_count": 40
        }
      ]
    },
    {
      "cell_type": "code",
      "source": [
        "minus(y=2, x=1) # keyword argument는 순서(position)를 지키지 않아도 된다."
      ],
      "metadata": {
        "colab": {
          "base_uri": "https://localhost:8080/"
        },
        "id": "_FNddlnhJi1Z",
        "outputId": "1e846a71-feec-4d87-c16b-21f93ad52d82"
      },
      "execution_count": 42,
      "outputs": [
        {
          "output_type": "execute_result",
          "data": {
            "text/plain": [
              "-1"
            ]
          },
          "metadata": {},
          "execution_count": 42
        }
      ]
    },
    {
      "cell_type": "code",
      "source": [
        "minus(1, y=2) # positional argument와 keyword argument를 같이 사용한 것.\n",
        "              # 무조건 positional을 먼저 명시하고, keyword를 사용해야 한다."
      ],
      "metadata": {
        "colab": {
          "base_uri": "https://localhost:8080/"
        },
        "id": "S__q94YmJnx3",
        "outputId": "8566b92f-3e6c-4593-8569-b433005e0fd7"
      },
      "execution_count": 44,
      "outputs": [
        {
          "output_type": "execute_result",
          "data": {
            "text/plain": [
              "-1"
            ]
          },
          "metadata": {},
          "execution_count": 44
        }
      ]
    },
    {
      "cell_type": "markdown",
      "source": [
        "# 가변길이 인수(variable-length argument)\n",
        "\n",
        "* 함수를 호출할 때, 전달하는 argument의 개수가 임의로 변할 수 있는 것.\n",
        "    * 아규먼트를 전달하지 않아도 된다.\n",
        "* 함수를 정의할 때 파라미터 이름 앞에 `*`를 사용하면 가변길이 인수를 전달받을 수 있다.\n",
        "* 함수 내부에서 가변길이 인수는 튜플로 취급하면 된다.\n",
        "    * for-in 반복문 사용 가능.\n",
        "    * index 사용 가능.\n",
        "**(주의)**\n",
        "    * 가변길이 인수는 keyword 방식으로 전달할 수 없다. f(x=1, x=2, x=3)\n",
        "    * 함수를 정의할 때, 가변길이 인수를 갖는 파라미터는 오직 1개만 선언 가능하다.\n",
        "\n",
        "java: public void printf(String ... args) {}"
      ],
      "metadata": {
        "id": "04ewLEsNLaeo"
      }
    },
    {
      "cell_type": "code",
      "source": [
        "def add_all(*values):\n",
        "    total = 0\n",
        "    for x in values:\n",
        "        tatal += x\n",
        "\n",
        "    return total"
      ],
      "metadata": {
        "id": "FD6S1gfdLZu7"
      },
      "execution_count": 45,
      "outputs": []
    },
    {
      "cell_type": "code",
      "source": [
        "add_all(values=1) # keyword argument를 사용할 수 없다."
      ],
      "metadata": {
        "colab": {
          "base_uri": "https://localhost:8080/",
          "height": 174
        },
        "id": "jn28-LnkfrZY",
        "outputId": "8a5e2c55-87c5-49cd-eaa1-e906a6f15f50"
      },
      "execution_count": 48,
      "outputs": [
        {
          "output_type": "error",
          "ename": "TypeError",
          "evalue": "ignored",
          "traceback": [
            "\u001b[0;31m---------------------------------------------------------------------------\u001b[0m",
            "\u001b[0;31mTypeError\u001b[0m                                 Traceback (most recent call last)",
            "\u001b[0;32m<ipython-input-48-70052a9e8148>\u001b[0m in \u001b[0;36m<cell line: 1>\u001b[0;34m()\u001b[0m\n\u001b[0;32m----> 1\u001b[0;31m \u001b[0madd_all\u001b[0m\u001b[0;34m(\u001b[0m\u001b[0mvalues\u001b[0m\u001b[0;34m=\u001b[0m\u001b[0;36m1\u001b[0m\u001b[0;34m)\u001b[0m \u001b[0;31m# keyword argument를 사용할 수 없다.\u001b[0m\u001b[0;34m\u001b[0m\u001b[0;34m\u001b[0m\u001b[0m\n\u001b[0m",
            "\u001b[0;31mTypeError\u001b[0m: add_all() got an unexpected keyword argument 'values'"
          ]
        }
      ]
    },
    {
      "cell_type": "code",
      "source": [
        "def test(*x, *y):\n",
        "    pass\n",
        "test(1, 2, 3, 4, 5) # 오류가 나는 이유는 어디까지가 x이고 어디까지가 y인지 구별할 수 있는 방법이 없다."
      ],
      "metadata": {
        "colab": {
          "base_uri": "https://localhost:8080/",
          "height": 137
        },
        "id": "OvKIRLqghH_e",
        "outputId": "6c84905b-06a4-4945-9361-9dd84a288fb3"
      },
      "execution_count": 50,
      "outputs": [
        {
          "output_type": "error",
          "ename": "SyntaxError",
          "evalue": "ignored",
          "traceback": [
            "\u001b[0;36m  File \u001b[0;32m\"<ipython-input-50-74b5b322c3cf>\"\u001b[0;36m, line \u001b[0;32m1\u001b[0m\n\u001b[0;31m    def test(*x, *y):\u001b[0m\n\u001b[0m                 ^\u001b[0m\n\u001b[0;31mSyntaxError\u001b[0m\u001b[0;31m:\u001b[0m invalid syntax\n"
          ]
        }
      ]
    },
    {
      "cell_type": "markdown",
      "source": [
        "가변길이 인수 뒤에 파라미터가 있는 경우, 그 파라미터는 keyword 방식으로만 아규먼트를 전달할 수 있음."
      ],
      "metadata": {
        "id": "aucLIILrhfDQ"
      }
    },
    {
      "cell_type": "code",
      "source": [
        "def test(*x, y):\n",
        "    print(x)\n",
        "    print(y)"
      ],
      "metadata": {
        "id": "cB178clbheuo"
      },
      "execution_count": 51,
      "outputs": []
    },
    {
      "cell_type": "code",
      "source": [
        "test(1, 2, 3, y=5)"
      ],
      "metadata": {
        "colab": {
          "base_uri": "https://localhost:8080/"
        },
        "id": "n9u8a95Yhnea",
        "outputId": "dac60005-4f68-4114-e07d-9271d473a4b8"
      },
      "execution_count": 54,
      "outputs": [
        {
          "output_type": "stream",
          "name": "stdout",
          "text": [
            "(1, 2, 3)\n",
            "5\n"
          ]
        }
      ]
    },
    {
      "cell_type": "code",
      "source": [
        "def keyword_only(*, x, y, z): # *의 이름이 없다. 그래서 x, y, z는 반드시 넘겨야 되는 값이 된다.(keyword 방식)\n",
        "    print(f'x = {x}, y= {y}, z = {z}')"
      ],
      "metadata": {
        "id": "sGwQhJrRi88Y"
      },
      "execution_count": 55,
      "outputs": []
    },
    {
      "cell_type": "code",
      "source": [
        "keyword_only(x=1, y=2, z=5)"
      ],
      "metadata": {
        "colab": {
          "base_uri": "https://localhost:8080/"
        },
        "id": "qt_xKvMIjHTX",
        "outputId": "d44819d7-7271-49d6-8206-d1913c347f76"
      },
      "execution_count": 60,
      "outputs": [
        {
          "output_type": "stream",
          "name": "stdout",
          "text": [
            "x = 1, y= 2, z = 5\n"
          ]
        }
      ]
    },
    {
      "cell_type": "code",
      "source": [
        "print(1, 2, 3)"
      ],
      "metadata": {
        "colab": {
          "base_uri": "https://localhost:8080/"
        },
        "id": "NY6C2qymj12n",
        "outputId": "ecbf77d7-5111-4859-973e-f71bcce7b50d"
      },
      "execution_count": 62,
      "outputs": [
        {
          "output_type": "stream",
          "name": "stdout",
          "text": [
            "1 2 3\n"
          ]
        }
      ]
    },
    {
      "cell_type": "markdown",
      "source": [
        "# 가변길이 키워드 인수 (varuable-length keyword argument)\n",
        "\n",
        "* 함수를 정의할 때 파라미터 이름 앞에 `**`를 붙임.\n",
        "* 가변길이 인수 : 함수를 호출할 때 전달하는 아규먼트의 개수 제한이 없다.\n",
        "* keyword argument : 함수를 호출할 때 반드시 `param=value` 형식으로 전달해야 한다.\n",
        "* 함수 내부에서 가변길이 키워드 인수는 dict로 취급한다.\n",
        "* 함수 호출할 때 파라미터 이름은 아무렇게나 전달해도 된다.\n",
        "* 가변길이 키워드 인수는 함수에서 1개만 사용 가능."
      ],
      "metadata": {
        "id": "o79-zKf_l27n"
      }
    },
    {
      "cell_type": "code",
      "source": [
        "def test2(**kwargs):\n",
        "    print(kwargs)"
      ],
      "metadata": {
        "id": "5v45iIosnDFQ"
      },
      "execution_count": 63,
      "outputs": []
    },
    {
      "cell_type": "code",
      "source": [
        "test2(x = 1) # 파라미터 이름을 아무렇게나 전달해도 상관이 없다."
      ],
      "metadata": {
        "colab": {
          "base_uri": "https://localhost:8080/"
        },
        "id": "3C0yRG7snLqM",
        "outputId": "c61571ad-45ac-47dd-9fbc-1cb5335fda00"
      },
      "execution_count": 68,
      "outputs": [
        {
          "output_type": "stream",
          "name": "stdout",
          "text": [
            "{'x': 1}\n"
          ]
        }
      ]
    },
    {
      "cell_type": "code",
      "source": [
        "def make_emp_info(emp_no, emp_name, **kwargs):\n",
        "    emp = {'emp_no' : emp_no, 'emp_name': emp_name}\n",
        "    for k, v in kwargs.items():\n",
        "        emp[k] = v\n",
        "    return emp"
      ],
      "metadata": {
        "id": "IU1Cj6rVlwC4"
      },
      "execution_count": 69,
      "outputs": []
    },
    {
      "cell_type": "code",
      "source": [
        "make_emp_info(2, '홍길동', email='gildong@naver.com', dept='HR')"
      ],
      "metadata": {
        "colab": {
          "base_uri": "https://localhost:8080/"
        },
        "id": "YsjF--7ioj5s",
        "outputId": "f90bf64c-bb17-4886-85ab-617fde1f107d"
      },
      "execution_count": 72,
      "outputs": [
        {
          "output_type": "execute_result",
          "data": {
            "text/plain": [
              "{'emp_no': 2, 'emp_name': '홍길동', 'email': 'gildong@naver.com', 'dept': 'HR'}"
            ]
          },
          "metadata": {},
          "execution_count": 72
        }
      ]
    },
    {
      "cell_type": "code",
      "source": [
        "def print_msg(msg):\n",
        "    print(f'message={msg}')"
      ],
      "metadata": {
        "id": "8vERXdf3vf7d"
      },
      "execution_count": 73,
      "outputs": []
    },
    {
      "cell_type": "code",
      "source": [
        "print_msg('안녕하세요')"
      ],
      "metadata": {
        "colab": {
          "base_uri": "https://localhost:8080/"
        },
        "id": "XmNvSdqavmS5",
        "outputId": "6bdc3d37-8e8f-4899-e76a-bb3ae8c5753b"
      },
      "execution_count": 74,
      "outputs": [
        {
          "output_type": "stream",
          "name": "stdout",
          "text": [
            "message=안녕하세요\n"
          ]
        }
      ]
    },
    {
      "cell_type": "code",
      "source": [
        "print(print_msg('안녕하세요'))"
      ],
      "metadata": {
        "colab": {
          "base_uri": "https://localhost:8080/"
        },
        "id": "qDEVy3HYvp_F",
        "outputId": "7a83ee86-bb25-4213-eff8-8391ee3ac669"
      },
      "execution_count": 75,
      "outputs": [
        {
          "output_type": "stream",
          "name": "stdout",
          "text": [
            "message=안녕하세요\n",
            "None\n"
          ]
        }
      ]
    }
  ]
}