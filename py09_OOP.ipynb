{
  "nbformat": 4,
  "nbformat_minor": 0,
  "metadata": {
    "colab": {
      "provenance": [],
      "authorship_tag": "ABX9TyM1QdCDWZgX8xuP21nwSkrS",
      "include_colab_link": true
    },
    "kernelspec": {
      "name": "python3",
      "display_name": "Python 3"
    },
    "language_info": {
      "name": "python"
    }
  },
  "cells": [
    {
      "cell_type": "markdown",
      "metadata": {
        "id": "view-in-github",
        "colab_type": "text"
      },
      "source": [
        "<a href=\"https://colab.research.google.com/github/Le2Hee/python-itwill/blob/main/py09_OOP.ipynb\" target=\"_parent\"><img src=\"https://colab.research.google.com/assets/colab-badge.svg\" alt=\"Open In Colab\"/></a>"
      ]
    },
    {
      "cell_type": "markdown",
      "source": [
        "# 객체 지향 프로그래밍(OOP : Object-Oriented Programing)\n",
        "\n"
      ],
      "metadata": {
        "id": "WNojvg8Nzwf0"
      }
    },
    {
      "cell_type": "code",
      "execution_count": 36,
      "metadata": {
        "id": "8_9c6uBvzsmt"
      },
      "outputs": [],
      "source": [
        "class Student:\n",
        "    # 생성자 함수 : 생성자를 호출하면 파이썬 인터프리터에 의해서 자동으로 호출되는 메서드.\n",
        "    # 생성자를 만들때는 def로 시작한다.\n",
        "    # def 후 __를 사용 후 init후 __를 사용해서 선언한다.\n",
        "    # 아규먼트는 ()를 사용해서 표현한다.\n",
        "    # class안에서 def로 시작해서 메서드를 만들때 무조건 첫 아규먼트는 self라는 키워드를 사용한다.\n",
        "    # self는 java에서 this와 똑같은 역할을 한다.\n",
        "\n",
        "    def __init__(self, no, name, python, java, javascript): # init은 파이썬에서 특별하게 약속되어 있는 것이여서 이름은 고정되어 있다.\n",
        "        self.no = no\n",
        "        self.name = name\n",
        "        self.python = python\n",
        "        self.java = java\n",
        "        self.javascript = javascript\n",
        "\n",
        "    def get_total(self): # java와 다른점은 클래스 안에서 선언하는 메서드의 아규먼트는 무조건 self이다.\n",
        "        # 파이썬의 메서드는 멤버들을 접근할 때 반드시 self 키워드를 사용해야 한다.\n",
        "        # 이 메서드를 호출할 때에는 아규먼트가 없는 메서드이다.\n",
        "        return self.python + self.java + self.javascript # java에서 this를 생략가능 했지만, python은 self가 생략되지 않는다. java는 변수를 선언하고 만들기 때문이다.\n",
        "\n",
        "        # 파이썬 인터프리터가 self를 넣어준다.\n",
        "        # 객체 studet1의 식(expression)을 출력할떄 나오는 0x7f93b92ae3e0(생성된 주소)를 파이썬 인터프리터 self에 넣어준다.\n",
        "\n",
        "    def get_mean(self):\n",
        "        return self.get_total() / 3\n",
        "\n",
        "    def print_info(self):\n",
        "        print(f'Student(번호={self.no}), 이름={self.name}, python={self.python} java={self.java}, javascript={self.javascript}')"
      ]
    },
    {
      "cell_type": "code",
      "source": [
        "# Student 타입의 객체 생성\n",
        "# 파이썬에서는 new라는 키워드를 사용하지 않는다.\n",
        "student1 = Student(1, '홍길동', 100, 90, 50) # class 이름으로 생성자 호출.\n",
        "\n",
        "# init은 생성자 함수라고 부르지만, 코드에서 클래스 이름으로 호출하면 자동으로 init이 호출된다."
      ],
      "metadata": {
        "id": "Dje5TB8D14io"
      },
      "execution_count": 37,
      "outputs": []
    },
    {
      "cell_type": "code",
      "source": [
        "print(student1) # 객체 student1을 문자열로 출력"
      ],
      "metadata": {
        "colab": {
          "base_uri": "https://localhost:8080/"
        },
        "id": "1N_fk27C2d_S",
        "outputId": "891bca0e-27ba-4d4c-c2e8-dc8917dd07be"
      },
      "execution_count": 38,
      "outputs": [
        {
          "output_type": "stream",
          "name": "stdout",
          "text": [
            "<__main__.Student object at 0x7f93a8b967a0>\n"
          ]
        }
      ]
    },
    {
      "cell_type": "code",
      "source": [
        "student1 # 객체 studet1의 식(expression)을 출력."
      ],
      "metadata": {
        "colab": {
          "base_uri": "https://localhost:8080/"
        },
        "id": "488n34dq4hja",
        "outputId": "e860f94b-5da6-4cf3-9879-fa19b8b40985"
      },
      "execution_count": 39,
      "outputs": [
        {
          "output_type": "execute_result",
          "data": {
            "text/plain": [
              "<__main__.Student at 0x7f93a8b967a0>"
            ]
          },
          "metadata": {},
          "execution_count": 39
        }
      ]
    },
    {
      "cell_type": "code",
      "source": [
        "student1.name"
      ],
      "metadata": {
        "colab": {
          "base_uri": "https://localhost:8080/",
          "height": 35
        },
        "id": "VjRBG-5a44iO",
        "outputId": "51fde2a5-a2d0-4b0a-bae5-db13a1c50d35"
      },
      "execution_count": 40,
      "outputs": [
        {
          "output_type": "execute_result",
          "data": {
            "text/plain": [
              "'홍길동'"
            ],
            "application/vnd.google.colaboratory.intrinsic+json": {
              "type": "string"
            }
          },
          "metadata": {},
          "execution_count": 40
        }
      ]
    },
    {
      "cell_type": "code",
      "source": [
        "student1.get_total()"
      ],
      "metadata": {
        "colab": {
          "base_uri": "https://localhost:8080/"
        },
        "id": "cWy9zywV7g4g",
        "outputId": "37aae9bd-b947-4dc1-8ff8-e4bf9a3d0b2f"
      },
      "execution_count": 41,
      "outputs": [
        {
          "output_type": "execute_result",
          "data": {
            "text/plain": [
              "240"
            ]
          },
          "metadata": {},
          "execution_count": 41
        }
      ]
    },
    {
      "cell_type": "code",
      "source": [
        "student1.get_mean()"
      ],
      "metadata": {
        "colab": {
          "base_uri": "https://localhost:8080/"
        },
        "id": "mCqC6nJ_9VXb",
        "outputId": "72bb059e-b980-45ed-9dae-2201353d078d"
      },
      "execution_count": 42,
      "outputs": [
        {
          "output_type": "execute_result",
          "data": {
            "text/plain": [
              "80.0"
            ]
          },
          "metadata": {},
          "execution_count": 42
        }
      ]
    },
    {
      "cell_type": "code",
      "source": [
        "student1.print_info()"
      ],
      "metadata": {
        "colab": {
          "base_uri": "https://localhost:8080/"
        },
        "id": "suDOvt-E9W3z",
        "outputId": "3aa01d24-eec8-45df-f0de-88325ed180c3"
      },
      "execution_count": 44,
      "outputs": [
        {
          "output_type": "stream",
          "name": "stdout",
          "text": [
            "Student(번호=1), 이름=홍길동, python=100 java=90, javascript=50\n"
          ]
        }
      ]
    },
    {
      "cell_type": "code",
      "source": [
        "import math\n",
        "# math 모듈을 임포트 -> math.sqrt() (루트)"
      ],
      "metadata": {
        "id": "JNWbCxuhBnTb"
      },
      "execution_count": 45,
      "outputs": []
    },
    {
      "cell_type": "markdown",
      "source": [
        "* class: Point\n",
        "    * 2차원 평명의 점의 좌표 (x, y)를 표현하는 클래스\n",
        "* 생성자 함수에서는 x, y를 초기화. x, y 기본값은 둘 다 0\n",
        "* 메서드\n",
        "    * move: 점의 좌표를 원래 위치에서 dx, dy만큼 이동시키는 메서드.\n",
        "    * distance: 두 점 간의 거리를 계산해서 리턴하는 메서드.\n",
        "        * `sqrt((x1 - x2)**2 + (y1 - y2)**2)`\n",
        "\n",
        "* $를 사용하면 수학 문법을 사용할 수 있다.\n",
        "\n",
        ">>> $ \\sqrt{(x_1 - x_2)^2 + (y_1 - y_2)^2} $"
      ],
      "metadata": {
        "id": "pIqlxqG-B3BI"
      }
    },
    {
      "cell_type": "code",
      "source": [
        "class Point:\n",
        "\n",
        "    def __init__(self, x=0, y=0):\n",
        "        self.x = x\n",
        "        self.y = y\n",
        "\n",
        "    def move(self, dx, dy):\n",
        "        \"\"\"\n",
        "        점의 좌표를 원래 위치에서 dx, dy만큼 이동시키는 메서드.\n",
        "        \"\"\"\n",
        "        self.x = self.x + dx\n",
        "        self.y = self.y + dy\n",
        "\n",
        "    def distance(self, Point):\n",
        "        \"\"\"\n",
        "        두 점 간의 거리를 계산해서 리턴하는 메서드.\n",
        "        \"\"\"\n",
        "        return  math.sqrt((self.x - Point.x)**2 + (self.y-Point.y))"
      ],
      "metadata": {
        "id": "-iaHAhByBrVs"
      },
      "execution_count": 57,
      "outputs": []
    },
    {
      "cell_type": "code",
      "source": [
        "point1 = Point(10, 15)\n",
        "point1\n",
        "point2 = Point(5, 20)\n",
        "point2"
      ],
      "metadata": {
        "colab": {
          "base_uri": "https://localhost:8080/"
        },
        "id": "UvDhduiVEWst",
        "outputId": "5dd994d5-b5bf-41df-8440-d05cf05cfa0d"
      },
      "execution_count": 58,
      "outputs": [
        {
          "output_type": "execute_result",
          "data": {
            "text/plain": [
              "<__main__.Point at 0x7f9387488a30>"
            ]
          },
          "metadata": {},
          "execution_count": 58
        }
      ]
    },
    {
      "cell_type": "code",
      "source": [
        "point1.move(5, 7)\n",
        "print(point1.x, point1.y)"
      ],
      "metadata": {
        "colab": {
          "base_uri": "https://localhost:8080/"
        },
        "id": "5DacRbw7EcWk",
        "outputId": "a48f520b-407a-4c4f-e4fe-ac6b119736ae"
      },
      "execution_count": 59,
      "outputs": [
        {
          "output_type": "stream",
          "name": "stdout",
          "text": [
            "15 22\n"
          ]
        }
      ]
    },
    {
      "cell_type": "code",
      "source": [
        "print(point1.distance(point2))"
      ],
      "metadata": {
        "colab": {
          "base_uri": "https://localhost:8080/"
        },
        "id": "z2oJP3XvEoFd",
        "outputId": "0a60af8f-9e53-40de-d78e-d842d4530d35"
      },
      "execution_count": 60,
      "outputs": [
        {
          "output_type": "stream",
          "name": "stdout",
          "text": [
            "10.099504938362077\n"
          ]
        }
      ]
    },
    {
      "cell_type": "markdown",
      "source": [
        "# magic method"
      ],
      "metadata": {
        "id": "R2rLhxXuN3R2"
      }
    },
    {
      "cell_type": "markdown",
      "source": [
        "모든 클래스가 같은 이름으로 가지고 있는 특별한 메서드.\n",
        "\n",
        "특별한 경우에 파이썬 인터프리터에 의해서 호출되는 메서드.\n",
        "\n",
        "이름 앞과 뒤에 __ 가 있다.(구별을 위해)\n",
        "\n",
        "가장 대표적인 것\n",
        "* `__init__()`\n",
        "    * 생성자를 호출하면 자동으로 호출되는 메서드.\n",
        "    * 인스턴스가 가지고 있는 필드(맴버, 프로퍼티)들을 선언하고 초기화하는 메서드.\n",
        "* `__str__()`\n",
        "    * `print()`의 아규먼트가 객체일 때 자동으로 호출되는 메서드.\n",
        "    * 객체를 문자열로 표현해주는 메서드.\n",
        "    * 문자열을 리턴하는 메서드.\n",
        "* `__repr__()`\n",
        "    * representation(표현)의 약자\n",
        "    * 셀의 가장 마지막에서 자동으로 출력되는 식(expression)을 출력할 때 자동으로 호출되는 메서드.\n",
        "    * `print()`의 동작 방식:\n",
        "        * 객체를 출력하기 위해서, 그 객체의 `__str__()`를 먼저 호출한다.\n",
        "        * 만약에 `__str__()`가 없는 경우에는, `__repr__()`를 호출한다.\n",
        "        * `__str__()`와 `__repr__()`가 모두 없는 경우에는, 기본 문자열(... object at 0x...)로 출력."
      ],
      "metadata": {
        "id": "3bMSxauaOxwk"
      }
    },
    {
      "cell_type": "code",
      "source": [
        "class T:\n",
        "    # def __str__(self):\n",
        "    #     return 'Class T Instance'\n",
        "\n",
        "    def __repr__(self):\n",
        "        return 'T'"
      ],
      "metadata": {
        "id": "T-6woWn5RSZl"
      },
      "execution_count": 71,
      "outputs": []
    },
    {
      "cell_type": "code",
      "source": [
        "t = T() # 생성자 호출 -> __init__() 호출"
      ],
      "metadata": {
        "id": "N7A3PNcmRbQY"
      },
      "execution_count": 72,
      "outputs": []
    },
    {
      "cell_type": "code",
      "source": [
        "print(t) # __str__()가 자동으로 호출된다."
      ],
      "metadata": {
        "colab": {
          "base_uri": "https://localhost:8080/"
        },
        "id": "hgyrfk7aR4Su",
        "outputId": "2316f57e-8e70-4f09-ab98-ebdd9c3f5ca3"
      },
      "execution_count": 73,
      "outputs": [
        {
          "output_type": "stream",
          "name": "stdout",
          "text": [
            "T\n"
          ]
        }
      ]
    },
    {
      "cell_type": "code",
      "source": [
        "t # __repr__() 가 자동으로 호출된다."
      ],
      "metadata": {
        "colab": {
          "base_uri": "https://localhost:8080/"
        },
        "id": "fEzaC5ObR7gM",
        "outputId": "453ba6f1-24c1-406c-8ff7-9901f273baaa"
      },
      "execution_count": 74,
      "outputs": [
        {
          "output_type": "execute_result",
          "data": {
            "text/plain": [
              "T"
            ]
          },
          "metadata": {},
          "execution_count": 74
        }
      ]
    },
    {
      "cell_type": "markdown",
      "source": [
        "* `__eq__()`\n",
        "    * `==` 연산자를 사용했을 때 자동으로 호출되는 메서드. (주소값을 비교하는 걸로 설정되어 있다.)\n",
        "    * 두 객체가 같은 지 (True) 다른 지(False)를 리턴."
      ],
      "metadata": {
        "id": "Bf5d9Kp0UCbd"
      }
    },
    {
      "cell_type": "code",
      "source": [
        "list1 = [1, 2, 3]\n",
        "list2 = [1, 2, 3]\n",
        "\n",
        "list1 == list2 # 자바에서는 list1의 주소값 list2의 주소값을 비교해서 false가 나오는데 파이썬은 안쪽 값을 비교해서 true가 나온다.\n",
        "# list 클래스가 __eq__() 메서드를 구현하고 있기 때문에 안쪽 값을 비교한다."
      ],
      "metadata": {
        "colab": {
          "base_uri": "https://localhost:8080/"
        },
        "id": "aHJgSlVcUsJ4",
        "outputId": "4a11dc88-d22f-4827-e488-2d8877fa12c0"
      },
      "execution_count": 76,
      "outputs": [
        {
          "output_type": "execute_result",
          "data": {
            "text/plain": [
              "True"
            ]
          },
          "metadata": {},
          "execution_count": 76
        }
      ]
    },
    {
      "cell_type": "code",
      "source": [
        "class Number:\n",
        "    def __init__(self, n):\n",
        "        self.n = n\n",
        "\n",
        "    def __repr__(self):\n",
        "        return str(self.n)\n",
        "\n",
        "    def __eq__(self, other):\n",
        "        return self.n == other.n"
      ],
      "metadata": {
        "id": "ZwShpEcyVEYX"
      },
      "execution_count": 100,
      "outputs": []
    },
    {
      "cell_type": "code",
      "source": [
        "n1 = Number(1)\n",
        "n1"
      ],
      "metadata": {
        "colab": {
          "base_uri": "https://localhost:8080/"
        },
        "id": "9XgSwW_JVkS8",
        "outputId": "d54aeedf-3725-43dd-9438-83eae4199a74"
      },
      "execution_count": 101,
      "outputs": [
        {
          "output_type": "execute_result",
          "data": {
            "text/plain": [
              "1"
            ]
          },
          "metadata": {},
          "execution_count": 101
        }
      ]
    },
    {
      "cell_type": "code",
      "source": [
        "n2 = Number(1)\n",
        "n2"
      ],
      "metadata": {
        "colab": {
          "base_uri": "https://localhost:8080/"
        },
        "id": "Z4FSL3ZIVzUQ",
        "outputId": "be424df9-6445-43a2-c177-1a9d947caeca"
      },
      "execution_count": 102,
      "outputs": [
        {
          "output_type": "execute_result",
          "data": {
            "text/plain": [
              "1"
            ]
          },
          "metadata": {},
          "execution_count": 102
        }
      ]
    },
    {
      "cell_type": "code",
      "source": [
        "n1 == n2 # n1.__eq__(n2) 와 같은 코드이다."
      ],
      "metadata": {
        "colab": {
          "base_uri": "https://localhost:8080/"
        },
        "id": "_aOuxwruV9jz",
        "outputId": "eb1028a4-1236-402d-bef2-8007dd4bb291"
      },
      "execution_count": 103,
      "outputs": [
        {
          "output_type": "execute_result",
          "data": {
            "text/plain": [
              "True"
            ]
          },
          "metadata": {},
          "execution_count": 103
        }
      ]
    },
    {
      "cell_type": "markdown",
      "source": [
        "# Exercise\n",
        "\n",
        "* class Score\n",
        "    * 프로퍼티: korean, math, science(int 타입)\n",
        "    * 메서드: `__init__()`, `__repr__()`, `__eq__()`, `get_total()`, `get_mean()`\n",
        "\n",
        "* class Student\n",
        "    * 프로퍼티: no(int), name(str), score(Score)\n",
        "    * 메서드: `__init__()`, `__repr__()`"
      ],
      "metadata": {
        "id": "30pQ_BSOoSVG"
      }
    },
    {
      "cell_type": "code",
      "source": [
        "class Score:\n",
        "    def __init__(salf, korean=0, math=0, science=0):\n",
        "        salf.korean = korean\n",
        "        salf.math = math\n",
        "        salf.science = science\n",
        "\n",
        "    def __repr__(salf):\n",
        "        return f'국어 : {salf.korean}, 수학 : {salf.math}, 과학 : {salf.science}'\n",
        "\n",
        "    def __eq__(salf, sc):\n",
        "        # '\\'을 사용하면 문장이 끝나지 않았다는 걸 알려준다. (한 줄로 작성하기가 길면 줄 바꿈 하기 전에 사용)\n",
        "        return salf.korean == sc.korean and salf.math == sc.math and salf.science == sc.science\n",
        "\n",
        "    def get_total(salf):\n",
        "        \"\"\"\n",
        "        3과목의 총 합을 계산하는 메서드.\n",
        "        \"\"\"\n",
        "        return salf.korean + salf.math + salf.science\n",
        "\n",
        "    def get_mean(salf):\n",
        "        \"\"\"\n",
        "        3과목의 평균을 계산하는 메서드.\n",
        "        \"\"\"\n",
        "        return salf.get_total() / 3"
      ],
      "metadata": {
        "id": "NmPAvY8hWOQS"
      },
      "execution_count": 138,
      "outputs": []
    },
    {
      "cell_type": "code",
      "source": [
        "class Student:\n",
        "    def __init__(salf, no, name, Score):\n",
        "        salf.no = no\n",
        "        salf.name = no\n",
        "        salf.Score = Score\n",
        "\n",
        "    def __repr__(salf):\n",
        "        return f\"번호 = {salf.no}, 이름 = {salf.name}, 국어 = {salf.Score.korean}, 수학 = {salf.Score.math}, 과학 = {salf.Score.science}\""
      ],
      "metadata": {
        "id": "cd0DddTgqBPm"
      },
      "execution_count": 139,
      "outputs": []
    },
    {
      "cell_type": "code",
      "source": [
        "sc1 = Score(50, 84, 92)\n",
        "sc1"
      ],
      "metadata": {
        "colab": {
          "base_uri": "https://localhost:8080/"
        },
        "id": "B6pwjkYbq52C",
        "outputId": "f0a5f47c-47a8-40f2-a96c-ac400af6dbd4"
      },
      "execution_count": 140,
      "outputs": [
        {
          "output_type": "execute_result",
          "data": {
            "text/plain": [
              "국어 : 50, 수학 : 84, 과학 : 92"
            ]
          },
          "metadata": {},
          "execution_count": 140
        }
      ]
    },
    {
      "cell_type": "code",
      "source": [
        "student1 = Student(1, '얍', sc1)\n",
        "student1"
      ],
      "metadata": {
        "colab": {
          "base_uri": "https://localhost:8080/"
        },
        "id": "ClpsdRX5rRMS",
        "outputId": "22782afb-807b-4ca4-9719-9744f34c492f"
      },
      "execution_count": 141,
      "outputs": [
        {
          "output_type": "execute_result",
          "data": {
            "text/plain": [
              "번호 = 1, 이름 = 1, 국어 = 50, 수학 = 84, 과학 = 92"
            ]
          },
          "metadata": {},
          "execution_count": 141
        }
      ]
    },
    {
      "cell_type": "code",
      "source": [
        "sc2 = Score(50, 84, 92)\n",
        "sc2"
      ],
      "metadata": {
        "colab": {
          "base_uri": "https://localhost:8080/"
        },
        "id": "Mhtqv_k4rZvT",
        "outputId": "ff9e7305-0a94-419f-d1ab-e6e2ce3702cf"
      },
      "execution_count": 142,
      "outputs": [
        {
          "output_type": "execute_result",
          "data": {
            "text/plain": [
              "국어 : 50, 수학 : 84, 과학 : 92"
            ]
          },
          "metadata": {},
          "execution_count": 142
        }
      ]
    },
    {
      "cell_type": "code",
      "source": [
        "student2 = Student(2, '엽', sc2)\n",
        "student2"
      ],
      "metadata": {
        "colab": {
          "base_uri": "https://localhost:8080/"
        },
        "id": "CdrAX0j_uQr2",
        "outputId": "fabdf62e-2c2a-4cfe-8feb-618c89b48e8c"
      },
      "execution_count": 143,
      "outputs": [
        {
          "output_type": "execute_result",
          "data": {
            "text/plain": [
              "번호 = 2, 이름 = 2, 국어 = 50, 수학 = 84, 과학 = 92"
            ]
          },
          "metadata": {},
          "execution_count": 143
        }
      ]
    },
    {
      "cell_type": "code",
      "source": [
        "sc1 == sc2"
      ],
      "metadata": {
        "colab": {
          "base_uri": "https://localhost:8080/"
        },
        "id": "V72KI_eQuVaG",
        "outputId": "00393fc2-88ca-4d17-fa2e-43fcc5c4e9c0"
      },
      "execution_count": 144,
      "outputs": [
        {
          "output_type": "execute_result",
          "data": {
            "text/plain": [
              "True"
            ]
          },
          "metadata": {},
          "execution_count": 144
        }
      ]
    },
    {
      "cell_type": "markdown",
      "source": [
        "# 상속(Inheritance)"
      ],
      "metadata": {
        "id": "IOgOQdRY5-ZK"
      }
    },
    {
      "cell_type": "markdown",
      "source": [
        "* super class(상위 클래스), parent class(부모 클래스), base class(기본 클래스)\n",
        "* sub class(하위 클래스), child class(자식 클래스), derived class(유도 클래스)\n",
        "* 상속의 정의\n",
        "    * 상의 클래스의 속성(데이터)들과 기능(메서드)들을 하위 클래스에서 재사용하는 것.\n",
        "* 일반적으로 **IS-A** 관계가 성립하는 객체들을 상속을 사용해서 구현함.\n",
        "    * IS-A (예시)\n",
        "        * 학생은 사람이다.\n",
        "        * 사람은 이름을 가지고 있다.\n",
        "        * 학생은 이름만이 아니라 학교를 다니고 있으면 학교를 가지고 있다.\n",
        "    * 학생은 사람이다 (Student IS A Person)"
      ],
      "metadata": {
        "id": "k8PQ8JSq6Cc5"
      }
    },
    {
      "cell_type": "code",
      "source": [
        "class Person:\n",
        "    def __init__(self, name, age=0):\n",
        "        self.name = name\n",
        "        self.age = age\n",
        "\n",
        "    def hello(self):\n",
        "        print(f'안녕하세요, 저는 {self.name}입니다. 나이는 {self.age}입니다.', end=' ')"
      ],
      "metadata": {
        "id": "sjZNXihe7ZlE"
      },
      "execution_count": 185,
      "outputs": []
    },
    {
      "cell_type": "code",
      "source": [
        "gildong = Person('홍길동')\n",
        "gildong.hello()"
      ],
      "metadata": {
        "colab": {
          "base_uri": "https://localhost:8080/"
        },
        "id": "RHGqybZB8hNl",
        "outputId": "a943fe31-fbd9-40d8-c4cd-db281dd87097"
      },
      "execution_count": 186,
      "outputs": [
        {
          "output_type": "stream",
          "name": "stdout",
          "text": [
            "안녕하세요, 저는 홍길동입니다. 나이는 0입니다. "
          ]
        }
      ]
    },
    {
      "cell_type": "code",
      "source": [
        "class Student(Person):\n",
        "    # 생성자 method override\n",
        "    def __init__(self, name, age=0, school='Test'):\n",
        "        # 하위 클래스에서 상위 클래스의 모든 메서드를 호출:\n",
        "        super().__init__(name, age)\n",
        "        self.school = school\n",
        "\n",
        "    # hello method override\n",
        "    def hello(self):  # 슈퍼클래스가 가지고 있는 메서드 이름을 똑같이 만들면 override가 된다.\n",
        "        super().hello()\n",
        "        print(f'학교는 {self.school}입니다.')"
      ],
      "metadata": {
        "id": "kGRkGmlB7j80"
      },
      "execution_count": 187,
      "outputs": []
    },
    {
      "cell_type": "code",
      "source": [
        "stu = Student(name='오쌤', age=16, school='아이디티윌')"
      ],
      "metadata": {
        "id": "JP4Zzp8A9B_m"
      },
      "execution_count": 188,
      "outputs": []
    },
    {
      "cell_type": "code",
      "source": [
        "stu.hello()"
      ],
      "metadata": {
        "colab": {
          "base_uri": "https://localhost:8080/"
        },
        "id": "LZoCktcV_2fU",
        "outputId": "02652e5d-8c56-4c26-f8f8-685019c268c4"
      },
      "execution_count": 189,
      "outputs": [
        {
          "output_type": "stream",
          "name": "stdout",
          "text": [
            "안녕하세요, 저는 오쌤입니다. 나이는 16입니다. 학교는 아이디티윌입니다.\n"
          ]
        }
      ]
    },
    {
      "cell_type": "markdown",
      "source": [
        "# Method Override\n",
        "\n",
        "* 상위 클래스의 메서드를 하위 클래스에서 재정의하는 것.\n",
        "    * 파이썬에서는 메서드의 이름만 같으면 (파라미터 타입/개수와 상관 없이) 메서드가 재정의됨.\n",
        "        * 파이썬은 같은 이름으로 2개 이상의 메서드(함수)를 가질 수 없음 - overloading은 제공하지 않음.\n",
        "    * 자바에서는 메서드 이름, 파라미터 타입/개수/순서가 모두 동일한 경우에 메서드가 재정의됨.\n",
        "        * 파라미터가 다르면 같은 이름의 메서드가 2개 이상 있을 수 있음 - overloading\n",
        "* 하위 클래스에서 재정의(overrid)된 상위 클래스의 메서드를 명시적으로 호출하기 위해서는 `super().method_name(...)`의 형식으로 호출함."
      ],
      "metadata": {
        "id": "bVLtm5ysFGbn"
      }
    },
    {
      "cell_type": "code",
      "source": [
        "def a():\n",
        "    print('a')"
      ],
      "metadata": {
        "id": "-3PKbDQYFMIf"
      },
      "execution_count": 190,
      "outputs": []
    },
    {
      "cell_type": "code",
      "source": [
        "def a(msg):\n",
        "    print(msg)"
      ],
      "metadata": {
        "id": "hGGP6wk9FOP7"
      },
      "execution_count": 191,
      "outputs": []
    },
    {
      "cell_type": "code",
      "source": [
        "# a() # Type 에러가 발생한다. a라는 메서드에는 한개의 반드시 필요한 아규먼트를 가지고 있어야 한다.\n",
        "# 같은 이름으로 함수를 만들어 버리면 위쪽에서 만든 함수는 없어진다."
      ],
      "metadata": {
        "colab": {
          "base_uri": "https://localhost:8080/"
        },
        "id": "HYSlaFoZFRCu",
        "outputId": "ef4b15f8-1199-4fe2-d80d-0e8b8c15f1a9"
      },
      "execution_count": 194,
      "outputs": [
        {
          "output_type": "stream",
          "name": "stdout",
          "text": [
            "111\n"
          ]
        }
      ]
    },
    {
      "cell_type": "markdown",
      "source": [
        "파이썬은 함수 (메서드) 오버로딩을 제공하지 않는다.\n",
        "\n",
        "파라미터가 다르다고 해서 같은 이름으로 함수(메서드)를 정의할 수 없다.\n",
        "\n",
        "같은 이름으로 함수를 정의하면, 가장 마지막에서 정의한 함수만 남음.\n",
        "\n",
        "파이썬은 함수(메서드) 오버로딩 대신에, default argument를 이용하면, 같은 이르의 함수를 여러가지 방법으로 호출할 수 있음."
      ],
      "metadata": {
        "id": "6tNpaescGGlP"
      }
    },
    {
      "cell_type": "code",
      "source": [
        "def a(mag='a'):\n",
        "    print(mag)"
      ],
      "metadata": {
        "id": "8WHmms3EFjGF"
      },
      "execution_count": 195,
      "outputs": []
    },
    {
      "cell_type": "code",
      "source": [
        "a()"
      ],
      "metadata": {
        "colab": {
          "base_uri": "https://localhost:8080/"
        },
        "id": "2qPCzsl2FiI3",
        "outputId": "ae440e76-f838-406e-dc99-95804a1df9f8"
      },
      "execution_count": 197,
      "outputs": [
        {
          "output_type": "stream",
          "name": "stdout",
          "text": [
            "a\n"
          ]
        }
      ]
    },
    {
      "cell_type": "code",
      "source": [
        "a('Test')"
      ],
      "metadata": {
        "colab": {
          "base_uri": "https://localhost:8080/"
        },
        "id": "xj73TpG4Gsuj",
        "outputId": "aca72e3e-daf1-4301-ce95-b798bad20592"
      },
      "execution_count": 198,
      "outputs": [
        {
          "output_type": "stream",
          "name": "stdout",
          "text": [
            "Test\n"
          ]
        }
      ]
    }
  ]
}