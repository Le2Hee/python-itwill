{
  "nbformat": 4,
  "nbformat_minor": 0,
  "metadata": {
    "colab": {
      "provenance": [],
      "authorship_tag": "ABX9TyMgHPo8v34Qa9h69e0ObIXS"
    },
    "kernelspec": {
      "name": "python3",
      "display_name": "Python 3"
    },
    "language_info": {
      "name": "python"
    }
  },
  "cells": [
    {
      "cell_type": "markdown",
      "source": [
        "# 파이썬 자료 타입\n",
        "\n",
        "* 숫자 타입\n",
        "    * `int` : 정수\n",
        "    * `float` : 실수\n",
        "* 문자열 타입\n",
        "    * `str`\n",
        "* 논리 타입\n",
        "    * `bool` : True/False\n",
        "* 객체 타입\n",
        "    * 파이썬에서는 변수를 선언할 때 자료 타입을 명시하지 않음.\n",
        "변수의 자료 타입은 코드가 실행 때 결정됨.\n"
      ],
      "metadata": {
        "id": "oQwqdMhdmjhd"
      }
    },
    {
      "cell_type": "code",
      "source": [
        "pi = 3.14\n",
        "print(pi)\n",
        "type(pi) #print(type(pi))"
      ],
      "metadata": {
        "colab": {
          "base_uri": "https://localhost:8080/"
        },
        "id": "ZsvpdIUwoXGm",
        "outputId": "8b089dfc-5957-40de-8671-910fa260d8a8"
      },
      "execution_count": null,
      "outputs": [
        {
          "output_type": "stream",
          "name": "stdout",
          "text": [
            "3.14\n"
          ]
        },
        {
          "output_type": "execute_result",
          "data": {
            "text/plain": [
              "float"
            ]
          },
          "metadata": {},
          "execution_count": 4
        }
      ]
    },
    {
      "cell_type": "markdown",
      "source": [
        "## 명시적 타입 변환\n",
        "\n",
        "* `int(arg)` : arg를 정수 타입으로 변환해서 리턴.\n",
        "* `float(arg)` : arg를 실수 타입으로 변환해서 리턴.\n",
        "* `str(arg)` : arg를 문자열로 변환해서 리턴."
      ],
      "metadata": {
        "id": "WP55mVbWo8Gs"
      }
    },
    {
      "cell_type": "code",
      "source": [
        "# Colab 노트북에서 콘솔 입력 :\n",
        "n = input('정수 입력 >>> ')"
      ],
      "metadata": {
        "colab": {
          "base_uri": "https://localhost:8080/"
        },
        "id": "GGqYLiMDpg0M",
        "outputId": "d4a3ba3d-c544-4041-f7ff-73e427103c40"
      },
      "execution_count": null,
      "outputs": [
        {
          "name": "stdout",
          "output_type": "stream",
          "text": [
            "정수 입력 >>>1\n"
          ]
        }
      ]
    },
    {
      "cell_type": "code",
      "source": [
        "# n + 1  타입이 문자열 + 1 이여서 에러가 난다.\n",
        "int(n) + 1 # int로 n을 바꿔준다."
      ],
      "metadata": {
        "colab": {
          "base_uri": "https://localhost:8080/"
        },
        "id": "HIzfcdpbqZIs",
        "outputId": "fa26d7ac-f67d-4791-c3bb-73616e95a13e"
      },
      "execution_count": null,
      "outputs": [
        {
          "output_type": "execute_result",
          "data": {
            "text/plain": [
              "2"
            ]
          },
          "metadata": {},
          "execution_count": 12
        }
      ]
    },
    {
      "cell_type": "code",
      "source": [
        "n + str(1) # '1' + '1'을 계산한다."
      ],
      "metadata": {
        "colab": {
          "base_uri": "https://localhost:8080/",
          "height": 35
        },
        "id": "IPnh3pUFqxGE",
        "outputId": "41b58711-9486-4993-b342-b21430f8a62b"
      },
      "execution_count": null,
      "outputs": [
        {
          "output_type": "execute_result",
          "data": {
            "text/plain": [
              "'11'"
            ],
            "application/vnd.google.colaboratory.intrinsic+json": {
              "type": "string"
            }
          },
          "metadata": {},
          "execution_count": 13
        }
      ]
    },
    {
      "cell_type": "markdown",
      "source": [
        "# 산술 연산자\n",
        "\n",
        "`+, -, *, /, //, %, **`\n",
        "\n",
        "* `/` : 정수, 실수 가리지 않고 소수점까지 계산하는 나눗셈.\n",
        "* `//` : 나눈 몫.\n",
        "* `%` : 나눈 나머지.\n",
        "* `**` : 거듭제곱."
      ],
      "metadata": {
        "id": "hR6IizQlrZSb"
      }
    },
    {
      "cell_type": "code",
      "source": [
        "10 / 3 #소수점까지"
      ],
      "metadata": {
        "colab": {
          "base_uri": "https://localhost:8080/"
        },
        "id": "5MAHOb6Ar1jk",
        "outputId": "42bd21cf-8aeb-4a46-df66-fa14ec15b368"
      },
      "execution_count": null,
      "outputs": [
        {
          "output_type": "execute_result",
          "data": {
            "text/plain": [
              "3.3333333333333335"
            ]
          },
          "metadata": {},
          "execution_count": 16
        }
      ]
    },
    {
      "cell_type": "code",
      "source": [
        "10 // 3 # 몫만"
      ],
      "metadata": {
        "colab": {
          "base_uri": "https://localhost:8080/"
        },
        "id": "vJNOOmh3r5Oz",
        "outputId": "09fae606-ede4-4936-c4d8-24224cc5f04f"
      },
      "execution_count": null,
      "outputs": [
        {
          "output_type": "execute_result",
          "data": {
            "text/plain": [
              "3"
            ]
          },
          "metadata": {},
          "execution_count": 17
        }
      ]
    },
    {
      "cell_type": "code",
      "source": [
        "10 % 3 # 나머지"
      ],
      "metadata": {
        "colab": {
          "base_uri": "https://localhost:8080/"
        },
        "id": "Pq8e7lmFr8BW",
        "outputId": "cc767ede-8079-4735-e7ef-c18152f9fe01"
      },
      "execution_count": null,
      "outputs": [
        {
          "output_type": "execute_result",
          "data": {
            "text/plain": [
              "1"
            ]
          },
          "metadata": {},
          "execution_count": 18
        }
      ]
    },
    {
      "cell_type": "code",
      "source": [
        "10 ** 3 # 10의 3승"
      ],
      "metadata": {
        "colab": {
          "base_uri": "https://localhost:8080/"
        },
        "id": "rS6mfBjmr92d",
        "outputId": "8cf86f1a-afa4-4d1e-9b55-229d8dc4c32b"
      },
      "execution_count": null,
      "outputs": [
        {
          "output_type": "execute_result",
          "data": {
            "text/plain": [
              "1000"
            ]
          },
          "metadata": {},
          "execution_count": 19
        }
      ]
    },
    {
      "cell_type": "markdown",
      "source": [
        "# 비교 연산자, 논리 연산자\n",
        "\n",
        "* 비교 연산자 : `==, !=, >, >=, <, <_`\n",
        "* 논리 연산자 : `and, or, not`"
      ],
      "metadata": {
        "id": "EzeRGhe1saNE"
      }
    },
    {
      "cell_type": "code",
      "source": [
        "x = 100\n",
        "(x > 50) and (x < 150)"
      ],
      "metadata": {
        "colab": {
          "base_uri": "https://localhost:8080/"
        },
        "id": "S6cXr4wcsmBq",
        "outputId": "d5182b45-8ff6-43f7-ba3a-130fd81df34b"
      },
      "execution_count": null,
      "outputs": [
        {
          "output_type": "execute_result",
          "data": {
            "text/plain": [
              "True"
            ]
          },
          "metadata": {},
          "execution_count": 20
        }
      ]
    },
    {
      "cell_type": "code",
      "source": [
        "50 < x < 150 # 자바와 자바스크립트에서는 불가능하지만 파이썬은 가능하다."
      ],
      "metadata": {
        "colab": {
          "base_uri": "https://localhost:8080/"
        },
        "id": "H75mwcuStBnb",
        "outputId": "97ad7f75-3f4d-4762-d0f8-fd2713099a58"
      },
      "execution_count": null,
      "outputs": [
        {
          "output_type": "execute_result",
          "data": {
            "text/plain": [
              "True"
            ]
          },
          "metadata": {},
          "execution_count": 22
        }
      ]
    }
  ]
}