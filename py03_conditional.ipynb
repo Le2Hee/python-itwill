{
  "nbformat": 4,
  "nbformat_minor": 0,
  "metadata": {
    "colab": {
      "provenance": [],
      "authorship_tag": "ABX9TyPYCQz86//eFSI4eg3gQBMC"
    },
    "kernelspec": {
      "name": "python3",
      "display_name": "Python 3"
    },
    "language_info": {
      "name": "python"
    }
  },
  "cells": [
    {
      "cell_type": "markdown",
      "source": [
        "# else가 없는 조건문\n",
        "\n",
        "이 사이에서 작성하면 전부 다 코드처럼 보인다.\n",
        "```\n",
        "if 조건식 :\n",
        "    조건식이 참일 때 실행할 코드 (블록)\n",
        "```\n",
        "\n",
        "* `if조건식` 뒤에는 반드시 콜론(:)을 사용해야 함.\n",
        "* 코드 블록을 작성할 때 `{}`를 사용하지 않음.\n",
        "* `if` 블록 안의 문장들은 반드시 **같은 크기로 들여쓰기(indentation)을 해야 함**. (중요!!)\n"
      ],
      "metadata": {
        "id": "4q4JIOuRxZsj"
      }
    },
    {
      "cell_type": "code",
      "execution_count": null,
      "metadata": {
        "id": "Wm3SqEaVxPsn"
      },
      "outputs": [],
      "source": [
        "n = -100"
      ]
    },
    {
      "cell_type": "code",
      "source": [
        "if n > 0:\n",
        "    print('양수')\n",
        "    print('if 블록 끝')\n",
        "print('if 블록 바깥') # if와 상관없이 무조건 실행하는 문장."
      ],
      "metadata": {
        "colab": {
          "base_uri": "https://localhost:8080/"
        },
        "id": "IbJvVqzrzX_5",
        "outputId": "f96643ab-6cce-4eda-9d50-b066c5938015"
      },
      "execution_count": null,
      "outputs": [
        {
          "output_type": "stream",
          "name": "stdout",
          "text": [
            "if 블록 바깥\n"
          ]
        }
      ]
    },
    {
      "cell_type": "code",
      "source": [
        "if n > 0:\n",
        "        print('양수') # 들여쓰기가 틀리면 에러가 난다.\n",
        "    print('if 블록 끝')"
      ],
      "metadata": {
        "colab": {
          "base_uri": "https://localhost:8080/",
          "height": 137
        },
        "id": "Hknzbyay0Iz6",
        "outputId": "371b1b11-6a8b-415b-db6b-d64c917a55a6"
      },
      "execution_count": null,
      "outputs": [
        {
          "output_type": "error",
          "ename": "IndentationError",
          "evalue": "ignored",
          "traceback": [
            "\u001b[0;36m  File \u001b[0;32m\"<tokenize>\"\u001b[0;36m, line \u001b[0;32m3\u001b[0m\n\u001b[0;31m    print('if 블록 끝')\u001b[0m\n\u001b[0m    ^\u001b[0m\n\u001b[0;31mIndentationError\u001b[0m\u001b[0;31m:\u001b[0m unindent does not match any outer indentation level\n"
          ]
        }
      ]
    },
    {
      "cell_type": "markdown",
      "source": [
        "# else가 있는 조건문\n",
        "\n",
        "```\n",
        "if 조건시 :\n",
        "    참일 때 실행할 코드 블록\n",
        "else :\n",
        "    거짓일 때 실행할 코드 블록\n",
        "```"
      ],
      "metadata": {
        "id": "BS3KkgCM01iC"
      }
    },
    {
      "cell_type": "code",
      "source": [
        "n = 123\n",
        "if n % 2 == 1:\n",
        "    print('홀수')\n",
        "else:\n",
        "    print('짝수')"
      ],
      "metadata": {
        "colab": {
          "base_uri": "https://localhost:8080/"
        },
        "id": "cypWRoTW0OzZ",
        "outputId": "0437eb07-5f15-4e20-c482-8ad9d25b59e1"
      },
      "execution_count": null,
      "outputs": [
        {
          "output_type": "stream",
          "name": "stdout",
          "text": [
            "홀수\n"
          ]
        }
      ]
    },
    {
      "cell_type": "markdown",
      "source": [
        "파이썬에서 참(True)로 취급하는 것.\n",
        "\n",
        "* 0이 아닌 숫자들.\n",
        "* 1개 이상의 문자를 가지고 있는 문자열. (비어있으면 false)\n",
        "* 1개 이상의 원소를 가지고 있는 리스트(와 비슷한 객체)"
      ],
      "metadata": {
        "id": "UxleesgI2VFJ"
      }
    },
    {
      "cell_type": "markdown",
      "source": [
        "# chained conditional\n",
        "\n",
        "```\n",
        "if 조건식1:\n",
        "    조건식1이 참일 때 실행할 코드 블록\n",
        "elif 조건식2:\n",
        "    조건식1이 거짓이고 조건식2가 참일 때 실행할 코드 블록\n",
        "elif 조건식3:\n",
        "    여러개도 가능하다.\n",
        "else:\n",
        "    위에 모든 조건이 거짓일 때 실행할 코드 블록 (있어도 되고, 없어도 된다.)\n",
        "```"
      ],
      "metadata": {
        "id": "HRoPJpMQ3AaA"
      }
    },
    {
      "cell_type": "markdown",
      "source": [
        "Ex1. 정수 3개를 입력받고 변수에 저장. 평균이 90 이상이면 'A', 80 이상이면 'B', 70이상이면 'C', 70 미만이면 'F'를 출력"
      ],
      "metadata": {
        "id": "A05zPSn234mw"
      }
    },
    {
      "cell_type": "code",
      "source": [
        "x = input()\n",
        "y = input()\n",
        "z = input()\n",
        "sum = int(x) + int(y) + int(z)\n",
        "print(sum)\n",
        "result = sum / 3\n",
        "print(result)"
      ],
      "metadata": {
        "colab": {
          "base_uri": "https://localhost:8080/"
        },
        "id": "zS6oQG-h332Z",
        "outputId": "612ee2d2-10c1-4eb8-9d44-fbaf11db7250"
      },
      "execution_count": null,
      "outputs": [
        {
          "output_type": "stream",
          "name": "stdout",
          "text": [
            "96\n",
            "59\n",
            "49\n",
            "204\n",
            "68.0\n"
          ]
        }
      ]
    },
    {
      "cell_type": "code",
      "source": [
        "if result >= 90:\n",
        "    print('A')\n",
        "elif result >= 80:\n",
        "    print('B')\n",
        "elif result >= 70:\n",
        "    print('C')\n",
        "else:\n",
        "    print('F')"
      ],
      "metadata": {
        "colab": {
          "base_uri": "https://localhost:8080/"
        },
        "id": "66ZpcI7A4ceh",
        "outputId": "3502fa10-2bd0-49f4-c8d0-e10ec2e1fc56"
      },
      "execution_count": null,
      "outputs": [
        {
          "output_type": "stream",
          "name": "stdout",
          "text": [
            "F\n"
          ]
        }
      ]
    }
  ]
}