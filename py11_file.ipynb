{
  "nbformat": 4,
  "nbformat_minor": 0,
  "metadata": {
    "colab": {
      "provenance": [],
      "mount_file_id": "1djGvZhNg3-Ug3RiJp3Zdv_UUAvuBuFy7",
      "authorship_tag": "ABX9TyOl60P0GznaiZC0EZXXF86w"
    },
    "kernelspec": {
      "name": "python3",
      "display_name": "Python 3"
    },
    "language_info": {
      "name": "python"
    }
  },
  "cells": [
    {
      "cell_type": "markdown",
      "source": [
        "#파일 쓰기(write)\n",
        "\n",
        "파일 쓰기 순서:\n",
        "\n",
        "* 파일 열기(open)\n",
        "* 파일 내용 쓰기(write)\n",
        "* 파일 닫기(close)\n",
        "\n",
        "open(file, mode='rt', ...):\n",
        "\n",
        "* file: 폴더(디렉토리)를 포함한 파일 이름.\n",
        "* mode: 파일을 여는 방법(모드).\n",
        "    * r(read): 읽기. 기본값.\n",
        "        * 파일이 없으면 FileNotFoundError가 발생.\n",
        "    * w(write): 쓰기.\n",
        "        * 파일이 있으면 기존 내용이 모두 삭제되고 파일의 처음부터 다시 쓰기 시작.\n",
        "        * 파일이 없으면 새로운 파일을 생성하고 파일 쓰기가 됨.\n",
        "    * a(append): 이어쓰기. 기존 작성된 내용 이후부터 이어서 쓰기.\n",
        "        * 파일이 있으면 기존 파일 뒤에 이어쓰기.\n",
        "        * 파일이 없으면 새로운 파일을 생성하고 이어쓰기.\n",
        "    * t(text): 텍스트 (읽기/쓰기). 인코딩된 문자열. 기본값.\n",
        "    * b(binary): 이진 데이터 (읽기/쓰기). (예) 이미지, 동영상, ..."
      ],
      "metadata": {
        "id": "ji241lbtcswl"
      }
    },
    {
      "cell_type": "code",
      "execution_count": null,
      "metadata": {
        "id": "j-l3ZcQ9cmm2"
      },
      "outputs": [],
      "source": [
        "# 1. 파일을 텍스트 쓰기 모드로 open:\n",
        "f = open('test1.txt', mode='wt')\n",
        "\n",
        "# 2. 파일 쓰기:\n",
        "f.write('안녕하세요...\\n')\n",
        "f.write('Hello, python!\\n')\n",
        "f.write('1234567890\\n')\n",
        "\n",
        "# 3. 파일 닫기:\n",
        "f.close()"
      ]
    },
    {
      "cell_type": "code",
      "source": [
        "# with ~ as 구문: 오픈된 리소스(파일)에서 close() 메서드를 자동으로 호출.\n",
        "with open('test2.txt', 'wt') as f:\n",
        "    f.write('hello\\n')\n",
        "    f.write('즐거운 월요일\\n')"
      ],
      "metadata": {
        "id": "ZqY9bVBCc8KM"
      },
      "execution_count": null,
      "outputs": []
    },
    {
      "cell_type": "markdown",
      "source": [
        "# 파일 읽기\n"
      ],
      "metadata": {
        "id": "k1RXL9nPc-bk"
      }
    },
    {
      "cell_type": "code",
      "source": [
        "with open('test1.txt', mode='rt') as f:\n",
        "    line = f.readline()\n",
        "    print(line) # 첫 번째 줄을 읽는다.\n",
        "    line = f.readline()\n",
        "    # 문자열.strip(): 문자열의 왼쪽과 오른쪽에 있는 공백 문자들(space, tab, 줄바꿈)을 제거.\n",
        "    print(line.strip())\n",
        "    line = f.readline()\n",
        "    print(line)"
      ],
      "metadata": {
        "colab": {
          "base_uri": "https://localhost:8080/"
        },
        "id": "B0d8mLXfc_-6",
        "outputId": "7df22026-bb16-4fd5-8b72-5aa8a6f563fe"
      },
      "execution_count": null,
      "outputs": [
        {
          "output_type": "stream",
          "name": "stdout",
          "text": [
            "안녕하세요...\n",
            "\n",
            "Hello, python!\n",
            "1234567890\n",
            "\n"
          ]
        }
      ]
    },
    {
      "cell_type": "code",
      "source": [
        "with open('test2.txt', mode='rt') as f:\n",
        "    for line in f:\n",
        "        # 파일의 처음부터 끝까지 readLine()을 자동으로 호출해준다.\n",
        "        print(line.strip())"
      ],
      "metadata": {
        "colab": {
          "base_uri": "https://localhost:8080/"
        },
        "id": "z5VMWiuugAc2",
        "outputId": "adc0b6ba-6a85-4cc5-8215-19a16063a3ff"
      },
      "execution_count": null,
      "outputs": [
        {
          "output_type": "stream",
          "name": "stdout",
          "text": [
            "hello\n",
            "즐거운 월요일\n"
          ]
        }
      ]
    },
    {
      "cell_type": "markdown",
      "source": [
        "지금까지의 과정은 Google Colab에서 할당받은 가상머신(개발환경)의 하드디스크에서 파일을 쓰고, 파일을 읽는 기능을 수행.\n",
        "\n",
        "이거에 문제는?\n",
        "\n",
        "노트북을 열때마다 연결을 해야되는데 끊어지면 새로운 가상머신을 할당받는데 그 전에 작성한 파일들이 연결할때매다 새로운 가상머신을 할당받기 때문에 파일이 남아있지않는다.\n",
        "\n",
        "Google Colab과 연결이 끊어진 후 재연결(가상머신 재할당)을 하면, 가상 머신의 리소스 (RAM, HDD, CPU, ...)들은 초기화 된다.\n",
        "\n",
        "저장했던 파일들도 모두 삭제된다.\n",
        "\n",
        "파일을 개인 Google 드라이브에 저장하고 읽은 방법이 제공됨."
      ],
      "metadata": {
        "id": "FUW-70OUg0Qb"
      }
    },
    {
      "cell_type": "markdown",
      "source": [
        "# Colab 가상머신에서 구글 드라이브 연결(Mount)\n",
        "\n",
        "* 파일 탐색기를 열고.\n",
        "* 드라이브 마운틴 선택.\n",
        "    * Colab에서 Google Drive라는 USB를 사용한다고 생각하면 편하다.\n",
        "* 연결 선택 후 계정 연결을 하면 완료."
      ],
      "metadata": {
        "id": "s9q0CKORh9BT"
      }
    },
    {
      "cell_type": "code",
      "source": [
        "# 선택한 파일의 절대경로.\n",
        "dir_path='/content/drive/MyDrive/Colab Notebooks/Github/Txt_File'\n",
        "# 저장할 파일 이름\n",
        "file_name = 'test.txt'\n",
        "# 폴더이름 / 파일 절대경로 를 하면 생성된다."
      ],
      "metadata": {
        "id": "ysmkklKeiA0M"
      },
      "execution_count": null,
      "outputs": []
    },
    {
      "cell_type": "code",
      "source": [
        "import os\n",
        "# os 모듈를 임포트:\n",
        "# os.path.join() 함수를 이용하기 위해서"
      ],
      "metadata": {
        "id": "4WUbljIZkCKd"
      },
      "execution_count": null,
      "outputs": []
    },
    {
      "cell_type": "code",
      "source": [
        "file = os.path.join(dir_path, file_name)\n",
        "file"
      ],
      "metadata": {
        "colab": {
          "base_uri": "https://localhost:8080/",
          "height": 35
        },
        "id": "uMuN9GLZkIal",
        "outputId": "f2c46cb7-bfe1-4c78-8335-e66c4e3d0299"
      },
      "execution_count": null,
      "outputs": [
        {
          "output_type": "execute_result",
          "data": {
            "text/plain": [
              "'/content/drive/MyDrive/Colab Notebooks/Github/Txt_File/test.txt'"
            ],
            "application/vnd.google.colaboratory.intrinsic+json": {
              "type": "string"
            }
          },
          "metadata": {},
          "execution_count": 21
        }
      ]
    },
    {
      "cell_type": "code",
      "source": [
        "with open(file, mode='wt') as f:\n",
        "    f.write('admin@test.com\\n')\n",
        "    f.write('test@itwull.com\\n')\n",
        "    f.write('jake@gmail.com\\n')"
      ],
      "metadata": {
        "id": "OXU7scANkVKF"
      },
      "execution_count": null,
      "outputs": []
    },
    {
      "cell_type": "code",
      "source": [
        "with open(file, mode='rt') as f:\n",
        "    for line in f:\n",
        "        print(line.strip())"
      ],
      "metadata": {
        "colab": {
          "base_uri": "https://localhost:8080/"
        },
        "id": "52yDtjYvknAW",
        "outputId": "3c0c037c-8aa4-4328-c59b-57182967bab9"
      },
      "execution_count": null,
      "outputs": [
        {
          "output_type": "stream",
          "name": "stdout",
          "text": [
            "admin@test.com\n",
            "test@itwull.com\n",
            "jake@gmail.com\n"
          ]
        }
      ]
    },
    {
      "cell_type": "code",
      "source": [],
      "metadata": {
        "id": "DLUoLdI2pRkx"
      },
      "execution_count": null,
      "outputs": []
    }
  ]
}