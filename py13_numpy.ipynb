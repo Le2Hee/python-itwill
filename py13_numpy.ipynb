{
  "nbformat": 4,
  "nbformat_minor": 0,
  "metadata": {
    "colab": {
      "provenance": [],
      "authorship_tag": "ABX9TyORuX5zfLT+NaIGaZs284kE"
    },
    "kernelspec": {
      "name": "python3",
      "display_name": "Python 3"
    },
    "language_info": {
      "name": "python"
    }
  },
  "cells": [
    {
      "cell_type": "markdown",
      "source": [],
      "metadata": {
        "id": "lqzyyf2TVdn8"
      }
    },
    {
      "cell_type": "markdown",
      "source": [
        "# 데이터 분석 패키지\n",
        "\n",
        "Google Golab에는 데이터 분석과 머신 러닝에 필요한 대부분의 패키지(라이브러리)들이 이미 설치가 되어 있다.\n",
        "\n",
        "* NumPy: 다차원 배열(n-dimensional array)을 다루는 패키지, 머신 러닝에서 중요하게 사용된다.\n",
        "* pandas: 시리즈(Serues), 데이터프레임(DataFrame)을 다루는 패키지.\n",
        "* matplotlib: 데이터 시각화(그래프).\n",
        "* seaborn: 데이터 시각화. 통계 작업."
      ],
      "metadata": {
        "id": "nP62g0iQVedr"
      }
    },
    {
      "cell_type": "code",
      "execution_count": 6,
      "metadata": {
        "id": "1ehTugCnVNsz"
      },
      "outputs": [],
      "source": [
        "import numpy as np\n",
        "import pandas as pd\n",
        "import matplotlib as mpl\n",
        "import seaborn as sns"
      ]
    },
    {
      "cell_type": "code",
      "source": [
        "print('NumPy version:', np.__version__)\n",
        "print('pands version:', pd.__version__)\n",
        "print('matplotlib version:', mpl.__version__)\n",
        "print('seaborn version:', sns.__version__)"
      ],
      "metadata": {
        "colab": {
          "base_uri": "https://localhost:8080/"
        },
        "id": "C65cZ-DpbOH5",
        "outputId": "96749559-93e8-44fe-c77e-7a84afbd5977"
      },
      "execution_count": 7,
      "outputs": [
        {
          "output_type": "stream",
          "name": "stdout",
          "text": [
            "NumPy version: 1.22.4\n",
            "pands version: 1.5.3\n",
            "matplotlib version: 3.7.1\n",
            "seaborn version: 0.12.2\n"
          ]
        }
      ]
    },
    {
      "cell_type": "code",
      "source": [],
      "metadata": {
        "id": "8pIOihRZbk9i"
      },
      "execution_count": 7,
      "outputs": []
    },
    {
      "cell_type": "markdown",
      "source": [
        "# Python `list` class\n",
        "\n",
        "* 파이썬의 리스트\n",
        "    * 여러 개의 값들을 저장할 수 있는 데이터 타입.\n",
        "    * 인덱스를 기반으로 값들을 저장, 참조하는 데이터 타입.\n",
        "        * indexing: 인덱스를 사용해서 원하는 위치의 값을 참조, 변경.\n",
        "        * slicing: `[start, end,)` 인덱스 범위의 값들로 이루어진 부분집합을 잘라내는 방법.\n",
        "    * 리스트에서는 산술연산이 2가지만 가능하다.\n",
        "        * `list + list`: 2개의 리스ㅡ를 이어붙이기.\n",
        "        * `list * 정수`, `정수 * list`: 리스트의 원소들을 정수 만큼 반복해서 복제."
      ],
      "metadata": {
        "id": "haoiA2_wcOzx"
      }
    },
    {
      "cell_type": "code",
      "source": [
        "list1 = [1, 2, 3, 4]\n",
        "list2 = [10, 20, 30, 40]"
      ],
      "metadata": {
        "id": "WnIPbdiEdLkS"
      },
      "execution_count": 8,
      "outputs": []
    },
    {
      "cell_type": "code",
      "source": [
        "# indexing:\n",
        "print(list1[0]) # list1의 첫번째 원소.\n",
        "print(list1[-1]) # list1의 마지막 원소."
      ],
      "metadata": {
        "colab": {
          "base_uri": "https://localhost:8080/"
        },
        "id": "jBLma5EXdQ5e",
        "outputId": "4a25e6f8-7f0d-4b69-fb9c-ded742341472"
      },
      "execution_count": 9,
      "outputs": [
        {
          "output_type": "stream",
          "name": "stdout",
          "text": [
            "1\n",
            "4\n"
          ]
        }
      ]
    },
    {
      "cell_type": "code",
      "source": [
        "#slicing\n",
        "print(list1[:3]) # list1에서 앞에서 3개 원소 자르기\n",
        "print(list1[-3:]) # list1에서 뒤에서 3개 원소 자르기"
      ],
      "metadata": {
        "colab": {
          "base_uri": "https://localhost:8080/"
        },
        "id": "84Ur2La0dvCv",
        "outputId": "ee32c683-b130-43d7-ece8-10ae22d72e3f"
      },
      "execution_count": 10,
      "outputs": [
        {
          "output_type": "stream",
          "name": "stdout",
          "text": [
            "[1, 2, 3]\n",
            "[2, 3, 4]\n"
          ]
        }
      ]
    },
    {
      "cell_type": "code",
      "source": [
        "list1 + list2"
      ],
      "metadata": {
        "colab": {
          "base_uri": "https://localhost:8080/"
        },
        "id": "L5g8r7sld4_1",
        "outputId": "a884a4bd-004d-4879-c9c0-7259a1877495"
      },
      "execution_count": 11,
      "outputs": [
        {
          "output_type": "execute_result",
          "data": {
            "text/plain": [
              "[1, 2, 3, 4, 10, 20, 30, 40]"
            ]
          },
          "metadata": {},
          "execution_count": 11
        }
      ]
    },
    {
      "cell_type": "code",
      "source": [
        "list1 * 3"
      ],
      "metadata": {
        "colab": {
          "base_uri": "https://localhost:8080/"
        },
        "id": "ssj-U_zYd6qC",
        "outputId": "5708daed-86ed-403a-80bb-c7711eb53870"
      },
      "execution_count": 12,
      "outputs": [
        {
          "output_type": "execute_result",
          "data": {
            "text/plain": [
              "[1, 2, 3, 4, 1, 2, 3, 4, 1, 2, 3, 4]"
            ]
          },
          "metadata": {},
          "execution_count": 12
        }
      ]
    },
    {
      "cell_type": "code",
      "source": [
        "#list1, list2에서 같은 인덱스 위치의 원소들끼리 덧셈\n",
        "[x + y for x, y in zip(list1, list2)]"
      ],
      "metadata": {
        "colab": {
          "base_uri": "https://localhost:8080/"
        },
        "id": "845MI0AOeQpl",
        "outputId": "4c0cc678-961c-4665-e065-97f898cafe47"
      },
      "execution_count": 13,
      "outputs": [
        {
          "output_type": "execute_result",
          "data": {
            "text/plain": [
              "[11, 22, 33, 44]"
            ]
          },
          "metadata": {},
          "execution_count": 13
        }
      ]
    },
    {
      "cell_type": "code",
      "source": [
        "# list1의 모든 원소에 3을 곱함.\n",
        "[3 * x for x in list1]"
      ],
      "metadata": {
        "colab": {
          "base_uri": "https://localhost:8080/"
        },
        "id": "4vHuuDooeXnl",
        "outputId": "516b6504-1766-4490-d23f-0f82c296a9f8"
      },
      "execution_count": 14,
      "outputs": [
        {
          "output_type": "execute_result",
          "data": {
            "text/plain": [
              "[3, 6, 9, 12]"
            ]
          },
          "metadata": {},
          "execution_count": 14
        }
      ]
    },
    {
      "cell_type": "markdown",
      "source": [
        "# NumPy\n",
        "\n",
        "* 배열(ndarray)을 쉽고 빠르게 연산(+, -, *, /, //, %, ...)을 수행하는 라이브러리.\n",
        "     * NumPy 안에 ndarray라는 클래스로 배열을 명시하고 있다.\n",
        "* NumPy 패키지의 함수 또는 메서드들을 대부분 반복문의 기능을 가지고 있다.\n",
        "* NumPy는 np.ndarray 클래스가 있는데, NumPy 패키지에서 기본 타입 클래스이고 n차원 배열(n-dimensional array)라는 뜻이다.\n",
        "    * **`ndarray`는 같은 인덱스(위치)에 있는 원소들끼리 연산을 수행을 한다**."
      ],
      "metadata": {
        "id": "E8WFBrPfimgg"
      }
    },
    {
      "cell_type": "code",
      "source": [
        "# NumPy array를 만드는 방법\n",
        "array1 = np.array([1, 2, 3]) # 파이썬의 list 객체를 numpy의 ndarray 객체로 변환.\n",
        "array1"
      ],
      "metadata": {
        "colab": {
          "base_uri": "https://localhost:8080/"
        },
        "id": "Te-t0myWedkO",
        "outputId": "26c83d6d-6915-4a76-f1a3-8d0ff9387dd8"
      },
      "execution_count": 15,
      "outputs": [
        {
          "output_type": "execute_result",
          "data": {
            "text/plain": [
              "array([1, 2, 3])"
            ]
          },
          "metadata": {},
          "execution_count": 15
        }
      ]
    },
    {
      "cell_type": "code",
      "source": [
        "type(array1)"
      ],
      "metadata": {
        "colab": {
          "base_uri": "https://localhost:8080/"
        },
        "id": "44wZYMzakVz8",
        "outputId": "5b27eea7-b763-4e1b-d4a6-b650ea79aa63"
      },
      "execution_count": 16,
      "outputs": [
        {
          "output_type": "execute_result",
          "data": {
            "text/plain": [
              "numpy.ndarray"
            ]
          },
          "metadata": {},
          "execution_count": 16
        }
      ]
    },
    {
      "cell_type": "code",
      "source": [
        "print(array1) # print() 는 __str__ 메서더의 리턴값을 출력."
      ],
      "metadata": {
        "colab": {
          "base_uri": "https://localhost:8080/"
        },
        "id": "YxS9vW48kcGX",
        "outputId": "1734a1e2-8b6a-4a68-dccd-e065e5549955"
      },
      "execution_count": 17,
      "outputs": [
        {
          "output_type": "stream",
          "name": "stdout",
          "text": [
            "[1 2 3]\n"
          ]
        }
      ]
    },
    {
      "cell_type": "code",
      "source": [
        "array1 # expression은 __repr__메서드의 리턴값을 출력."
      ],
      "metadata": {
        "colab": {
          "base_uri": "https://localhost:8080/"
        },
        "id": "4MU0X7HBkfEp",
        "outputId": "82a9e9c6-57a0-4749-c424-993e1adba1e6"
      },
      "execution_count": 18,
      "outputs": [
        {
          "output_type": "execute_result",
          "data": {
            "text/plain": [
              "array([1, 2, 3])"
            ]
          },
          "metadata": {},
          "execution_count": 18
        }
      ]
    },
    {
      "cell_type": "code",
      "source": [
        "array2 = np.array([4, 5, 6])\n",
        "print(array2)"
      ],
      "metadata": {
        "colab": {
          "base_uri": "https://localhost:8080/"
        },
        "id": "n6z-soNKlLEM",
        "outputId": "d5b446cf-1083-4853-f385-b1adcfc28674"
      },
      "execution_count": 19,
      "outputs": [
        {
          "output_type": "stream",
          "name": "stdout",
          "text": [
            "[4 5 6]\n"
          ]
        }
      ]
    },
    {
      "cell_type": "code",
      "source": [
        "# nbarray의 사칙 연산 - 같은 인덱스의 원소들끼리(element-wrise) 연산이 수행된다.\n",
        "print(array1 + array2)\n",
        "print(array1 - array2)\n",
        "print(array1 / array2)\n",
        "print(array1 * array2)\n",
        "# for문보다 numpy가 속도가 더 빠르다."
      ],
      "metadata": {
        "colab": {
          "base_uri": "https://localhost:8080/"
        },
        "id": "mNX6WcbqlQBV",
        "outputId": "37142e91-9cd0-47df-cdd5-06be74b7acb7"
      },
      "execution_count": 20,
      "outputs": [
        {
          "output_type": "stream",
          "name": "stdout",
          "text": [
            "[5 7 9]\n",
            "[-3 -3 -3]\n",
            "[0.25 0.4  0.5 ]\n",
            "[ 4 10 18]\n"
          ]
        }
      ]
    },
    {
      "cell_type": "markdown",
      "source": [
        "## `ndarray`클래스의 속성들"
      ],
      "metadata": {
        "id": "jz_OvECHmYBv"
      }
    },
    {
      "cell_type": "code",
      "source": [
        "print(array1)\n",
        "print('ndim: ', array1.ndim) # 차원 (dimesion), 배열의 축(axis)의 개수. (1차원 배열)\n",
        "print('size:', array1.size) # 배열의 크기, 원소 개수.\n",
        "print('shape: ', array1.shape) # 배열의 모양. 각 차원에서의 원소 개수.\n",
        "print('dtype:', array1.dtype) # 배열 원소의 데이터 타입. -> 64비트의 int를 저장, (java에서 long)"
      ],
      "metadata": {
        "colab": {
          "base_uri": "https://localhost:8080/"
        },
        "id": "MSIZu4E1mXC_",
        "outputId": "a804450e-2161-4b5f-dce1-3cda94656154"
      },
      "execution_count": 21,
      "outputs": [
        {
          "output_type": "stream",
          "name": "stdout",
          "text": [
            "[1 2 3]\n",
            "ndim:  1\n",
            "size: 3\n",
            "shape:  (3,)\n",
            "dtype: int64\n"
          ]
        }
      ]
    },
    {
      "cell_type": "markdown",
      "source": [
        "* 파이썬의 `list`와 다른 점\n",
        "    * `ndarray`는 한 가지 타입의 데이터들만 저장할 수 있는 데이터 타입이다."
      ],
      "metadata": {
        "id": "bU8dfn6noNOW"
      }
    },
    {
      "cell_type": "markdown",
      "source": [
        "## 2차원 배열"
      ],
      "metadata": {
        "id": "cyUHWyj0o1pG"
      }
    },
    {
      "cell_type": "code",
      "source": [
        "array_2d = np.array([\n",
        "    [1, 2, 3, 4],\n",
        "    [5, 6, 7, 8],\n",
        "    [9, 10, 11, 12]\n",
        "])"
      ],
      "metadata": {
        "id": "tJ4fuDglmfCr"
      },
      "execution_count": 22,
      "outputs": []
    },
    {
      "cell_type": "code",
      "source": [
        "type(array_2d)"
      ],
      "metadata": {
        "colab": {
          "base_uri": "https://localhost:8080/"
        },
        "id": "H19EyHoapWIZ",
        "outputId": "27818263-b88c-4515-b231-2381050d1f59"
      },
      "execution_count": 23,
      "outputs": [
        {
          "output_type": "execute_result",
          "data": {
            "text/plain": [
              "numpy.ndarray"
            ]
          },
          "metadata": {},
          "execution_count": 23
        }
      ]
    },
    {
      "cell_type": "code",
      "source": [
        "print(array_2d)"
      ],
      "metadata": {
        "colab": {
          "base_uri": "https://localhost:8080/"
        },
        "id": "p_RHExEqpZ9F",
        "outputId": "415e5d0e-e5fc-4558-b91a-94700ae46dcf"
      },
      "execution_count": 24,
      "outputs": [
        {
          "output_type": "stream",
          "name": "stdout",
          "text": [
            "[[ 1  2  3  4]\n",
            " [ 5  6  7  8]\n",
            " [ 9 10 11 12]]\n"
          ]
        }
      ]
    },
    {
      "cell_type": "code",
      "source": [
        "array_2d"
      ],
      "metadata": {
        "colab": {
          "base_uri": "https://localhost:8080/"
        },
        "id": "yHoUhJVvpqd_",
        "outputId": "d72ea86d-65a2-4238-b59a-6462c76a49f7"
      },
      "execution_count": 25,
      "outputs": [
        {
          "output_type": "execute_result",
          "data": {
            "text/plain": [
              "array([[ 1,  2,  3,  4],\n",
              "       [ 5,  6,  7,  8],\n",
              "       [ 9, 10, 11, 12]])"
            ]
          },
          "metadata": {},
          "execution_count": 25
        }
      ]
    },
    {
      "cell_type": "code",
      "source": [
        "print('ndim: ', array_2d.ndim)\n",
        "print('size:', array_2d.size) # length랑 구별을 해야한다. -> 3개가 나온다.\n",
        "print('shape: ', array_2d.shape)\n",
        "print('dtype:', array_2d.dtype)"
      ],
      "metadata": {
        "colab": {
          "base_uri": "https://localhost:8080/"
        },
        "id": "Zx0S1p4zprUF",
        "outputId": "f670196e-871c-4256-f417-f71743d1401b"
      },
      "execution_count": 26,
      "outputs": [
        {
          "output_type": "stream",
          "name": "stdout",
          "text": [
            "ndim:  2\n",
            "size: 12\n",
            "shape:  (3, 4)\n",
            "dtype: int64\n"
          ]
        }
      ]
    },
    {
      "cell_type": "markdown",
      "source": [
        "### 2차원 `ndarray`의 인덱스 사용 방법:\n",
        "\n",
        "* `array[i][j]` - Python list와 같은 사용 방법.\n",
        "* `array[i, j]` - ndarray에서만 사용 가능."
      ],
      "metadata": {
        "id": "FUxoMvKEvBe1"
      }
    },
    {
      "cell_type": "code",
      "source": [
        "array_2d[0, 0] # array_2d[0][0]"
      ],
      "metadata": {
        "colab": {
          "base_uri": "https://localhost:8080/"
        },
        "id": "Ojd3GJa5v2cD",
        "outputId": "944d2a37-b826-493a-c9d2-89c0b4cb9836"
      },
      "execution_count": 27,
      "outputs": [
        {
          "output_type": "execute_result",
          "data": {
            "text/plain": [
              "1"
            ]
          },
          "metadata": {},
          "execution_count": 27
        }
      ]
    },
    {
      "cell_type": "code",
      "source": [
        "array_2d[1, 2]"
      ],
      "metadata": {
        "colab": {
          "base_uri": "https://localhost:8080/"
        },
        "id": "KF1-njKywLmj",
        "outputId": "ae480c84-654a-48ea-fe2d-384f5a80aafd"
      },
      "execution_count": 28,
      "outputs": [
        {
          "output_type": "execute_result",
          "data": {
            "text/plain": [
              "7"
            ]
          },
          "metadata": {},
          "execution_count": 28
        }
      ]
    },
    {
      "cell_type": "markdown",
      "source": [
        "## `ndarray` 인덱스\n",
        "\n"
      ],
      "metadata": {
        "id": "WOwau57rwW98"
      }
    },
    {
      "cell_type": "code",
      "source": [
        "# [0, 100) 범위의 정수 난수 10개를 갖는 ndarray 객체를 생성:\n",
        "array = np.random.randint(0, 100, size=10)\n",
        "print(array)"
      ],
      "metadata": {
        "colab": {
          "base_uri": "https://localhost:8080/"
        },
        "id": "FadMbyaCwqpl",
        "outputId": "a1ad37c4-eb02-4366-dc93-890ccc24aff3"
      },
      "execution_count": 29,
      "outputs": [
        {
          "output_type": "stream",
          "name": "stdout",
          "text": [
            "[62 95 19  1 14  0 19 62 35 35]\n"
          ]
        }
      ]
    },
    {
      "cell_type": "code",
      "source": [
        "# indexing:\n",
        "print(array[0]) # 첫번쨰 원소\n",
        "print(array[-1]) # 마지막 원소"
      ],
      "metadata": {
        "colab": {
          "base_uri": "https://localhost:8080/"
        },
        "id": "gKGoGh5ywWq0",
        "outputId": "680e5add-a930-42d0-bb45-64992cc32f19"
      },
      "execution_count": 30,
      "outputs": [
        {
          "output_type": "stream",
          "name": "stdout",
          "text": [
            "62\n",
            "35\n"
          ]
        }
      ]
    },
    {
      "cell_type": "code",
      "source": [
        "# slicing:\n",
        "print(array[:3]) # 첫 3개 원소 자르기\n",
        "print(array[-3:]) # 마지막 3개 원소 자르기"
      ],
      "metadata": {
        "colab": {
          "base_uri": "https://localhost:8080/"
        },
        "id": "J9ig3FGdx5cf",
        "outputId": "a64b6e39-4d1b-4a55-dc6e-901cead7c9de"
      },
      "execution_count": 31,
      "outputs": [
        {
          "output_type": "stream",
          "name": "stdout",
          "text": [
            "[62 95 19]\n",
            "[62 35 35]\n"
          ]
        }
      ]
    },
    {
      "cell_type": "code",
      "source": [
        "print(array[0]) # indexinf -> 아이템(값)\n",
        "print(array[0:1]) # slicing -> 배열(ndarray)"
      ],
      "metadata": {
        "colab": {
          "base_uri": "https://localhost:8080/"
        },
        "id": "dcyP5mLMyeMi",
        "outputId": "b4aa046c-8848-43d3-cec2-b56cd3e583e0"
      },
      "execution_count": 32,
      "outputs": [
        {
          "output_type": "stream",
          "name": "stdout",
          "text": [
            "62\n",
            "[62]\n"
          ]
        }
      ]
    },
    {
      "cell_type": "markdown",
      "source": [
        "### fancy indeing\n",
        "\n",
        "* 배열과 비슷한 객체(ndarray, list, tuple, set, ...)를 사용해서 원하는 원소들을 참조하는 방법.\n",
        "* fabcy indexing의 결과는 ndarray."
      ],
      "metadata": {
        "id": "P_GWhi1ezb1L"
      }
    },
    {
      "cell_type": "code",
      "source": [
        "print(array)\n",
        "print(array[0]) # indexing -> item\n",
        "print(array[[0, 2, 4]]) # 배열에서 index 0, 2, 4을 골라달라는 의미이다.\n",
        "print(array[[0]]) # 배열."
      ],
      "metadata": {
        "colab": {
          "base_uri": "https://localhost:8080/"
        },
        "id": "wmSDOktdymYV",
        "outputId": "472ac0d1-3660-43aa-a0dc-20f36aab9e87"
      },
      "execution_count": 33,
      "outputs": [
        {
          "output_type": "stream",
          "name": "stdout",
          "text": [
            "[62 95 19  1 14  0 19 62 35 35]\n",
            "62\n",
            "[62 19 14]\n",
            "[62]\n"
          ]
        }
      ]
    },
    {
      "cell_type": "markdown",
      "source": [
        "### boolean indexing\n",
        "\n",
        "* 논리값(True/Fasle)들의 배열 (리스트, 튜플, ...)을 사용한 fanct indexing방법.\n",
        "* 배열에서 조건을 만족하는 원소들로 이루어진 부분집합(ndarray)를 만드는 방법."
      ],
      "metadata": {
        "id": "2KptXhcP03Pq"
      }
    },
    {
      "cell_type": "code",
      "source": [
        "print(array)\n",
        "print(array[[True, False, True, False, True, False, True, False, True, False]])"
      ],
      "metadata": {
        "colab": {
          "base_uri": "https://localhost:8080/"
        },
        "id": "W2FmM5fr1Fc6",
        "outputId": "f9daf7b0-ad4e-4613-8e7d-0e65da191511"
      },
      "execution_count": 34,
      "outputs": [
        {
          "output_type": "stream",
          "name": "stdout",
          "text": [
            "[62 95 19  1 14  0 19 62 35 35]\n",
            "[62 19 14 19 35]\n"
          ]
        }
      ]
    },
    {
      "cell_type": "code",
      "source": [
        "# 배열 array의 원소들 중 홀수들만 찾기:\n",
        "print(array % 2) # list는 연산이 안되지만 배열은 나누기를 각각의 아이템에 % 2한 결과를 리턴한다.\n",
        "print(array % 2 == 1)\n",
        "print(array[array % 2 == 1])"
      ],
      "metadata": {
        "colab": {
          "base_uri": "https://localhost:8080/"
        },
        "id": "Y24IJ7TazGAW",
        "outputId": "24f7a9d6-deab-4203-f117-6e2d8121b020"
      },
      "execution_count": 35,
      "outputs": [
        {
          "output_type": "stream",
          "name": "stdout",
          "text": [
            "[0 1 1 1 0 0 1 0 1 1]\n",
            "[False  True  True  True False False  True False  True  True]\n",
            "[95 19  1 19 35 35]\n"
          ]
        }
      ]
    },
    {
      "cell_type": "code",
      "source": [
        "# 배열 array의 원소들 중에서 50 이상인 숫자들의 배열을 찾기:\n",
        "print(array[array >= 50])"
      ],
      "metadata": {
        "colab": {
          "base_uri": "https://localhost:8080/"
        },
        "id": "M4oQazTY20mj",
        "outputId": "6810a209-fd5e-4def-beb3-23c08ee921db"
      },
      "execution_count": 36,
      "outputs": [
        {
          "output_type": "stream",
          "name": "stdout",
          "text": [
            "[62 95 62]\n"
          ]
        }
      ]
    },
    {
      "cell_type": "markdown",
      "source": [
        "## NumPy의 통계 함수, 메서드\n",
        "\n",
        "* np.function(ndarray) 함수\n",
        "* np.ndarray.method() 메서"
      ],
      "metadata": {
        "id": "hRASO32j3_Dy"
      }
    },
    {
      "cell_type": "code",
      "source": [
        "array = np.array([1, 2, 3, 4, 5])\n",
        "print(array)"
      ],
      "metadata": {
        "colab": {
          "base_uri": "https://localhost:8080/"
        },
        "id": "bPAJWbDx4G-p",
        "outputId": "27d5f9e2-b0c9-4b95-852d-33a288e8a644"
      },
      "execution_count": 37,
      "outputs": [
        {
          "output_type": "stream",
          "name": "stdout",
          "text": [
            "[1 2 3 4 5]\n"
          ]
        }
      ]
    },
    {
      "cell_type": "code",
      "source": [
        "# 합계:\n",
        "print(np.sum(array)) # 함수\n",
        "print(array.sum()) # 메서드"
      ],
      "metadata": {
        "colab": {
          "base_uri": "https://localhost:8080/"
        },
        "id": "HFrocMZN4Kxr",
        "outputId": "12af5465-7096-4151-9f34-b237c39da79c"
      },
      "execution_count": 38,
      "outputs": [
        {
          "output_type": "stream",
          "name": "stdout",
          "text": [
            "15\n",
            "15\n"
          ]
        }
      ]
    },
    {
      "cell_type": "code",
      "source": [
        "# 평균\n",
        "print(np.mean(array)) # 함수\n",
        "print(array.mean()) # 메서드"
      ],
      "metadata": {
        "colab": {
          "base_uri": "https://localhost:8080/"
        },
        "id": "YJjfhMCm5NgT",
        "outputId": "a2ddeffb-4aec-407c-df78-0b9ecb26e7f7"
      },
      "execution_count": 39,
      "outputs": [
        {
          "output_type": "stream",
          "name": "stdout",
          "text": [
            "3.0\n",
            "3.0\n"
          ]
        }
      ]
    },
    {
      "cell_type": "markdown",
      "source": [
        "# 2차원 배열에서의 통계 함수, 메서드"
      ],
      "metadata": {
        "id": "dbQcn1-zmuk3"
      }
    },
    {
      "cell_type": "code",
      "source": [
        "# [0, 100) 범위의 정수 난수를 갖는 (3, 4) 모양(shape)을 갖는 2차원 ndarray:\n",
        "np.random.seed(1)\n",
        "array = np.random.randint(100, size=(3, 4))\n",
        "print(array)"
      ],
      "metadata": {
        "colab": {
          "base_uri": "https://localhost:8080/"
        },
        "id": "DMrQZYk2mxIL",
        "outputId": "3edb3635-fda4-4c79-e935-015ff4f488ae"
      },
      "execution_count": 40,
      "outputs": [
        {
          "output_type": "stream",
          "name": "stdout",
          "text": [
            "[[37 12 72  9]\n",
            " [75  5 79 64]\n",
            " [16  1 76 71]]\n"
          ]
        }
      ]
    },
    {
      "cell_type": "code",
      "source": [
        "np.sum(array)  # axis=None(기본값): 배열의 모든 원소들의 합계"
      ],
      "metadata": {
        "colab": {
          "base_uri": "https://localhost:8080/"
        },
        "id": "rxzN_s22myuL",
        "outputId": "fc85622c-d37c-40ca-8020-7cc51c09e699"
      },
      "execution_count": 41,
      "outputs": [
        {
          "output_type": "execute_result",
          "data": {
            "text/plain": [
              "517"
            ]
          },
          "metadata": {},
          "execution_count": 41
        }
      ]
    },
    {
      "cell_type": "code",
      "source": [
        "np.sum(array, axis=0)  # axis=0: 2차원 배열에서 첫번째 인덱스가 증가하는 축 방향으로 계산."
      ],
      "metadata": {
        "colab": {
          "base_uri": "https://localhost:8080/"
        },
        "id": "Y9Y1xSP5mzyE",
        "outputId": "fdf64b19-28d7-4008-dcbc-93c553d15c73"
      },
      "execution_count": 42,
      "outputs": [
        {
          "output_type": "execute_result",
          "data": {
            "text/plain": [
              "array([128,  18, 227, 144])"
            ]
          },
          "metadata": {},
          "execution_count": 42
        }
      ]
    },
    {
      "cell_type": "code",
      "source": [
        "np.sum(array, axis=1)  # axis=1: 2차원 배열에서 두번째 인덱스가 증가하는 축 방향으로 계산."
      ],
      "metadata": {
        "colab": {
          "base_uri": "https://localhost:8080/"
        },
        "id": "uluXvaqym0DX",
        "outputId": "559434d2-41ac-4a41-f250-a2b06536a80e"
      },
      "execution_count": 43,
      "outputs": [
        {
          "output_type": "execute_result",
          "data": {
            "text/plain": [
              "array([130, 223, 164])"
            ]
          },
          "metadata": {},
          "execution_count": 43
        }
      ]
    },
    {
      "cell_type": "code",
      "source": [
        "np.sum(array, axis=1, keepdims=True)"
      ],
      "metadata": {
        "colab": {
          "base_uri": "https://localhost:8080/"
        },
        "id": "cbQfE4M8m1_k",
        "outputId": "3a403d0e-fd6e-4923-882c-38e067cdfe57"
      },
      "execution_count": 44,
      "outputs": [
        {
          "output_type": "execute_result",
          "data": {
            "text/plain": [
              "array([[130],\n",
              "       [223],\n",
              "       [164]])"
            ]
          },
          "metadata": {},
          "execution_count": 44
        }
      ]
    },
    {
      "cell_type": "code",
      "source": [],
      "metadata": {
        "id": "usOndhJ4m3-u"
      },
      "execution_count": 44,
      "outputs": []
    }
  ]
}