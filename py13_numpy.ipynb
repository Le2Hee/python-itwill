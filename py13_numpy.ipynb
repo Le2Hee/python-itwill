{
  "nbformat": 4,
  "nbformat_minor": 0,
  "metadata": {
    "colab": {
      "provenance": [],
      "authorship_tag": "ABX9TyOSFOouTfqXBjDAlWMXILke"
    },
    "kernelspec": {
      "name": "python3",
      "display_name": "Python 3"
    },
    "language_info": {
      "name": "python"
    }
  },
  "cells": [
    {
      "cell_type": "markdown",
      "source": [],
      "metadata": {
        "id": "lqzyyf2TVdn8"
      }
    },
    {
      "cell_type": "markdown",
      "source": [
        "# 데이터 분석 패키지\n",
        "\n",
        "Google Golab에는 데이터 분석과 머신 러닝에 필요한 대부분의 패키지(라이브러리)들이 이미 설치가 되어 있다.\n",
        "\n",
        "* NumPy: 다차원 배열(n-dimensional array)을 다루는 패키지, 머신 러닝에서 중요하게 사용된다.\n",
        "* pandas: 시리즈(Serues), 데이터프레임(DataFrame)을 다루는 패키지.\n",
        "* matplotlib: 데이터 시각화(그래프).\n",
        "* seaborn: 데이터 시각화. 통계 작업."
      ],
      "metadata": {
        "id": "nP62g0iQVedr"
      }
    },
    {
      "cell_type": "code",
      "execution_count": 1,
      "metadata": {
        "id": "1ehTugCnVNsz"
      },
      "outputs": [],
      "source": [
        "import numpy as np\n",
        "import pandas as pd\n",
        "import matplotlib as mpl\n",
        "import seaborn as sns"
      ]
    },
    {
      "cell_type": "code",
      "source": [
        "print('NumPy version:', np.__version__)\n",
        "print('pands version:', pd.__version__)\n",
        "print('matplotlib version:', mpl.__version__)\n",
        "print('seaborn version:', sns.__version__)"
      ],
      "metadata": {
        "colab": {
          "base_uri": "https://localhost:8080/"
        },
        "id": "C65cZ-DpbOH5",
        "outputId": "053cad6f-d07d-4a6e-ebda-195181abae2a"
      },
      "execution_count": 2,
      "outputs": [
        {
          "output_type": "stream",
          "name": "stdout",
          "text": [
            "NumPy version: 1.22.4\n",
            "pands version: 1.5.3\n",
            "matplotlib version: 3.7.1\n",
            "seaborn version: 0.12.2\n"
          ]
        }
      ]
    },
    {
      "cell_type": "code",
      "source": [],
      "metadata": {
        "id": "8pIOihRZbk9i"
      },
      "execution_count": null,
      "outputs": []
    },
    {
      "cell_type": "markdown",
      "source": [
        "# Python `list` class\n",
        "\n",
        "* 파이썬의 리스트\n",
        "    * 여러 개의 값들을 저장할 수 있는 데이터 타입.\n",
        "    * 인덱스를 기반으로 값들을 저장, 참조하는 데이터 타입.\n",
        "        * indexing: 인덱스를 사용해서 원하는 위치의 값을 참조, 변경.\n",
        "        * slicing: `[start, end,)` 인덱스 범위의 값들로 이루어진 부분집합을 잘라내는 방법.\n",
        "    * 리스트에서는 산술연산이 2가지만 가능하다.\n",
        "        * `list + list`: 2개의 리스ㅡ를 이어붙이기.\n",
        "        * `list * 정수`, `정수 * list`: 리스트의 원소들을 정수 만큼 반복해서 복제."
      ],
      "metadata": {
        "id": "haoiA2_wcOzx"
      }
    },
    {
      "cell_type": "code",
      "source": [
        "list1 = [1, 2, 3, 4]\n",
        "list2 = [10, 20, 30, 40]"
      ],
      "metadata": {
        "id": "WnIPbdiEdLkS"
      },
      "execution_count": 3,
      "outputs": []
    },
    {
      "cell_type": "code",
      "source": [
        "# indexing:\n",
        "print(list1[0]) # list1의 첫번째 원소.\n",
        "print(list1[-1]) # list1의 마지막 원소."
      ],
      "metadata": {
        "colab": {
          "base_uri": "https://localhost:8080/"
        },
        "id": "jBLma5EXdQ5e",
        "outputId": "11479b06-46f9-46ae-bde8-dbbe7583df40"
      },
      "execution_count": 7,
      "outputs": [
        {
          "output_type": "stream",
          "name": "stdout",
          "text": [
            "1\n",
            "4\n"
          ]
        }
      ]
    },
    {
      "cell_type": "code",
      "source": [
        "#slicing\n",
        "print(list1[:3]) # list1에서 앞에서 3개 원소 자르기\n",
        "print(list1[-3:]) # list1에서 뒤에서 3개 원소 자르기"
      ],
      "metadata": {
        "colab": {
          "base_uri": "https://localhost:8080/"
        },
        "id": "84Ur2La0dvCv",
        "outputId": "5190bdf8-d5f4-4538-9139-f47603251254"
      },
      "execution_count": 8,
      "outputs": [
        {
          "output_type": "stream",
          "name": "stdout",
          "text": [
            "[1, 2, 3]\n",
            "[2, 3, 4]\n"
          ]
        }
      ]
    },
    {
      "cell_type": "code",
      "source": [
        "list1 + list2"
      ],
      "metadata": {
        "colab": {
          "base_uri": "https://localhost:8080/"
        },
        "id": "L5g8r7sld4_1",
        "outputId": "a60c30df-c85a-4371-cd4e-f654ce734d11"
      },
      "execution_count": 9,
      "outputs": [
        {
          "output_type": "execute_result",
          "data": {
            "text/plain": [
              "[1, 2, 3, 4, 10, 20, 30, 40]"
            ]
          },
          "metadata": {},
          "execution_count": 9
        }
      ]
    },
    {
      "cell_type": "code",
      "source": [
        "list1 * 3"
      ],
      "metadata": {
        "colab": {
          "base_uri": "https://localhost:8080/"
        },
        "id": "ssj-U_zYd6qC",
        "outputId": "b75a1d49-a46d-45ae-f325-d58393dc090f"
      },
      "execution_count": 10,
      "outputs": [
        {
          "output_type": "execute_result",
          "data": {
            "text/plain": [
              "[1, 2, 3, 4, 1, 2, 3, 4, 1, 2, 3, 4]"
            ]
          },
          "metadata": {},
          "execution_count": 10
        }
      ]
    },
    {
      "cell_type": "code",
      "source": [
        "#list1, list2에서 같은 인덱스 위치의 원소들끼리 덧셈\n",
        "[x + y for x, y in zip(list1, list2)]"
      ],
      "metadata": {
        "colab": {
          "base_uri": "https://localhost:8080/"
        },
        "id": "845MI0AOeQpl",
        "outputId": "17836d44-8075-4c2d-fb0d-24caf91b9629"
      },
      "execution_count": 12,
      "outputs": [
        {
          "output_type": "execute_result",
          "data": {
            "text/plain": [
              "[11, 22, 33, 44]"
            ]
          },
          "metadata": {},
          "execution_count": 12
        }
      ]
    },
    {
      "cell_type": "code",
      "source": [
        "# list1의 모든 원소에 3을 곱함.\n",
        "[3 * x for x in list1]"
      ],
      "metadata": {
        "colab": {
          "base_uri": "https://localhost:8080/"
        },
        "id": "4vHuuDooeXnl",
        "outputId": "b4abe4a4-1ca2-42db-9706-4380b85bcc1a"
      },
      "execution_count": 13,
      "outputs": [
        {
          "output_type": "execute_result",
          "data": {
            "text/plain": [
              "[3, 6, 9, 12]"
            ]
          },
          "metadata": {},
          "execution_count": 13
        }
      ]
    },
    {
      "cell_type": "markdown",
      "source": [
        "# NumPy\n",
        "\n",
        "* 배열(ndarray)을 쉽고 빠르게 연산(+, -, *, /, //, %, ...)을 수행하는 라이브러리.\n",
        "     * NumPy 안에 ndarray라는 클래스로 배열을 명시하고 있다.\n",
        "* NumPy 패키지의 함수 또는 메서드들을 대부분 반복문의 기능을 가지고 있다.\n",
        "* NumPy는 np.ndarray 클래스가 있는데, NumPy 패키지에서 기본 타입 클래스이고 n차원 배열(n-dimensional array)라는 뜻이다.\n",
        "    * **`ndarray`는 같은 인덱스(위치)에 있는 원소들끼리 연산을 수행을 한다**."
      ],
      "metadata": {
        "id": "E8WFBrPfimgg"
      }
    },
    {
      "cell_type": "code",
      "source": [
        "# NumPy array를 만드는 방법\n",
        "array1 = np.array([1, 2, 3]) # 파이썬의 list 객체를 numpy의 ndarray 객체로 변환.\n",
        "array1"
      ],
      "metadata": {
        "colab": {
          "base_uri": "https://localhost:8080/"
        },
        "id": "Te-t0myWedkO",
        "outputId": "a96d85fc-096d-4765-a575-45f482be9afe"
      },
      "execution_count": 15,
      "outputs": [
        {
          "output_type": "execute_result",
          "data": {
            "text/plain": [
              "array([1, 2, 3])"
            ]
          },
          "metadata": {},
          "execution_count": 15
        }
      ]
    },
    {
      "cell_type": "code",
      "source": [
        "type(array1)"
      ],
      "metadata": {
        "colab": {
          "base_uri": "https://localhost:8080/"
        },
        "id": "44wZYMzakVz8",
        "outputId": "fb877208-7f1f-4caa-e9b7-93460195479e"
      },
      "execution_count": 17,
      "outputs": [
        {
          "output_type": "execute_result",
          "data": {
            "text/plain": [
              "numpy.ndarray"
            ]
          },
          "metadata": {},
          "execution_count": 17
        }
      ]
    },
    {
      "cell_type": "code",
      "source": [
        "print(array1) # print() 는 __str__ 메서더의 리턴값을 출력."
      ],
      "metadata": {
        "colab": {
          "base_uri": "https://localhost:8080/"
        },
        "id": "YxS9vW48kcGX",
        "outputId": "af5ae2cc-0389-4b3c-8a1f-f596ad530af9"
      },
      "execution_count": 18,
      "outputs": [
        {
          "output_type": "stream",
          "name": "stdout",
          "text": [
            "[1 2 3]\n"
          ]
        }
      ]
    },
    {
      "cell_type": "code",
      "source": [
        "array1 # expression은 __repr__메서드의 리턴값을 출력."
      ],
      "metadata": {
        "colab": {
          "base_uri": "https://localhost:8080/"
        },
        "id": "4MU0X7HBkfEp",
        "outputId": "36a98f7f-d1fd-4208-9c6b-8198705259e9"
      },
      "execution_count": 20,
      "outputs": [
        {
          "output_type": "execute_result",
          "data": {
            "text/plain": [
              "array([1, 2, 3])"
            ]
          },
          "metadata": {},
          "execution_count": 20
        }
      ]
    },
    {
      "cell_type": "code",
      "source": [
        "array2 = np.array([4, 5, 6])\n",
        "print(array2)"
      ],
      "metadata": {
        "colab": {
          "base_uri": "https://localhost:8080/"
        },
        "id": "n6z-soNKlLEM",
        "outputId": "7f0688c4-4f0f-4e5d-e608-5ccff28a11e2"
      },
      "execution_count": 21,
      "outputs": [
        {
          "output_type": "stream",
          "name": "stdout",
          "text": [
            "[4 5 6]\n"
          ]
        }
      ]
    },
    {
      "cell_type": "code",
      "source": [
        "# nbarray의 사칙 연산 - 같은 인덱스의 원소들끼리(element-wrise) 연산이 수행된다.\n",
        "print(array1 + array2)\n",
        "print(array1 - array2)\n",
        "print(array1 / array2)\n",
        "print(array1 * array2)\n",
        "# for문보다 numpy가 속도가 더 빠르다."
      ],
      "metadata": {
        "colab": {
          "base_uri": "https://localhost:8080/"
        },
        "id": "mNX6WcbqlQBV",
        "outputId": "d457ae8e-4006-4330-9df4-fea9ca89a8e5"
      },
      "execution_count": 24,
      "outputs": [
        {
          "output_type": "stream",
          "name": "stdout",
          "text": [
            "[5 7 9]\n",
            "[-3 -3 -3]\n",
            "[0.25 0.4  0.5 ]\n",
            "[ 4 10 18]\n"
          ]
        }
      ]
    },
    {
      "cell_type": "markdown",
      "source": [
        "## `ndarray`클래스의 속성들"
      ],
      "metadata": {
        "id": "jz_OvECHmYBv"
      }
    },
    {
      "cell_type": "code",
      "source": [
        "print(array1)\n",
        "print('ndim: ', array1.ndim) # 차원 (dimesion), 배열의 축(axis)의 개수. (1차원 배열)\n",
        "print('size:', array1.size) # 배열의 크기, 원소 개수.\n",
        "print('shape: ', array1.shape) # 배열의 모양. 각 차원에서의 원소 개수.\n",
        "print('dtype:', array1.dtype) # 배열 원소의 데이터 타입. -> 64비트의 int를 저장, (java에서 long)"
      ],
      "metadata": {
        "colab": {
          "base_uri": "https://localhost:8080/"
        },
        "id": "MSIZu4E1mXC_",
        "outputId": "544c1f56-ed0d-4a7a-9378-8b8608ff90c4"
      },
      "execution_count": 30,
      "outputs": [
        {
          "output_type": "stream",
          "name": "stdout",
          "text": [
            "[1 2 3]\n",
            "ndim:  1\n",
            "size: 3\n",
            "shape:  (3,)\n",
            "dtype: int64\n"
          ]
        }
      ]
    },
    {
      "cell_type": "markdown",
      "source": [
        "* 파이썬의 `list`와 다른 점\n",
        "    * `ndarray`는 한 가지 타입의 데이터들만 저장할 수 있는 데이터 타입이다."
      ],
      "metadata": {
        "id": "bU8dfn6noNOW"
      }
    },
    {
      "cell_type": "markdown",
      "source": [
        "## 2차원 배열"
      ],
      "metadata": {
        "id": "cyUHWyj0o1pG"
      }
    },
    {
      "cell_type": "code",
      "source": [
        "array_2d = np.array([\n",
        "    [1, 2, 3, 4],\n",
        "    [5, 6, 7, 8],\n",
        "    [9, 10, 11, 12]\n",
        "])"
      ],
      "metadata": {
        "id": "tJ4fuDglmfCr"
      },
      "execution_count": 31,
      "outputs": []
    },
    {
      "cell_type": "code",
      "source": [
        "type(array_2d)"
      ],
      "metadata": {
        "colab": {
          "base_uri": "https://localhost:8080/"
        },
        "id": "H19EyHoapWIZ",
        "outputId": "8cbc0c68-c341-4878-99b0-57b701e1168e"
      },
      "execution_count": 33,
      "outputs": [
        {
          "output_type": "execute_result",
          "data": {
            "text/plain": [
              "numpy.ndarray"
            ]
          },
          "metadata": {},
          "execution_count": 33
        }
      ]
    },
    {
      "cell_type": "code",
      "source": [
        "print(array_2d)"
      ],
      "metadata": {
        "colab": {
          "base_uri": "https://localhost:8080/"
        },
        "id": "p_RHExEqpZ9F",
        "outputId": "4978974e-ef10-4206-e89e-38501a8c9113"
      },
      "execution_count": 35,
      "outputs": [
        {
          "output_type": "stream",
          "name": "stdout",
          "text": [
            "[[ 1  2  3  4]\n",
            " [ 5  6  7  8]\n",
            " [ 9 10 11 12]]\n"
          ]
        }
      ]
    },
    {
      "cell_type": "code",
      "source": [
        "array_2d"
      ],
      "metadata": {
        "colab": {
          "base_uri": "https://localhost:8080/"
        },
        "id": "yHoUhJVvpqd_",
        "outputId": "0d767727-bb07-4618-a64c-79e9da455785"
      },
      "execution_count": 36,
      "outputs": [
        {
          "output_type": "execute_result",
          "data": {
            "text/plain": [
              "array([[ 1,  2,  3,  4],\n",
              "       [ 5,  6,  7,  8],\n",
              "       [ 9, 10, 11, 12]])"
            ]
          },
          "metadata": {},
          "execution_count": 36
        }
      ]
    },
    {
      "cell_type": "code",
      "source": [
        "print('ndim: ', array_2d.ndim)\n",
        "print('size:', array_2d.size) # length랑 구별을 해야한다. -> 3개가 나온다.\n",
        "print('shape: ', array_2d.shape)\n",
        "print('dtype:', array_2d.dtype)"
      ],
      "metadata": {
        "colab": {
          "base_uri": "https://localhost:8080/"
        },
        "id": "Zx0S1p4zprUF",
        "outputId": "37de3929-f966-4378-c91e-3a5c9efbdbdc"
      },
      "execution_count": 37,
      "outputs": [
        {
          "output_type": "stream",
          "name": "stdout",
          "text": [
            "ndim:  2\n",
            "size: 12\n",
            "shape:  (3, 4)\n",
            "dtype: int64\n"
          ]
        }
      ]
    },
    {
      "cell_type": "markdown",
      "source": [
        "### 2차원 `ndarray`의 인덱스 사용 방법:\n",
        "\n",
        "* `array[i][j]` - Python list와 같은 사용 방법.\n",
        "* `array[i, j]` - ndarray에서만 사용 가능."
      ],
      "metadata": {
        "id": "FUxoMvKEvBe1"
      }
    },
    {
      "cell_type": "code",
      "source": [
        "array_2d[0, 0] # array_2d[0][0]"
      ],
      "metadata": {
        "colab": {
          "base_uri": "https://localhost:8080/"
        },
        "id": "Ojd3GJa5v2cD",
        "outputId": "85f9b0df-f809-481a-806a-696008f50cbb"
      },
      "execution_count": 39,
      "outputs": [
        {
          "output_type": "execute_result",
          "data": {
            "text/plain": [
              "1"
            ]
          },
          "metadata": {},
          "execution_count": 39
        }
      ]
    },
    {
      "cell_type": "code",
      "source": [
        "array_2d[1, 2]"
      ],
      "metadata": {
        "colab": {
          "base_uri": "https://localhost:8080/"
        },
        "id": "KF1-njKywLmj",
        "outputId": "6d50f5fb-a3b7-46bc-e2ef-b5ac0b73f7f6"
      },
      "execution_count": 40,
      "outputs": [
        {
          "output_type": "execute_result",
          "data": {
            "text/plain": [
              "7"
            ]
          },
          "metadata": {},
          "execution_count": 40
        }
      ]
    },
    {
      "cell_type": "markdown",
      "source": [
        "## `ndarray` 인덱스\n",
        "\n"
      ],
      "metadata": {
        "id": "WOwau57rwW98"
      }
    },
    {
      "cell_type": "code",
      "source": [
        "# [0, 100) 범위의 정수 난수 10개를 갖는 ndarray 객체를 생성:\n",
        "array = np.random.randint(0, 100, size=10)\n",
        "print(array)"
      ],
      "metadata": {
        "colab": {
          "base_uri": "https://localhost:8080/"
        },
        "id": "FadMbyaCwqpl",
        "outputId": "4c4cd196-e7a6-4a28-f34f-db6b5bff311a"
      },
      "execution_count": 46,
      "outputs": [
        {
          "output_type": "stream",
          "name": "stdout",
          "text": [
            "[27  1 96  5 16 46 89 59 90 36]\n"
          ]
        }
      ]
    },
    {
      "cell_type": "code",
      "source": [
        "# indexing:\n",
        "print(array[0]) # 첫번쨰 원소\n",
        "print(array[-1]) # 마지막 원소"
      ],
      "metadata": {
        "colab": {
          "base_uri": "https://localhost:8080/"
        },
        "id": "gKGoGh5ywWq0",
        "outputId": "b3dff85a-9671-47a9-f42e-81516aeebf57"
      },
      "execution_count": 48,
      "outputs": [
        {
          "output_type": "stream",
          "name": "stdout",
          "text": [
            "27\n",
            "36\n"
          ]
        }
      ]
    },
    {
      "cell_type": "code",
      "source": [
        "# slicing:\n",
        "print(array[:3]) # 첫 3개 원소 자르기\n",
        "print(array[-3:]) # 마지막 3개 원소 자르기"
      ],
      "metadata": {
        "colab": {
          "base_uri": "https://localhost:8080/"
        },
        "id": "J9ig3FGdx5cf",
        "outputId": "76b27f47-4f97-41cf-a082-b463da0636c6"
      },
      "execution_count": 50,
      "outputs": [
        {
          "output_type": "stream",
          "name": "stdout",
          "text": [
            "[27  1 96]\n",
            "[59 90 36]\n"
          ]
        }
      ]
    },
    {
      "cell_type": "code",
      "source": [
        "print(array[0]) # indexinf -> 아이템(값)\n",
        "print(array[0:1]) # slicing -> 배열(ndarray)"
      ],
      "metadata": {
        "colab": {
          "base_uri": "https://localhost:8080/"
        },
        "id": "dcyP5mLMyeMi",
        "outputId": "a4541b71-f5ad-489d-fdc6-7bf53ed8530d"
      },
      "execution_count": 51,
      "outputs": [
        {
          "output_type": "stream",
          "name": "stdout",
          "text": [
            "27\n",
            "[27]\n"
          ]
        }
      ]
    },
    {
      "cell_type": "markdown",
      "source": [
        "### fancy indeing\n",
        "\n",
        "* 배열과 비슷한 객체(ndarray, list, tuple, set, ...)를 사용해서 원하는 원소들을 참조하는 방법.\n",
        "* fabcy indexing의 결과는 ndarray."
      ],
      "metadata": {
        "id": "P_GWhi1ezb1L"
      }
    },
    {
      "cell_type": "code",
      "source": [
        "print(array)\n",
        "print(array[0]) # indexing -> item\n",
        "print(array[[0, 2, 4]]) # 배열에서 index 0, 2, 4을 골라달라는 의미이다.\n",
        "print(array[[0]]) # 배열."
      ],
      "metadata": {
        "colab": {
          "base_uri": "https://localhost:8080/"
        },
        "id": "wmSDOktdymYV",
        "outputId": "00537eb8-86bb-4155-8188-ce3dcba47544"
      },
      "execution_count": 54,
      "outputs": [
        {
          "output_type": "stream",
          "name": "stdout",
          "text": [
            "[27  1 96  5 16 46 89 59 90 36]\n",
            "27\n",
            "[27 96 16]\n",
            "[27]\n"
          ]
        }
      ]
    },
    {
      "cell_type": "markdown",
      "source": [
        "### boolean indexing\n",
        "\n",
        "* 논리값(True/Fasle)들의 배열 (리스트, 튜플, ...)을 사용한 fanct indexing방법.\n",
        "* 배열에서 조건을 만족하는 원소들로 이루어진 부분집합(ndarray)를 만드는 방법."
      ],
      "metadata": {
        "id": "2KptXhcP03Pq"
      }
    },
    {
      "cell_type": "code",
      "source": [
        "print(array)\n",
        "print(array[[True, False, True, False, True, False, True, False, True, False]])"
      ],
      "metadata": {
        "colab": {
          "base_uri": "https://localhost:8080/"
        },
        "id": "W2FmM5fr1Fc6",
        "outputId": "57d79fbe-3512-47c8-ebeb-e5720c763474"
      },
      "execution_count": 55,
      "outputs": [
        {
          "output_type": "stream",
          "name": "stdout",
          "text": [
            "[27  1 96  5 16 46 89 59 90 36]\n",
            "[27 96 16 89 90]\n"
          ]
        }
      ]
    },
    {
      "cell_type": "code",
      "source": [
        "# 배열 array의 원소들 중 홀수들만 찾기:\n",
        "print(array % 2) # list는 연산이 안되지만 배열은 나누기를 각각의 아이템에 % 2한 결과를 리턴한다.\n",
        "print(array % 2 == 1)\n",
        "print(array[array % 2 == 1])"
      ],
      "metadata": {
        "colab": {
          "base_uri": "https://localhost:8080/"
        },
        "id": "Y24IJ7TazGAW",
        "outputId": "d73b8632-ea69-4b20-efd6-b31bf9bc6435"
      },
      "execution_count": 61,
      "outputs": [
        {
          "output_type": "stream",
          "name": "stdout",
          "text": [
            "[1 1 0 1 0 0 1 1 0 0]\n",
            "[ True  True False  True False False  True  True False False]\n",
            "[27  1  5 89 59]\n"
          ]
        }
      ]
    },
    {
      "cell_type": "code",
      "source": [
        "# 배열 array의 원소들 중에서 50 이상인 숫자들의 배열을 찾기:\n",
        "print(array[array >= 50])"
      ],
      "metadata": {
        "colab": {
          "base_uri": "https://localhost:8080/"
        },
        "id": "M4oQazTY20mj",
        "outputId": "c4e00e80-2532-42d5-a128-a154f395cc9f"
      },
      "execution_count": 62,
      "outputs": [
        {
          "output_type": "stream",
          "name": "stdout",
          "text": [
            "[96 89 59 90]\n"
          ]
        }
      ]
    },
    {
      "cell_type": "markdown",
      "source": [
        "## NumPy의 통계 함수, 메서드\n",
        "\n",
        "* np.function(ndarray) 함수\n",
        "* np.ndarray.method() 메서"
      ],
      "metadata": {
        "id": "hRASO32j3_Dy"
      }
    },
    {
      "cell_type": "code",
      "source": [
        "array = np.array([1, 2, 3, 4, 5])\n",
        "print(array)"
      ],
      "metadata": {
        "colab": {
          "base_uri": "https://localhost:8080/"
        },
        "id": "bPAJWbDx4G-p",
        "outputId": "2c3ca888-5311-48aa-b22f-f0d5aeffab10"
      },
      "execution_count": 63,
      "outputs": [
        {
          "output_type": "stream",
          "name": "stdout",
          "text": [
            "[1 2 3 4 5]\n"
          ]
        }
      ]
    },
    {
      "cell_type": "code",
      "source": [
        "# 합계:\n",
        "print(np.sum(array)) # 함수\n",
        "print(array.sum()) # 메서드"
      ],
      "metadata": {
        "colab": {
          "base_uri": "https://localhost:8080/"
        },
        "id": "HFrocMZN4Kxr",
        "outputId": "197993ba-e9cd-43ab-ae29-d1b42c5dfa8c"
      },
      "execution_count": 66,
      "outputs": [
        {
          "output_type": "stream",
          "name": "stdout",
          "text": [
            "15\n",
            "15\n"
          ]
        }
      ]
    },
    {
      "cell_type": "code",
      "source": [
        "# 평균\n",
        "print(np.mean(array)) # 함수\n",
        "print(array.mean()) # 메서드"
      ],
      "metadata": {
        "colab": {
          "base_uri": "https://localhost:8080/"
        },
        "id": "YJjfhMCm5NgT",
        "outputId": "65a22a20-ef85-4f85-89fb-ee6963128064"
      },
      "execution_count": 68,
      "outputs": [
        {
          "output_type": "stream",
          "name": "stdout",
          "text": [
            "3.0\n",
            "3.0\n"
          ]
        }
      ]
    }
  ]
}